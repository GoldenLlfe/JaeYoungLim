{
 "cells": [
  {
   "cell_type": "code",
   "execution_count": 1,
   "metadata": {},
   "outputs": [],
   "source": [
    "import tensorflow_datasets as tfds\n",
    "from sklearn.model_selection import train_test_split\n",
    "import tensorflow as tf\n",
    "\n",
    "import time\n",
    "import numpy as np\n",
    "import matplotlib.pyplot as plt\n",
    "import pandas as pd\n",
    "import urllib.request\n",
    "import tensorflow_datasets as tfds\n",
    "import tensorflow as tf\n",
    "import time\n",
    "import numpy as np\n",
    "import matplotlib.pyplot as plt\n",
    "import re"
   ]
  },
  {
   "cell_type": "code",
   "execution_count": 2,
   "metadata": {},
   "outputs": [],
   "source": [
    "from matplotlib import font_manager, rc\n",
    "font_path = \"C:/Windows/Fonts/NGULIM.TTF\"\n",
    "font = font_manager.FontProperties(fname=font_path).get_name()\n",
    "rc('font', family=font)"
   ]
  },
  {
   "cell_type": "code",
   "execution_count": 3,
   "metadata": {},
   "outputs": [],
   "source": [
    "from eunjeon import Mecab\n",
    "mecab = Mecab()\n",
    "\n",
    "def process_data(path, isKor = False, s_token = False, e_token = False):\n",
    "    with open(path, \"r\", encoding='utf8') as f:\n",
    "        raw = f.read().splitlines()\n",
    "    output = []\n",
    "    for sentence in raw:\n",
    "        # 소문자 변경\n",
    "        if isKor == False:\n",
    "            sentence = sentence.lower().strip()\n",
    "\n",
    "        # 1. 문장 부호를 \\1\n",
    "        sentence = re.sub(r\"([?.!,'“”\\\"])\", r\" \\1 \", sentence)\n",
    "        # 2. [ ] --> 공백\n",
    "        sentence = re.sub(r'[\" \"]+', \" \", sentence)\n",
    "        # 3. 모든 알파벳, 문장기호를 제외한 것들을 공백으로 바꿔주세요.\n",
    "        if isKor == False:\n",
    "            sentence = re.sub(r\"[^a-zA-Z0-9?!.,'“”\\\"]+\", \" \", sentence)\n",
    "        else:\n",
    "            sentence = re.sub(r\"[^ㄱ-ㅎㅏ-ㅣ가-힣a-zA-Z0-9?!.,'“”\\\"]+\", \" \", sentence)\n",
    "            sentence = ' '.join(mecab.morphs(sentence))\n",
    "\n",
    "        sentence = sentence.strip()\n",
    "\n",
    "        if s_token:\n",
    "            sentence = '<start> ' + sentence\n",
    "\n",
    "        if e_token:\n",
    "            sentence += ' <end>'\n",
    "        output.append(sentence)\n",
    "    return output"
   ]
  },
  {
   "cell_type": "code",
   "execution_count": 4,
   "metadata": {},
   "outputs": [],
   "source": [
    "eng = process_data('./kor_eng/eng.txt')\n",
    "kor = process_data('./kor_eng/kor.txt', isKor=True)"
   ]
  },
  {
   "cell_type": "code",
   "execution_count": 5,
   "metadata": {},
   "outputs": [],
   "source": [
    "eng_kor = pd.DataFrame({'eng': eng, 'kor':kor})\n",
    "kor_eng = pd.DataFrame({'kor': kor, 'eng':eng})"
   ]
  },
  {
   "cell_type": "code",
   "execution_count": 6,
   "metadata": {},
   "outputs": [],
   "source": [
    "tokenizer_eng = tfds.deprecated.text.SubwordTextEncoder.build_from_corpus(\n",
    "    eng, target_vocab_size = 2**13\n",
    ")\n",
    "\n",
    "\n",
    "tokenizer_kor = tfds.deprecated.text.SubwordTextEncoder.build_from_corpus(\n",
    "    kor, target_vocab_size = 2**13\n",
    ")\n"
   ]
  },
  {
   "cell_type": "code",
   "execution_count": 7,
   "metadata": {},
   "outputs": [
    {
     "name": "stdout",
     "output_type": "stream",
     "text": [
      "Tokenized string is [7635, 6177, 3956, 3480, 249, 10, 7280, 381, 3486, 7597]\n",
      "The original string: Transformer is awesome.\n"
     ]
    }
   ],
   "source": [
    "sample_string = 'Transformer is awesome.'\n",
    "\n",
    "tokenized_string = tokenizer_eng.encode(sample_string)\n",
    "print ('Tokenized string is {}'.format(tokenized_string))\n",
    "\n",
    "original_string = tokenizer_eng.decode(tokenized_string)\n",
    "print ('The original string: {}'.format(original_string))\n",
    "\n",
    "assert original_string == sample_string"
   ]
  },
  {
   "cell_type": "code",
   "execution_count": 8,
   "metadata": {},
   "outputs": [
    {
     "name": "stdout",
     "output_type": "stream",
     "text": [
      "7635 ----> T\n",
      "6177 ----> ran\n",
      "3956 ----> sf\n",
      "3480 ----> orm\n",
      "249 ----> er \n",
      "10 ----> is \n",
      "7280 ----> aw\n",
      "381 ----> es\n",
      "3486 ----> ome\n",
      "7597 ----> .\n"
     ]
    }
   ],
   "source": [
    "for ts in tokenized_string:\n",
    "  print ('{} ----> {}'.format(ts, tokenizer_eng.decode([ts])))"
   ]
  },
  {
   "cell_type": "code",
   "execution_count": 9,
   "metadata": {},
   "outputs": [],
   "source": [
    "BUFFER_SIZE = 20000\n",
    "BATCH_SIZE = 256"
   ]
  },
  {
   "cell_type": "code",
   "execution_count": 10,
   "metadata": {},
   "outputs": [],
   "source": [
    "def encode(lang1, lang2):\n",
    "  lang1 = [tokenizer_kor.vocab_size] + tokenizer_kor.encode(\n",
    "      lang1.numpy()) + [tokenizer_kor.vocab_size+1]\n",
    "\n",
    "  lang2 = [tokenizer_eng.vocab_size] + tokenizer_eng.encode(\n",
    "      lang2.numpy()) + [tokenizer_eng.vocab_size+1]\n",
    "  \n",
    "  return lang1, lang2"
   ]
  },
  {
   "cell_type": "code",
   "execution_count": 11,
   "metadata": {},
   "outputs": [],
   "source": [
    "def tf_encode(kor_eng):\n",
    "  # print(kor_eng)\n",
    "  result_kor, result_eng = tf.py_function(encode, [kor_eng['kor'], kor_eng['eng']], [tf.int64, tf.int64])\n",
    "  result_kor.set_shape([None])\n",
    "  result_eng.set_shape([None])\n",
    "\n",
    "  return result_kor, result_eng"
   ]
  },
  {
   "cell_type": "code",
   "execution_count": 12,
   "metadata": {},
   "outputs": [],
   "source": [
    "MAX_LENGTH = 40"
   ]
  },
  {
   "cell_type": "code",
   "execution_count": 13,
   "metadata": {},
   "outputs": [],
   "source": [
    "def filter_max_length(x, y, max_length=MAX_LENGTH):\n",
    "  return tf.logical_and(tf.size(x) <= max_length,\n",
    "                        tf.size(y) <= max_length)"
   ]
  },
  {
   "cell_type": "code",
   "execution_count": 14,
   "metadata": {},
   "outputs": [],
   "source": [
    "train_example, val_examples = train_test_split(kor_eng, test_size=0.2, shuffle=False)\n",
    "train_example = tf.data.Dataset.from_tensor_slices(dict(train_example))\n",
    "# print(train_example)\n",
    "train_dataset = train_example.map(tf_encode)\n",
    "train_dataset = train_dataset.filter(filter_max_length)\n",
    "# cache the dataset to memory to get a speedup while reading from it.\n",
    "train_dataset = train_dataset.cache()\n",
    "train_dataset = train_dataset.shuffle(BUFFER_SIZE).padded_batch(BATCH_SIZE)\n",
    "train_dataset = train_dataset.prefetch(tf.data.experimental.AUTOTUNE)\n",
    "\n",
    "val_examples = tf.data.Dataset.from_tensor_slices(dict(val_examples))\n",
    "val_dataset = val_examples.map(tf_encode)\n",
    "val_dataset = val_dataset.filter(filter_max_length).padded_batch(BATCH_SIZE)"
   ]
  },
  {
   "cell_type": "code",
   "execution_count": 15,
   "metadata": {},
   "outputs": [
    {
     "data": {
      "text/plain": [
       "(<tf.Tensor: shape=(256, 40), dtype=int64, numpy=\n",
       " array([[8707,   15,  125, ...,    0,    0,    0],\n",
       "        [8707,  730,    8, ...,    0,    0,    0],\n",
       "        [8707,   16,   56, ...,    0,    0,    0],\n",
       "        ...,\n",
       "        [8707,   16,  382, ...,    0,    0,    0],\n",
       "        [8707,  184,    8, ...,    0,    0,    0],\n",
       "        [8707,   51,  413, ...,    0,    0,    0]], dtype=int64)>,\n",
       " <tf.Tensor: shape=(256, 39), dtype=int64, numpy=\n",
       " array([[7807,    1,   43, ...,    0,    0,    0],\n",
       "        [7807,    8,  454, ...,    0,    0,    0],\n",
       "        [7807,    8,    1, ...,    0,    0,    0],\n",
       "        ...,\n",
       "        [7807,    1,  682, ...,    0,    0,    0],\n",
       "        [7807,   20,  122, ...,    0,    0,    0],\n",
       "        [7807,    1,   44, ...,    0,    0,    0]], dtype=int64)>)"
      ]
     },
     "execution_count": 15,
     "metadata": {},
     "output_type": "execute_result"
    }
   ],
   "source": [
    "pt_batch, en_batch = next(iter(val_dataset))\n",
    "pt_batch, en_batch"
   ]
  },
  {
   "cell_type": "code",
   "execution_count": null,
   "metadata": {},
   "outputs": [],
   "source": []
  },
  {
   "cell_type": "markdown",
   "metadata": {
    "id": "nBQuibYA4n0n"
   },
   "source": [
    "## Positional encoding\n",
    "\n",
    "Since this model doesn't contain any recurrence or convolution, positional encoding is added to give the model some information about the relative position of the words in the sentence. \n",
    "\n",
    "The positional encoding vector is added to the embedding vector. Embeddings represent a token in a d-dimensional space where tokens with similar meaning will be closer to each other. But the embeddings do not encode the relative position of words in a sentence. So after adding the positional encoding, words will be closer to each other based on the *similarity of their meaning and their position in the sentence*, in the d-dimensional space.\n",
    "\n",
    "See the notebook on [positional encoding](https://github.com/tensorflow/examples/blob/master/community/en/position_encoding.ipynb) to learn more about it. The formula for calculating the positional encoding is as follows:\n",
    "\n",
    "$$\\Large{PE_{(pos, 2i)} = sin(pos / 10000^{2i / d_{model}})} $$\n",
    "$$\\Large{PE_{(pos, 2i+1)} = cos(pos / 10000^{2i / d_{model}})} $$"
   ]
  },
  {
   "cell_type": "code",
   "execution_count": 16,
   "metadata": {
    "id": "WhIOZjMNKujn"
   },
   "outputs": [],
   "source": [
    "def get_angles(pos, i, d_model):\n",
    "  angle_rates = 1 / np.power(10000, (2 * (i//2)) / np.float32(d_model))\n",
    "  return pos * angle_rates"
   ]
  },
  {
   "cell_type": "code",
   "execution_count": 17,
   "metadata": {
    "id": "1Rz82wEs5biZ"
   },
   "outputs": [],
   "source": [
    "def positional_encoding(position, d_model):\n",
    "  angle_rads = get_angles(np.arange(position)[:, np.newaxis],\n",
    "                          np.arange(d_model)[np.newaxis, :],\n",
    "                          d_model)\n",
    "  \n",
    "  # apply sin to even indices in the array; 2i\n",
    "  angle_rads[:, 0::2] = np.sin(angle_rads[:, 0::2])\n",
    "  \n",
    "  # apply cos to odd indices in the array; 2i+1\n",
    "  angle_rads[:, 1::2] = np.cos(angle_rads[:, 1::2])\n",
    "    \n",
    "  pos_encoding = angle_rads[np.newaxis, ...]\n",
    "    \n",
    "  return tf.cast(pos_encoding, dtype=tf.float32)"
   ]
  },
  {
   "cell_type": "code",
   "execution_count": 18,
   "metadata": {
    "colab": {
     "base_uri": "https://localhost:8080/",
     "height": 300
    },
    "id": "1kLCla68EloE",
    "outputId": "e26c2478-14bd-4d04-ceba-b5babfa06e50"
   },
   "outputs": [
    {
     "name": "stdout",
     "output_type": "stream",
     "text": [
      "(1, 50, 512)\n"
     ]
    },
    {
     "data": {
      "image/png": "[encoded data removed]",
      "text/plain": [
       "<Figure size 432x288 with 2 Axes>"
      ]
     },
     "metadata": {
      "needs_background": "light"
     },
     "output_type": "display_data"
    }
   ],
   "source": [
    "pos_encoding = positional_encoding(50, 512)\n",
    "print (pos_encoding.shape)\n",
    "\n",
    "plt.pcolormesh(pos_encoding[0], cmap='RdBu')\n",
    "plt.xlabel('Depth')\n",
    "plt.xlim((0, 512))\n",
    "plt.ylabel('Position')\n",
    "plt.colorbar()\n",
    "plt.show()"
   ]
  },
  {
   "cell_type": "markdown",
   "metadata": {
    "id": "a_b4ou4TYqUN"
   },
   "source": [
    "## Masking"
   ]
  },
  {
   "cell_type": "markdown",
   "metadata": {
    "id": "s42Uydjkv0hF"
   },
   "source": [
    "Mask all the pad tokens in the batch of sequence. It ensures that the model does not treat padding as the input. The mask indicates where pad value `0` is present: it outputs a `1` at those locations, and a `0` otherwise."
   ]
  },
  {
   "cell_type": "code",
   "execution_count": 19,
   "metadata": {
    "id": "U2i8-e1s8ti9"
   },
   "outputs": [],
   "source": [
    "def create_padding_mask(seq):\n",
    "  seq = tf.cast(tf.math.equal(seq, 0), tf.float32)\n",
    "  \n",
    "  # add extra dimensions to add the padding\n",
    "  # to the attention logits.\n",
    "  return seq[:, tf.newaxis, tf.newaxis, :]  # (batch_size, 1, 1, seq_len)"
   ]
  },
  {
   "cell_type": "code",
   "execution_count": 20,
   "metadata": {
    "colab": {
     "base_uri": "https://localhost:8080/",
     "height": 153
    },
    "id": "A7BYeBCNvi7n",
    "outputId": "ebe1090a-239c-4910-af75-cf7c51e3653e"
   },
   "outputs": [
    {
     "data": {
      "text/plain": [
       "<tf.Tensor: shape=(3, 1, 1, 5), dtype=float32, numpy=\n",
       "array([[[[0., 0., 1., 1., 0.]]],\n",
       "\n",
       "\n",
       "       [[[0., 0., 0., 1., 1.]]],\n",
       "\n",
       "\n",
       "       [[[1., 1., 1., 0., 0.]]]], dtype=float32)>"
      ]
     },
     "execution_count": 20,
     "metadata": {},
     "output_type": "execute_result"
    }
   ],
   "source": [
    "x = tf.constant([[7, 6, 0, 0, 1], [1, 2, 3, 0, 0], [0, 0, 0, 4, 5]])\n",
    "create_padding_mask(x)"
   ]
  },
  {
   "cell_type": "markdown",
   "metadata": {
    "id": "Z0hzukDBgVom"
   },
   "source": [
    "The look-ahead mask is used to mask the future tokens in a sequence. In other words, the mask indicates which entries should not be used.\n",
    "\n",
    "This means that to predict the third word, only the first and second word will be used. Similarly to predict the fourth word, only the first, second and the third word will be used and so on."
   ]
  },
  {
   "cell_type": "code",
   "execution_count": 21,
   "metadata": {
    "id": "dVxS8OPI9uI0"
   },
   "outputs": [],
   "source": [
    "def create_look_ahead_mask(size):\n",
    "  mask = 1 - tf.linalg.band_part(tf.ones((size, size)), -1, 0)\n",
    "  return mask  # (seq_len, seq_len)"
   ]
  },
  {
   "cell_type": "code",
   "execution_count": 22,
   "metadata": {
    "colab": {
     "base_uri": "https://localhost:8080/",
     "height": 85
    },
    "id": "yxKGuXxaBeeE",
    "outputId": "b65873a4-6826-478c-eb12-64c989760532"
   },
   "outputs": [
    {
     "data": {
      "text/plain": [
       "<tf.Tensor: shape=(3, 3), dtype=float32, numpy=\n",
       "array([[0., 1., 1.],\n",
       "       [0., 0., 1.],\n",
       "       [0., 0., 0.]], dtype=float32)>"
      ]
     },
     "execution_count": 22,
     "metadata": {},
     "output_type": "execute_result"
    }
   ],
   "source": [
    "x = tf.random.uniform((1, 3))\n",
    "temp = create_look_ahead_mask(x.shape[1])\n",
    "temp"
   ]
  },
  {
   "cell_type": "markdown",
   "metadata": {
    "id": "xluDl5cXYy4y"
   },
   "source": [
    "## Scaled dot product attention"
   ]
  },
  {
   "cell_type": "markdown",
   "metadata": {
    "id": "vsxEE_-Wa1gF"
   },
   "source": [
    "<img src=\"https://www.tensorflow.org/images/tutorials/transformer/scaled_attention.png\" width=\"500\" alt=\"scaled_dot_product_attention\">\n",
    "\n",
    "The attention function used by the transformer takes three inputs: Q (query), K (key), V (value). The equation used to calculate the attention weights is:\n",
    "\n",
    "$$\\Large{Attention(Q, K, V) = softmax_k(\\frac{QK^T}{\\sqrt{d_k}}) V} $$\n",
    "\n",
    "The dot-product attention is scaled by a factor of square root of the depth. This is done because for large values of depth, the dot product grows large in magnitude pushing the softmax function where it has small gradients resulting in a very hard softmax. \n",
    "\n",
    "For example, consider that `Q` and `K` have a mean of 0 and variance of 1. Their matrix multiplication will have a mean of 0 and variance of `dk`. Hence, *square root of `dk`* is used for scaling (and not any other number) because the matmul of `Q` and `K` should have a mean of 0 and variance of 1, and you get a gentler softmax.\n",
    "\n",
    "The mask is multiplied with -1e9 (close to negative infinity). This is done because the mask is summed with the scaled matrix multiplication of Q and K and is applied immediately before a softmax. The goal is to zero out these cells, and large negative inputs to softmax are near zero in the output."
   ]
  },
  {
   "cell_type": "code",
   "execution_count": 23,
   "metadata": {
    "id": "LazzUq3bJ5SH"
   },
   "outputs": [],
   "source": [
    "def scaled_dot_product_attention(q, k, v, mask):\n",
    "  \"\"\"Calculate the attention weights.\n",
    "  q, k, v must have matching leading dimensions.\n",
    "  k, v must have matching penultimate dimension, i.e.: seq_len_k = seq_len_v.\n",
    "  The mask has different shapes depending on its type(padding or look ahead) \n",
    "  but it must be broadcastable for addition.\n",
    "  \n",
    "  Args:\n",
    "    q: query shape == (..., seq_len_q, depth)\n",
    "    k: key shape == (..., seq_len_k, depth)\n",
    "    v: value shape == (..., seq_len_v, depth_v)\n",
    "    mask: Float tensor with shape broadcastable \n",
    "          to (..., seq_len_q, seq_len_k). Defaults to None.\n",
    "    \n",
    "  Returns:\n",
    "    output, attention_weights\n",
    "  \"\"\"\n",
    "\n",
    "  matmul_qk = tf.matmul(q, k, transpose_b=True)  # (..., seq_len_q, seq_len_k)\n",
    "  \n",
    "  # scale matmul_qk\n",
    "  dk = tf.cast(tf.shape(k)[-1], tf.float32)\n",
    "  scaled_attention_logits = matmul_qk / tf.math.sqrt(dk)\n",
    "\n",
    "  # add the mask to the scaled tensor.\n",
    "  if mask is not None:\n",
    "    scaled_attention_logits += (mask * -1e9)  \n",
    "\n",
    "  # softmax is normalized on the last axis (seq_len_k) so that the scores\n",
    "  # add up to 1.\n",
    "  attention_weights = tf.nn.softmax(scaled_attention_logits, axis=-1)  # (..., seq_len_q, seq_len_k)\n",
    "\n",
    "  output = tf.matmul(attention_weights, v)  # (..., seq_len_q, depth_v)\n",
    "\n",
    "  return output, attention_weights"
   ]
  },
  {
   "cell_type": "markdown",
   "metadata": {
    "id": "FiqETnhCkoXh"
   },
   "source": [
    "As the softmax normalization is done on K, its values decide the amount of importance given to Q.\n",
    "\n",
    "The output represents the multiplication of the attention weights and the V (value) vector. This ensures that the words you want to focus on are kept as-is and the irrelevant words are flushed out."
   ]
  },
  {
   "cell_type": "code",
   "execution_count": 24,
   "metadata": {
    "id": "n90YjClyInFy"
   },
   "outputs": [],
   "source": [
    "def print_out(q, k, v):\n",
    "  temp_out, temp_attn = scaled_dot_product_attention(\n",
    "      q, k, v, None)\n",
    "  print ('Attention weights are:')\n",
    "  print (temp_attn)\n",
    "  print ('Output is:')\n",
    "  print (temp_out)"
   ]
  },
  {
   "cell_type": "code",
   "execution_count": 25,
   "metadata": {
    "colab": {
     "base_uri": "https://localhost:8080/",
     "height": 85
    },
    "id": "yAzUAf2DPlNt",
    "outputId": "62c871c2-7f39-4464-8264-d19d4ecb2955"
   },
   "outputs": [
    {
     "name": "stdout",
     "output_type": "stream",
     "text": [
      "Attention weights are:\n",
      "tf.Tensor([[0. 1. 0. 0.]], shape=(1, 4), dtype=float32)\n",
      "Output is:\n",
      "tf.Tensor([[10.  0.]], shape=(1, 2), dtype=float32)\n"
     ]
    }
   ],
   "source": [
    "np.set_printoptions(suppress=True)\n",
    "\n",
    "temp_k = tf.constant([[10,0,0],\n",
    "                      [0,10,0],\n",
    "                      [0,0,10],\n",
    "                      [0,0,10]], dtype=tf.float32)  # (4, 3)\n",
    "\n",
    "temp_v = tf.constant([[   1,0],\n",
    "                      [  10,0],\n",
    "                      [ 100,5],\n",
    "                      [1000,6]], dtype=tf.float32)  # (4, 2)\n",
    "\n",
    "# This `query` aligns with the second `key`,\n",
    "# so the second `value` is returned.\n",
    "temp_q = tf.constant([[0, 10, 0]], dtype=tf.float32)  # (1, 3)\n",
    "print_out(temp_q, temp_k, temp_v)"
   ]
  },
  {
   "cell_type": "code",
   "execution_count": 26,
   "metadata": {
    "colab": {
     "base_uri": "https://localhost:8080/",
     "height": 85
    },
    "id": "zg6k-fGhgXra",
    "outputId": "78ed5710-6e68-4d77-8721-4b6c3b67d1b1"
   },
   "outputs": [
    {
     "name": "stdout",
     "output_type": "stream",
     "text": [
      "Attention weights are:\n",
      "tf.Tensor([[0.  0.  0.5 0.5]], shape=(1, 4), dtype=float32)\n",
      "Output is:\n",
      "tf.Tensor([[550.    5.5]], shape=(1, 2), dtype=float32)\n"
     ]
    }
   ],
   "source": [
    "# This query aligns with a repeated key (third and fourth), \n",
    "# so all associated values get averaged.\n",
    "temp_q = tf.constant([[0, 0, 10]], dtype=tf.float32)  # (1, 3)\n",
    "print_out(temp_q, temp_k, temp_v)"
   ]
  },
  {
   "cell_type": "code",
   "execution_count": 27,
   "metadata": {
    "colab": {
     "base_uri": "https://localhost:8080/",
     "height": 85
    },
    "id": "UAq3YOzUgXhb",
    "outputId": "c849889e-f886-4a18-a945-93b98114e582"
   },
   "outputs": [
    {
     "name": "stdout",
     "output_type": "stream",
     "text": [
      "Attention weights are:\n",
      "tf.Tensor([[0.5 0.5 0.  0. ]], shape=(1, 4), dtype=float32)\n",
      "Output is:\n",
      "tf.Tensor([[5.5 0. ]], shape=(1, 2), dtype=float32)\n"
     ]
    }
   ],
   "source": [
    "# This query aligns equally with the first and second key, \n",
    "# so their values get averaged.\n",
    "temp_q = tf.constant([[10, 10, 0]], dtype=tf.float32)  # (1, 3)\n",
    "print_out(temp_q, temp_k, temp_v)"
   ]
  },
  {
   "cell_type": "markdown",
   "metadata": {
    "id": "aOz-4_XIhaTP"
   },
   "source": [
    "Pass all the queries together."
   ]
  },
  {
   "cell_type": "code",
   "execution_count": 28,
   "metadata": {
    "colab": {
     "base_uri": "https://localhost:8080/",
     "height": 187
    },
    "id": "6dlU8Tm-hYrF",
    "outputId": "5ea6c7c3-076c-4fca-da33-b5a6a060811f"
   },
   "outputs": [
    {
     "name": "stdout",
     "output_type": "stream",
     "text": [
      "Attention weights are:\n",
      "tf.Tensor(\n",
      "[[0.  0.  0.5 0.5]\n",
      " [0.  1.  0.  0. ]\n",
      " [0.5 0.5 0.  0. ]], shape=(3, 4), dtype=float32)\n",
      "Output is:\n",
      "tf.Tensor(\n",
      "[[550.    5.5]\n",
      " [ 10.    0. ]\n",
      " [  5.5   0. ]], shape=(3, 2), dtype=float32)\n"
     ]
    }
   ],
   "source": [
    "temp_q = tf.constant([[0, 0, 10], [0, 10, 0], [10, 10, 0]], dtype=tf.float32)  # (3, 3)\n",
    "print_out(temp_q, temp_k, temp_v)"
   ]
  },
  {
   "cell_type": "markdown",
   "metadata": {
    "id": "kmzGPEy64qmA"
   },
   "source": [
    "## Multi-head attention"
   ]
  },
  {
   "cell_type": "markdown",
   "metadata": {
    "id": "fz5BMC8Kaoqo"
   },
   "source": [
    "<img src=\"https://www.tensorflow.org/images/tutorials/transformer/multi_head_attention.png\" width=\"500\" alt=\"multi-head attention\">\n",
    "\n",
    "\n",
    "Multi-head attention consists of four parts:\n",
    "*    Linear layers and split into heads.\n",
    "*    Scaled dot-product attention.\n",
    "*    Concatenation of heads.\n",
    "*    Final linear layer."
   ]
  },
  {
   "cell_type": "markdown",
   "metadata": {
    "id": "JPmbr6F1C-v_"
   },
   "source": [
    "Each multi-head attention block gets three inputs; Q (query), K (key), V (value). These are put through linear (Dense) layers and split up into multiple heads. \n",
    "\n",
    "The `scaled_dot_product_attention` defined above is applied to each head (broadcasted for efficiency). An appropriate mask must be used in the attention step.  The attention output for each head is then concatenated (using `tf.transpose`, and `tf.reshape`) and put through a final `Dense` layer.\n",
    "\n",
    "Instead of one single attention head, Q, K, and V are split into multiple heads because it allows the model to jointly attend to information at different positions from different representational spaces. After the split each head has a reduced dimensionality, so the total computation cost is the same as a single head attention with full dimensionality."
   ]
  },
  {
   "cell_type": "code",
   "execution_count": 29,
   "metadata": {
    "id": "BSV3PPKsYecw"
   },
   "outputs": [],
   "source": [
    "class MultiHeadAttention(tf.keras.layers.Layer):\n",
    "  def __init__(self, d_model, num_heads):\n",
    "    super(MultiHeadAttention, self).__init__()\n",
    "    self.num_heads = num_heads\n",
    "    self.d_model = d_model\n",
    "    \n",
    "    assert d_model % self.num_heads == 0\n",
    "    \n",
    "    self.depth = d_model // self.num_heads\n",
    "    \n",
    "    self.wq = tf.keras.layers.Dense(d_model)\n",
    "    self.wk = tf.keras.layers.Dense(d_model)\n",
    "    self.wv = tf.keras.layers.Dense(d_model)\n",
    "    \n",
    "    self.dense = tf.keras.layers.Dense(d_model)\n",
    "        \n",
    "  def split_heads(self, x, batch_size):\n",
    "    \"\"\"Split the last dimension into (num_heads, depth).\n",
    "    Transpose the result such that the shape is (batch_size, num_heads, seq_len, depth)\n",
    "    \"\"\"\n",
    "    x = tf.reshape(x, (batch_size, -1, self.num_heads, self.depth))\n",
    "    return tf.transpose(x, perm=[0, 2, 1, 3])\n",
    "    \n",
    "  def call(self, v, k, q, mask):\n",
    "    batch_size = tf.shape(q)[0]\n",
    "    \n",
    "    q = self.wq(q)  # (batch_size, seq_len, d_model)\n",
    "    k = self.wk(k)  # (batch_size, seq_len, d_model)\n",
    "    v = self.wv(v)  # (batch_size, seq_len, d_model)\n",
    "    \n",
    "    q = self.split_heads(q, batch_size)  # (batch_size, num_heads, seq_len_q, depth)\n",
    "    k = self.split_heads(k, batch_size)  # (batch_size, num_heads, seq_len_k, depth)\n",
    "    v = self.split_heads(v, batch_size)  # (batch_size, num_heads, seq_len_v, depth)\n",
    "    \n",
    "    # scaled_attention.shape == (batch_size, num_heads, seq_len_q, depth)\n",
    "    # attention_weights.shape == (batch_size, num_heads, seq_len_q, seq_len_k)\n",
    "    scaled_attention, attention_weights = scaled_dot_product_attention(\n",
    "        q, k, v, mask)\n",
    "    \n",
    "    scaled_attention = tf.transpose(scaled_attention, perm=[0, 2, 1, 3])  # (batch_size, seq_len_q, num_heads, depth)\n",
    "\n",
    "    concat_attention = tf.reshape(scaled_attention, \n",
    "                                  (batch_size, -1, self.d_model))  # (batch_size, seq_len_q, d_model)\n",
    "\n",
    "    output = self.dense(concat_attention)  # (batch_size, seq_len_q, d_model)\n",
    "        \n",
    "    return output, attention_weights"
   ]
  },
  {
   "cell_type": "markdown",
   "metadata": {
    "id": "0D8FJue5lDyZ"
   },
   "source": [
    "Create a `MultiHeadAttention` layer to try out. At each location in the sequence, `y`, the `MultiHeadAttention` runs all 8 attention heads across all other locations in the sequence, returning a new vector of the same length at each location."
   ]
  },
  {
   "cell_type": "code",
   "execution_count": 30,
   "metadata": {
    "colab": {
     "base_uri": "https://localhost:8080/",
     "height": 34
    },
    "id": "Hu94p-_-2_BX",
    "outputId": "e3e3629e-1f2d-4641-f474-b2eacc614c9c"
   },
   "outputs": [
    {
     "data": {
      "text/plain": [
       "(TensorShape([1, 60, 512]), TensorShape([1, 8, 60, 60]))"
      ]
     },
     "execution_count": 30,
     "metadata": {},
     "output_type": "execute_result"
    }
   ],
   "source": [
    "temp_mha = MultiHeadAttention(d_model=512, num_heads=8)\n",
    "y = tf.random.uniform((1, 60, 512))  # (batch_size, encoder_sequence, d_model)\n",
    "out, attn = temp_mha(y, k=y, q=y, mask=None)\n",
    "out.shape, attn.shape"
   ]
  },
  {
   "cell_type": "markdown",
   "metadata": {
    "id": "RdDqGayx67vv"
   },
   "source": [
    "## Point wise feed forward network"
   ]
  },
  {
   "cell_type": "markdown",
   "metadata": {
    "id": "gBqzJXGfHK3X"
   },
   "source": [
    "Point wise feed forward network consists of two fully-connected layers with a ReLU activation in between."
   ]
  },
  {
   "cell_type": "code",
   "execution_count": 31,
   "metadata": {
    "id": "ET7xLt0yCT6Z"
   },
   "outputs": [],
   "source": [
    "def point_wise_feed_forward_network(d_model, dff):\n",
    "  return tf.keras.Sequential([\n",
    "      tf.keras.layers.Dense(dff, activation='relu'),  # (batch_size, seq_len, dff)\n",
    "      tf.keras.layers.Dense(d_model)  # (batch_size, seq_len, d_model)\n",
    "  ])"
   ]
  },
  {
   "cell_type": "code",
   "execution_count": 32,
   "metadata": {
    "colab": {
     "base_uri": "https://localhost:8080/",
     "height": 34
    },
    "id": "mytb1lPyOHLB",
    "outputId": "6ae79870-38f5-4678-ab54-c470f9984976"
   },
   "outputs": [
    {
     "data": {
      "text/plain": [
       "TensorShape([64, 50, 512])"
      ]
     },
     "execution_count": 32,
     "metadata": {},
     "output_type": "execute_result"
    }
   ],
   "source": [
    "sample_ffn = point_wise_feed_forward_network(512, 2048)\n",
    "sample_ffn(tf.random.uniform((64, 50, 512))).shape"
   ]
  },
  {
   "cell_type": "markdown",
   "metadata": {
    "id": "7e7hKcxn6-zd"
   },
   "source": [
    "## Encoder and decoder"
   ]
  },
  {
   "cell_type": "markdown",
   "metadata": {
    "id": "yScbC0MUH8dS"
   },
   "source": [
    "<img src=\"https://www.tensorflow.org/images/tutorials/transformer/transformer.png\" width=\"600\" alt=\"transformer\">"
   ]
  },
  {
   "cell_type": "markdown",
   "metadata": {
    "id": "MfYJG-Kvgwy2"
   },
   "source": [
    "The transformer model follows the same general pattern as a standard [sequence to sequence with attention model](nmt_with_attention.ipynb). \n",
    "\n",
    "* The input sentence is passed through `N` encoder layers that generates an output for each word/token in the sequence.\n",
    "* The decoder attends on the encoder's output and its own input (self-attention) to predict the next word. "
   ]
  },
  {
   "cell_type": "markdown",
   "metadata": {
    "id": "QFv-FNYUmvpn"
   },
   "source": [
    "### Encoder layer\n",
    "\n",
    "Each encoder layer consists of sublayers:\n",
    "\n",
    "1.   Multi-head attention (with padding mask) \n",
    "2.    Point wise feed forward networks. \n",
    "\n",
    "Each of these sublayers has a residual connection around it followed by a layer normalization. Residual connections help in avoiding the vanishing gradient problem in deep networks.\n",
    "\n",
    "The output of each sublayer is `LayerNorm(x + Sublayer(x))`. The normalization is done on the `d_model` (last) axis. There are N encoder layers in the transformer."
   ]
  },
  {
   "cell_type": "code",
   "execution_count": 33,
   "metadata": {
    "id": "ncyS-Ms3i2x_"
   },
   "outputs": [],
   "source": [
    "class EncoderLayer(tf.keras.layers.Layer):\n",
    "  def __init__(self, d_model, num_heads, dff, rate=0.1):\n",
    "    super(EncoderLayer, self).__init__()\n",
    "\n",
    "    self.mha = MultiHeadAttention(d_model, num_heads)\n",
    "    self.ffn = point_wise_feed_forward_network(d_model, dff)\n",
    "\n",
    "    self.layernorm1 = tf.keras.layers.LayerNormalization(epsilon=1e-6)\n",
    "    self.layernorm2 = tf.keras.layers.LayerNormalization(epsilon=1e-6)\n",
    "    \n",
    "    self.dropout1 = tf.keras.layers.Dropout(rate)\n",
    "    self.dropout2 = tf.keras.layers.Dropout(rate)\n",
    "    \n",
    "  def call(self, x, training, mask):\n",
    "\n",
    "    attn_output, _ = self.mha(x, x, x, mask)  # (batch_size, input_seq_len, d_model)\n",
    "    attn_output = self.dropout1(attn_output, training=training)\n",
    "    out1 = self.layernorm1(x + attn_output)  # (batch_size, input_seq_len, d_model)\n",
    "    \n",
    "    ffn_output = self.ffn(out1)  # (batch_size, input_seq_len, d_model)\n",
    "    ffn_output = self.dropout2(ffn_output, training=training)\n",
    "    out2 = self.layernorm2(out1 + ffn_output)  # (batch_size, input_seq_len, d_model)\n",
    "    \n",
    "    return out2"
   ]
  },
  {
   "cell_type": "code",
   "execution_count": 34,
   "metadata": {
    "colab": {
     "base_uri": "https://localhost:8080/",
     "height": 34
    },
    "id": "AzZRXdO0mI48",
    "outputId": "8a13d10a-b706-4432-8f90-09e003dc589c"
   },
   "outputs": [
    {
     "data": {
      "text/plain": [
       "TensorShape([64, 43, 512])"
      ]
     },
     "execution_count": 34,
     "metadata": {},
     "output_type": "execute_result"
    }
   ],
   "source": [
    "sample_encoder_layer = EncoderLayer(512, 8, 2048)\n",
    "\n",
    "sample_encoder_layer_output = sample_encoder_layer(\n",
    "    tf.random.uniform((64, 43, 512)), False, None)\n",
    "\n",
    "sample_encoder_layer_output.shape  # (batch_size, input_seq_len, d_model)"
   ]
  },
  {
   "cell_type": "markdown",
   "metadata": {
    "id": "6LO_48Owmx_o"
   },
   "source": [
    "### Decoder layer\n",
    "\n",
    "Each decoder layer consists of sublayers:\n",
    "\n",
    "1.   Masked multi-head attention (with look ahead mask and padding mask)\n",
    "2.   Multi-head attention (with padding mask). V (value) and K (key) receive the *encoder output* as inputs. Q (query) receives the *output from the masked multi-head attention sublayer.*\n",
    "3.   Point wise feed forward networks\n",
    "\n",
    "Each of these sublayers has a residual connection around it followed by a layer normalization. The output of each sublayer is `LayerNorm(x + Sublayer(x))`. The normalization is done on the `d_model` (last) axis.\n",
    "\n",
    "There are N decoder layers in the transformer.\n",
    "\n",
    "As Q receives the output from decoder's first attention block, and K receives the encoder output, the attention weights represent the importance given to the decoder's input based on the encoder's output. In other words, the decoder predicts the next word by looking at the encoder output and self-attending to its own output. See the demonstration above in the scaled dot product attention section."
   ]
  },
  {
   "cell_type": "code",
   "execution_count": 35,
   "metadata": {
    "id": "9SoX0-vd1hue"
   },
   "outputs": [],
   "source": [
    "class DecoderLayer(tf.keras.layers.Layer):\n",
    "  def __init__(self, d_model, num_heads, dff, rate=0.1):\n",
    "    super(DecoderLayer, self).__init__()\n",
    "\n",
    "    self.mha1 = MultiHeadAttention(d_model, num_heads)\n",
    "    self.mha2 = MultiHeadAttention(d_model, num_heads)\n",
    "\n",
    "    self.ffn = point_wise_feed_forward_network(d_model, dff)\n",
    " \n",
    "    self.layernorm1 = tf.keras.layers.LayerNormalization(epsilon=1e-6)\n",
    "    self.layernorm2 = tf.keras.layers.LayerNormalization(epsilon=1e-6)\n",
    "    self.layernorm3 = tf.keras.layers.LayerNormalization(epsilon=1e-6)\n",
    "    \n",
    "    self.dropout1 = tf.keras.layers.Dropout(rate)\n",
    "    self.dropout2 = tf.keras.layers.Dropout(rate)\n",
    "    self.dropout3 = tf.keras.layers.Dropout(rate)\n",
    "    \n",
    "    \n",
    "  def call(self, x, enc_output, training, \n",
    "           look_ahead_mask, padding_mask):\n",
    "    # enc_output.shape == (batch_size, input_seq_len, d_model)\n",
    "\n",
    "    attn1, attn_weights_block1 = self.mha1(x, x, x, look_ahead_mask)  # (batch_size, target_seq_len, d_model)\n",
    "    attn1 = self.dropout1(attn1, training=training)\n",
    "    out1 = self.layernorm1(attn1 + x)\n",
    "    \n",
    "    attn2, attn_weights_block2 = self.mha2(\n",
    "        enc_output, enc_output, out1, padding_mask)  # (batch_size, target_seq_len, d_model)\n",
    "    attn2 = self.dropout2(attn2, training=training)\n",
    "    out2 = self.layernorm2(attn2 + out1)  # (batch_size, target_seq_len, d_model)\n",
    "    \n",
    "    ffn_output = self.ffn(out2)  # (batch_size, target_seq_len, d_model)\n",
    "    ffn_output = self.dropout3(ffn_output, training=training)\n",
    "    out3 = self.layernorm3(ffn_output + out2)  # (batch_size, target_seq_len, d_model)\n",
    "    \n",
    "    return out3, attn_weights_block1, attn_weights_block2"
   ]
  },
  {
   "cell_type": "code",
   "execution_count": 36,
   "metadata": {
    "colab": {
     "base_uri": "https://localhost:8080/",
     "height": 34
    },
    "id": "Ne2Bqx8k71l0",
    "outputId": "e18d9ed8-9070-44d4-c1ab-0134d89ee737"
   },
   "outputs": [
    {
     "data": {
      "text/plain": [
       "TensorShape([64, 50, 512])"
      ]
     },
     "execution_count": 36,
     "metadata": {},
     "output_type": "execute_result"
    }
   ],
   "source": [
    "sample_decoder_layer = DecoderLayer(512, 8, 2048)\n",
    "\n",
    "sample_decoder_layer_output, _, _ = sample_decoder_layer(\n",
    "    tf.random.uniform((64, 50, 512)), sample_encoder_layer_output, \n",
    "    False, None, None)\n",
    "\n",
    "sample_decoder_layer_output.shape  # (batch_size, target_seq_len, d_model)"
   ]
  },
  {
   "cell_type": "markdown",
   "metadata": {
    "id": "SE1H51Ajm0q1"
   },
   "source": [
    "### Encoder\n",
    "\n",
    "The `Encoder` consists of:\n",
    "1.   Input Embedding\n",
    "2.   Positional Encoding\n",
    "3.   N encoder layers\n",
    "\n",
    "The input is put through an embedding which is summed with the positional encoding. The output of this summation is the input to the encoder layers. The output of the encoder is the input to the decoder."
   ]
  },
  {
   "cell_type": "code",
   "execution_count": 37,
   "metadata": {
    "id": "jpEox7gJ8FCI"
   },
   "outputs": [],
   "source": [
    "class Encoder(tf.keras.layers.Layer):\n",
    "  def __init__(self, num_layers, d_model, num_heads, dff, input_vocab_size,\n",
    "               maximum_position_encoding, rate=0.1):\n",
    "    super(Encoder, self).__init__()\n",
    "\n",
    "    self.d_model = d_model\n",
    "    self.num_layers = num_layers\n",
    "    \n",
    "    self.embedding = tf.keras.layers.Embedding(input_vocab_size, d_model)\n",
    "    self.pos_encoding = positional_encoding(maximum_position_encoding, \n",
    "                                            self.d_model)\n",
    "    \n",
    "    \n",
    "    self.enc_layers = [EncoderLayer(d_model, num_heads, dff, rate) \n",
    "                       for _ in range(num_layers)]\n",
    "  \n",
    "    self.dropout = tf.keras.layers.Dropout(rate)\n",
    "        \n",
    "  def call(self, x, training, mask):\n",
    "\n",
    "    seq_len = tf.shape(x)[1]\n",
    "    \n",
    "    # adding embedding and position encoding.\n",
    "    x = self.embedding(x)  # (batch_size, input_seq_len, d_model)\n",
    "    x *= tf.math.sqrt(tf.cast(self.d_model, tf.float32))\n",
    "    x += self.pos_encoding[:, :seq_len, :]\n",
    "\n",
    "    x = self.dropout(x, training=training)\n",
    "    \n",
    "    for i in range(self.num_layers):\n",
    "      x = self.enc_layers[i](x, training, mask)\n",
    "    \n",
    "    return x  # (batch_size, input_seq_len, d_model)"
   ]
  },
  {
   "cell_type": "code",
   "execution_count": 38,
   "metadata": {
    "colab": {
     "base_uri": "https://localhost:8080/",
     "height": 34
    },
    "id": "8QG9nueFQKXx",
    "outputId": "521a7b5d-e59d-4ec6-fabc-efc485cc8cf8"
   },
   "outputs": [
    {
     "name": "stdout",
     "output_type": "stream",
     "text": [
      "(64, 62, 512)\n"
     ]
    }
   ],
   "source": [
    "sample_encoder = Encoder(num_layers=2, d_model=512, num_heads=8, \n",
    "                         dff=2048, input_vocab_size=8500,\n",
    "                         maximum_position_encoding=10000)\n",
    "temp_input = tf.random.uniform((64, 62), dtype=tf.int64, minval=0, maxval=200)\n",
    "\n",
    "sample_encoder_output = sample_encoder(temp_input, training=False, mask=None)\n",
    "\n",
    "print (sample_encoder_output.shape)  # (batch_size, input_seq_len, d_model)"
   ]
  },
  {
   "cell_type": "markdown",
   "metadata": {
    "id": "p-uO6ls8m2O5"
   },
   "source": [
    "### Decoder"
   ]
  },
  {
   "cell_type": "markdown",
   "metadata": {
    "id": "ZtT7PKzrXkNr"
   },
   "source": [
    " The `Decoder` consists of:\n",
    "1.   Output Embedding\n",
    "2.   Positional Encoding\n",
    "3.   N decoder layers\n",
    "\n",
    "The target is put through an embedding which is summed with the positional encoding. The output of this summation is the input to the decoder layers. The output of the decoder is the input to the final linear layer."
   ]
  },
  {
   "cell_type": "code",
   "execution_count": 39,
   "metadata": {
    "id": "d5_d5-PLQXwY"
   },
   "outputs": [],
   "source": [
    "class Decoder(tf.keras.layers.Layer):\n",
    "  def __init__(self, num_layers, d_model, num_heads, dff, target_vocab_size,\n",
    "               maximum_position_encoding, rate=0.1):\n",
    "    super(Decoder, self).__init__()\n",
    "\n",
    "    self.d_model = d_model\n",
    "    self.num_layers = num_layers\n",
    "    \n",
    "    self.embedding = tf.keras.layers.Embedding(target_vocab_size, d_model)\n",
    "    self.pos_encoding = positional_encoding(maximum_position_encoding, d_model)\n",
    "    \n",
    "    self.dec_layers = [DecoderLayer(d_model, num_heads, dff, rate) \n",
    "                       for _ in range(num_layers)]\n",
    "    self.dropout = tf.keras.layers.Dropout(rate)\n",
    "    \n",
    "  def call(self, x, enc_output, training, \n",
    "           look_ahead_mask, padding_mask):\n",
    "\n",
    "    seq_len = tf.shape(x)[1]\n",
    "    attention_weights = {}\n",
    "    \n",
    "    x = self.embedding(x)  # (batch_size, target_seq_len, d_model)\n",
    "    x *= tf.math.sqrt(tf.cast(self.d_model, tf.float32))\n",
    "    x += self.pos_encoding[:, :seq_len, :]\n",
    "    \n",
    "    x = self.dropout(x, training=training)\n",
    "\n",
    "    for i in range(self.num_layers):\n",
    "      x, block1, block2 = self.dec_layers[i](x, enc_output, training,\n",
    "                                             look_ahead_mask, padding_mask)\n",
    "      \n",
    "      attention_weights['decoder_layer{}_block1'.format(i+1)] = block1\n",
    "      attention_weights['decoder_layer{}_block2'.format(i+1)] = block2\n",
    "    \n",
    "    # x.shape == (batch_size, target_seq_len, d_model)\n",
    "    return x, attention_weights"
   ]
  },
  {
   "cell_type": "code",
   "execution_count": 40,
   "metadata": {
    "colab": {
     "base_uri": "https://localhost:8080/",
     "height": 34
    },
    "id": "a1jXoAMRZyvu",
    "outputId": "19923afd-18cd-4dda-ea15-7977eeac04da"
   },
   "outputs": [
    {
     "data": {
      "text/plain": [
       "(TensorShape([64, 26, 512]), TensorShape([64, 8, 26, 62]))"
      ]
     },
     "execution_count": 40,
     "metadata": {},
     "output_type": "execute_result"
    }
   ],
   "source": [
    "sample_decoder = Decoder(num_layers=2, d_model=512, num_heads=8, \n",
    "                         dff=2048, target_vocab_size=8000,\n",
    "                         maximum_position_encoding=5000)\n",
    "temp_input = tf.random.uniform((64, 26), dtype=tf.int64, minval=0, maxval=200)\n",
    "\n",
    "output, attn = sample_decoder(temp_input, \n",
    "                              enc_output=sample_encoder_output, \n",
    "                              training=False,\n",
    "                              look_ahead_mask=None, \n",
    "                              padding_mask=None)\n",
    "\n",
    "output.shape, attn['decoder_layer2_block2'].shape"
   ]
  },
  {
   "cell_type": "markdown",
   "metadata": {
    "id": "y54xnJnuYgJ7"
   },
   "source": [
    "## Create the Transformer"
   ]
  },
  {
   "cell_type": "markdown",
   "metadata": {
    "id": "uERO1y54cOKq"
   },
   "source": [
    "Transformer consists of the encoder, decoder and a final linear layer. The output of the decoder is the input to the linear layer and its output is returned."
   ]
  },
  {
   "cell_type": "code",
   "execution_count": 41,
   "metadata": {
    "id": "PED3bIpOYkBu"
   },
   "outputs": [],
   "source": [
    "class Transformer(tf.keras.Model):\n",
    "  def __init__(self, num_layers, d_model, num_heads, dff, input_vocab_size, \n",
    "               target_vocab_size, pe_input, pe_target, rate=0.1):\n",
    "    super(Transformer, self).__init__()\n",
    "\n",
    "    self.encoder = Encoder(num_layers, d_model, num_heads, dff, \n",
    "                           input_vocab_size, pe_input, rate)\n",
    "\n",
    "    self.decoder = Decoder(num_layers, d_model, num_heads, dff, \n",
    "                           target_vocab_size, pe_target, rate)\n",
    "\n",
    "    self.final_layer = tf.keras.layers.Dense(target_vocab_size)\n",
    "    \n",
    "  def call(self, inp, tar, training, enc_padding_mask, \n",
    "           look_ahead_mask, dec_padding_mask):\n",
    "\n",
    "    enc_output = self.encoder(inp, training, enc_padding_mask)  # (batch_size, inp_seq_len, d_model)\n",
    "    \n",
    "    # dec_output.shape == (batch_size, tar_seq_len, d_model)\n",
    "    dec_output, attention_weights = self.decoder(\n",
    "        tar, enc_output, training, look_ahead_mask, dec_padding_mask)\n",
    "    \n",
    "    final_output = self.final_layer(dec_output)  # (batch_size, tar_seq_len, target_vocab_size)\n",
    "    \n",
    "    return final_output, attention_weights"
   ]
  },
  {
   "cell_type": "code",
   "execution_count": 42,
   "metadata": {
    "colab": {
     "base_uri": "https://localhost:8080/",
     "height": 34
    },
    "id": "tJ4fbQcIkHW1",
    "outputId": "fa6e9744-9829-438c-a71c-de2490a21b1d"
   },
   "outputs": [
    {
     "data": {
      "text/plain": [
       "TensorShape([64, 36, 8000])"
      ]
     },
     "execution_count": 42,
     "metadata": {},
     "output_type": "execute_result"
    }
   ],
   "source": [
    "sample_transformer = Transformer(\n",
    "    num_layers=2, d_model=512, num_heads=8, dff=2048, \n",
    "    input_vocab_size=8500, target_vocab_size=8000, \n",
    "    pe_input=10000, pe_target=6000)\n",
    "\n",
    "temp_input = tf.random.uniform((64, 38), dtype=tf.int64, minval=0, maxval=200)\n",
    "temp_target = tf.random.uniform((64, 36), dtype=tf.int64, minval=0, maxval=200)\n",
    "\n",
    "fn_out, _ = sample_transformer(temp_input, temp_target, training=False, \n",
    "                               enc_padding_mask=None, \n",
    "                               look_ahead_mask=None,\n",
    "                               dec_padding_mask=None)\n",
    "\n",
    "fn_out.shape  # (batch_size, tar_seq_len, target_vocab_size)"
   ]
  },
  {
   "cell_type": "markdown",
   "metadata": {
    "id": "wsINyf1VEQLC"
   },
   "source": [
    "## Set hyperparameters"
   ]
  },
  {
   "cell_type": "markdown",
   "metadata": {
    "id": "zVjWCxFNcgbt"
   },
   "source": [
    "To keep this example small and relatively fast, the values for *num_layers, d_model, and dff* have been reduced. \n",
    "\n",
    "The values used in the base model of transformer were; *num_layers=6*, *d_model = 512*, *dff = 2048*. See the [paper](https://arxiv.org/abs/1706.03762) for all the other versions of the transformer.\n",
    "\n",
    "Note: By changing the values below, you can get the model that achieved state of the art on many tasks."
   ]
  },
  {
   "cell_type": "code",
   "execution_count": 43,
   "metadata": {
    "id": "lnJn5SLA2ahP"
   },
   "outputs": [],
   "source": [
    "num_layers = 4\n",
    "d_model = 128\n",
    "dff = 512\n",
    "num_heads = 8\n",
    "\n",
    "input_vocab_size = tokenizer_kor.vocab_size + 2\n",
    "target_vocab_size = tokenizer_eng.vocab_size + 2\n",
    "dropout_rate = 0.1"
   ]
  },
  {
   "cell_type": "markdown",
   "metadata": {
    "id": "xYEGhEOtzn5W"
   },
   "source": [
    "## Optimizer"
   ]
  },
  {
   "cell_type": "markdown",
   "metadata": {
    "id": "GOmWW--yP3zx"
   },
   "source": [
    "Use the Adam optimizer with a custom learning rate scheduler according to the formula in the [paper](https://arxiv.org/abs/1706.03762).\n",
    "\n",
    "$$\\Large{lrate = d_{model}^{-0.5} * min(step{\\_}num^{-0.5}, step{\\_}num * warmup{\\_}steps^{-1.5})}$$\n"
   ]
  },
  {
   "cell_type": "code",
   "execution_count": 44,
   "metadata": {
    "id": "iYQdOO1axwEI"
   },
   "outputs": [],
   "source": [
    "class CustomSchedule(tf.keras.optimizers.schedules.LearningRateSchedule):\n",
    "  def __init__(self, d_model, warmup_steps=4000):\n",
    "    super(CustomSchedule, self).__init__()\n",
    "    \n",
    "    self.d_model = d_model\n",
    "    self.d_model = tf.cast(self.d_model, tf.float32)\n",
    "\n",
    "    self.warmup_steps = warmup_steps\n",
    "    \n",
    "  def __call__(self, step):\n",
    "    arg1 = tf.math.rsqrt(step)\n",
    "    arg2 = step * (self.warmup_steps ** -1.5)\n",
    "    \n",
    "    return tf.math.rsqrt(self.d_model) * tf.math.minimum(arg1, arg2)"
   ]
  },
  {
   "cell_type": "code",
   "execution_count": 45,
   "metadata": {
    "id": "7r4scdulztRx"
   },
   "outputs": [],
   "source": [
    "learning_rate = CustomSchedule(d_model)\n",
    "\n",
    "optimizer = tf.keras.optimizers.Adam(learning_rate, beta_1=0.9, beta_2=0.98, \n",
    "                                     epsilon=1e-9)"
   ]
  },
  {
   "cell_type": "code",
   "execution_count": 46,
   "metadata": {
    "colab": {
     "base_uri": "https://localhost:8080/",
     "height": 296
    },
    "id": "f33ZCgvHpPdG",
    "outputId": "fb08392a-2db1-40ea-df33-6695698367f5"
   },
   "outputs": [
    {
     "data": {
      "text/plain": [
       "Text(0.5, 0, 'Train Step')"
      ]
     },
     "execution_count": 46,
     "metadata": {},
     "output_type": "execute_result"
    },
    {
     "data": {
      "image/png": "[encoded data removed]",
      "text/plain": [
       "<Figure size 432x288 with 1 Axes>"
      ]
     },
     "metadata": {
      "needs_background": "light"
     },
     "output_type": "display_data"
    }
   ],
   "source": [
    "temp_learning_rate_schedule = CustomSchedule(d_model)\n",
    "\n",
    "plt.plot(temp_learning_rate_schedule(tf.range(40000, dtype=tf.float32)))\n",
    "plt.ylabel(\"Learning Rate\")\n",
    "plt.xlabel(\"Train Step\")"
   ]
  },
  {
   "cell_type": "markdown",
   "metadata": {
    "id": "YgkDE7hzo8r5"
   },
   "source": [
    "## Loss and metrics"
   ]
  },
  {
   "cell_type": "markdown",
   "metadata": {
    "id": "oxGJtoDuYIHL"
   },
   "source": [
    "Since the target sequences are padded, it is important to apply a padding mask when calculating the loss."
   ]
  },
  {
   "cell_type": "code",
   "execution_count": 47,
   "metadata": {
    "id": "MlhsJMm0TW_B"
   },
   "outputs": [],
   "source": [
    "loss_object = tf.keras.losses.SparseCategoricalCrossentropy(\n",
    "    from_logits=True, reduction='none')"
   ]
  },
  {
   "cell_type": "code",
   "execution_count": 48,
   "metadata": {
    "id": "67oqVHiT0Eiu"
   },
   "outputs": [],
   "source": [
    "def loss_function(real, pred):\n",
    "  mask = tf.math.logical_not(tf.math.equal(real, 0))\n",
    "  loss_ = loss_object(real, pred)\n",
    "\n",
    "  mask = tf.cast(mask, dtype=loss_.dtype)\n",
    "  loss_ *= mask\n",
    "  \n",
    "  return tf.reduce_sum(loss_)/tf.reduce_sum(mask)"
   ]
  },
  {
   "cell_type": "code",
   "execution_count": 49,
   "metadata": {
    "id": "phlyxMnm-Tpx"
   },
   "outputs": [],
   "source": [
    "train_loss = tf.keras.metrics.Mean(name='train_loss')\n",
    "train_accuracy = tf.keras.metrics.SparseCategoricalAccuracy(\n",
    "    name='train_accuracy')"
   ]
  },
  {
   "cell_type": "markdown",
   "metadata": {
    "id": "aeHumfr7zmMa"
   },
   "source": [
    "## Training and checkpointing"
   ]
  },
  {
   "cell_type": "code",
   "execution_count": 50,
   "metadata": {
    "id": "UiysUa--4tOU"
   },
   "outputs": [],
   "source": [
    "transformer = Transformer(num_layers, d_model, num_heads, dff,\n",
    "                          input_vocab_size, target_vocab_size, \n",
    "                          pe_input=input_vocab_size, \n",
    "                          pe_target=target_vocab_size,\n",
    "                          rate=dropout_rate)"
   ]
  },
  {
   "cell_type": "code",
   "execution_count": 51,
   "metadata": {
    "id": "ZOJUSB1T8GjM"
   },
   "outputs": [],
   "source": [
    "def create_masks(inp, tar):\n",
    "  # Encoder padding mask\n",
    "  enc_padding_mask = create_padding_mask(inp)\n",
    "  \n",
    "  # Used in the 2nd attention block in the decoder.\n",
    "  # This padding mask is used to mask the encoder outputs.\n",
    "  dec_padding_mask = create_padding_mask(inp)\n",
    "  \n",
    "  # Used in the 1st attention block in the decoder.\n",
    "  # It is used to pad and mask future tokens in the input received by \n",
    "  # the decoder.\n",
    "  look_ahead_mask = create_look_ahead_mask(tf.shape(tar)[1])\n",
    "  dec_target_padding_mask = create_padding_mask(tar)\n",
    "  combined_mask = tf.maximum(dec_target_padding_mask, look_ahead_mask)\n",
    "  \n",
    "  return enc_padding_mask, combined_mask, dec_padding_mask"
   ]
  },
  {
   "cell_type": "markdown",
   "metadata": {
    "id": "Fzuf06YZp66w"
   },
   "source": [
    "Create the checkpoint path and the checkpoint manager. This will be used to save checkpoints every `n` epochs."
   ]
  },
  {
   "cell_type": "code",
   "execution_count": 52,
   "metadata": {
    "id": "hNhuYfllndLZ"
   },
   "outputs": [],
   "source": [
    "checkpoint_path = \"./checkpoints2/train\"\n",
    "\n",
    "ckpt = tf.train.Checkpoint(transformer=transformer,\n",
    "                           optimizer=optimizer)\n",
    "\n",
    "ckpt_manager = tf.train.CheckpointManager(ckpt, checkpoint_path, max_to_keep=5)\n",
    "\n",
    "# if a checkpoint exists, restore the latest checkpoint.\n",
    "if ckpt_manager.latest_checkpoint:\n",
    "  ckpt.restore(ckpt_manager.latest_checkpoint)\n",
    "  print ('Latest checkpoint restored!!')"
   ]
  },
  {
   "cell_type": "markdown",
   "metadata": {
    "id": "0Di_Yaa1gf9r"
   },
   "source": [
    "The target is divided into tar_inp and tar_real. tar_inp is passed as an input to the decoder. `tar_real` is that same input shifted by 1: At each location in `tar_input`, `tar_real` contains the  next token that should be predicted.\n",
    "\n",
    "For example, `sentence` = \"SOS A lion in the jungle is sleeping EOS\"\n",
    "\n",
    "`tar_inp` =  \"SOS A lion in the jungle is sleeping\"\n",
    "\n",
    "`tar_real` = \"A lion in the jungle is sleeping EOS\"\n",
    "\n",
    "The transformer is an auto-regressive model: it makes predictions one part at a time, and uses its output so far to decide what to do next. \n",
    "\n",
    "During training this example uses teacher-forcing (like in the [text generation tutorial](./text_generation.ipynb)). Teacher forcing is passing the true output to the next time step regardless of what the model predicts at the current time step.\n",
    "\n",
    "As the transformer predicts each word, *self-attention* allows it to look at the previous words in the input sequence to better predict the next word.\n",
    "\n",
    "To prevent the model from peeking at the expected output the model uses a look-ahead mask."
   ]
  },
  {
   "cell_type": "code",
   "execution_count": 53,
   "metadata": {
    "id": "LKpoA6q1sJFj"
   },
   "outputs": [],
   "source": [
    "EPOCHS = 200"
   ]
  },
  {
   "cell_type": "code",
   "execution_count": 54,
   "metadata": {
    "id": "iJwmp9OE29oj"
   },
   "outputs": [],
   "source": [
    "# The @tf.function trace-compiles train_step into a TF graph for faster\n",
    "# execution. The function specializes to the precise shape of the argument\n",
    "# tensors. To avoid re-tracing due to the variable sequence lengths or variable\n",
    "# batch sizes (the last batch is smaller), use input_signature to specify\n",
    "# more generic shapes.\n",
    "\n",
    "train_step_signature = [\n",
    "    tf.TensorSpec(shape=(None, None), dtype=tf.int64),\n",
    "    tf.TensorSpec(shape=(None, None), dtype=tf.int64),\n",
    "]\n",
    "\n",
    "@tf.function(input_signature=train_step_signature)\n",
    "def train_step(inp, tar):\n",
    "  tar_inp = tar[:, :-1]\n",
    "  tar_real = tar[:, 1:]\n",
    "  \n",
    "  enc_padding_mask, combined_mask, dec_padding_mask = create_masks(inp, tar_inp)\n",
    "  \n",
    "  with tf.GradientTape() as tape:\n",
    "    predictions, _ = transformer(inp, tar_inp, \n",
    "                                 True, \n",
    "                                 enc_padding_mask, \n",
    "                                 combined_mask, \n",
    "                                 dec_padding_mask)\n",
    "    loss = loss_function(tar_real, predictions)\n",
    "\n",
    "  gradients = tape.gradient(loss, transformer.trainable_variables)    \n",
    "  optimizer.apply_gradients(zip(gradients, transformer.trainable_variables))\n",
    "  \n",
    "  train_loss(loss)\n",
    "  train_accuracy(tar_real, predictions)"
   ]
  },
  {
   "cell_type": "markdown",
   "metadata": {
    "id": "qM2PDWGDJ_8V"
   },
   "source": [
    "Korean is used as the input language and English is the target language."
   ]
  },
  {
   "cell_type": "code",
   "execution_count": 55,
   "metadata": {
    "colab": {
     "base_uri": "https://localhost:8080/",
     "height": 1000
    },
    "id": "bbvmaKNiznHZ",
    "outputId": "97735af3-1f23-4a16-8454-5dd6b3ac603d"
   },
   "outputs": [
    {
     "name": "stdout",
     "output_type": "stream",
     "text": [
      "Epoch 1 Batch 0 Loss 9.0051 Accuracy 0.0000\n",
      "Epoch 1 Loss 8.9810 Accuracy 0.0001\n",
      "Time taken for 1 epoch: 14.825908184051514 secs\n",
      "\n",
      "Epoch 2 Batch 0 Loss 8.9236 Accuracy 0.0000\n",
      "Epoch 2 Loss 8.8458 Accuracy 0.0275\n",
      "Time taken for 1 epoch: 1.8480706214904785 secs\n",
      "\n",
      "Epoch 3 Batch 0 Loss 8.7701 Accuracy 0.0501\n",
      "Epoch 3 Loss 8.6917 Accuracy 0.0520\n",
      "Time taken for 1 epoch: 1.8590638637542725 secs\n",
      "\n",
      "Epoch 4 Batch 0 Loss 8.6238 Accuracy 0.0478\n",
      "Epoch 4 Loss 8.5392 Accuracy 0.0521\n",
      "Time taken for 1 epoch: 1.8291826248168945 secs\n",
      "\n",
      "Epoch 5 Batch 0 Loss 8.4524 Accuracy 0.0501\n",
      "Saving checkpoint for epoch 5 at ./checkpoints2/train\\ckpt-1\n",
      "Epoch 5 Loss 8.3568 Accuracy 0.0518\n",
      "Time taken for 1 epoch: 2.105106830596924 secs\n",
      "\n",
      "Epoch 6 Batch 0 Loss 8.2479 Accuracy 0.0517\n",
      "Epoch 6 Loss 8.1358 Accuracy 0.0519\n",
      "Time taken for 1 epoch: 2.7507686614990234 secs\n",
      "\n",
      "Epoch 7 Batch 0 Loss 8.0142 Accuracy 0.0514\n",
      "Epoch 7 Loss 7.8823 Accuracy 0.0554\n",
      "Time taken for 1 epoch: 1.8923490047454834 secs\n",
      "\n",
      "Epoch 8 Batch 0 Loss 7.7416 Accuracy 0.0669\n",
      "Epoch 8 Loss 7.6072 Accuracy 0.0766\n",
      "Time taken for 1 epoch: 1.8590002059936523 secs\n",
      "\n",
      "Epoch 9 Batch 0 Loss 7.4500 Accuracy 0.0813\n",
      "Epoch 9 Loss 7.3332 Accuracy 0.0868\n",
      "Time taken for 1 epoch: 1.8598318099975586 secs\n",
      "\n",
      "Epoch 10 Batch 0 Loss 7.2047 Accuracy 0.0957\n",
      "Saving checkpoint for epoch 10 at ./checkpoints2/train\\ckpt-2\n",
      "Epoch 10 Loss 7.0728 Accuracy 0.0965\n",
      "Time taken for 1 epoch: 2.1135191917419434 secs\n",
      "\n",
      "Epoch 11 Batch 0 Loss 6.9320 Accuracy 0.0954\n",
      "Epoch 11 Loss 6.8351 Accuracy 0.0996\n",
      "Time taken for 1 epoch: 2.3325657844543457 secs\n",
      "\n",
      "Epoch 12 Batch 0 Loss 6.6534 Accuracy 0.1031\n",
      "Epoch 12 Loss 6.6258 Accuracy 0.1019\n",
      "Time taken for 1 epoch: 1.8457837104797363 secs\n",
      "\n",
      "Epoch 13 Batch 0 Loss 6.5256 Accuracy 0.1074\n",
      "Epoch 13 Loss 6.4495 Accuracy 0.1036\n",
      "Time taken for 1 epoch: 1.8230087757110596 secs\n",
      "\n",
      "Epoch 14 Batch 0 Loss 6.3435 Accuracy 0.1012\n",
      "Epoch 14 Loss 6.2941 Accuracy 0.1061\n",
      "Time taken for 1 epoch: 1.8313426971435547 secs\n",
      "\n",
      "Epoch 15 Batch 0 Loss 6.1976 Accuracy 0.1103\n",
      "Saving checkpoint for epoch 15 at ./checkpoints2/train\\ckpt-3\n",
      "Epoch 15 Loss 6.1333 Accuracy 0.1192\n",
      "Time taken for 1 epoch: 2.046262502670288 secs\n",
      "\n",
      "Epoch 16 Batch 0 Loss 6.1026 Accuracy 0.1213\n",
      "Epoch 16 Loss 5.9639 Accuracy 0.1311\n",
      "Time taken for 1 epoch: 1.830521821975708 secs\n",
      "\n",
      "Epoch 17 Batch 0 Loss 5.8181 Accuracy 0.1386\n",
      "Epoch 17 Loss 5.7873 Accuracy 0.1450\n",
      "Time taken for 1 epoch: 1.8356890678405762 secs\n",
      "\n",
      "Epoch 18 Batch 0 Loss 5.7222 Accuracy 0.1483\n",
      "Epoch 18 Loss 5.6073 Accuracy 0.1577\n",
      "Time taken for 1 epoch: 1.878478765487671 secs\n",
      "\n",
      "Epoch 19 Batch 0 Loss 5.4744 Accuracy 0.1597\n",
      "Epoch 19 Loss 5.4362 Accuracy 0.1637\n",
      "Time taken for 1 epoch: 1.8612034320831299 secs\n",
      "\n",
      "Epoch 20 Batch 0 Loss 5.3895 Accuracy 0.1662\n",
      "Saving checkpoint for epoch 20 at ./checkpoints2/train\\ckpt-4\n",
      "Epoch 20 Loss 5.2762 Accuracy 0.1698\n",
      "Time taken for 1 epoch: 2.087561845779419 secs\n",
      "\n",
      "Epoch 21 Batch 0 Loss 5.2317 Accuracy 0.1767\n",
      "Epoch 21 Loss 5.1327 Accuracy 0.1769\n",
      "Time taken for 1 epoch: 2.5263891220092773 secs\n",
      "\n",
      "Epoch 22 Batch 0 Loss 4.9740 Accuracy 0.1851\n",
      "Epoch 22 Loss 5.0061 Accuracy 0.1820\n",
      "Time taken for 1 epoch: 1.8997669219970703 secs\n",
      "\n",
      "Epoch 23 Batch 0 Loss 4.8995 Accuracy 0.1854\n",
      "Epoch 23 Loss 4.8916 Accuracy 0.1877\n",
      "Time taken for 1 epoch: 1.854355812072754 secs\n",
      "\n",
      "Epoch 24 Batch 0 Loss 4.8232 Accuracy 0.1885\n",
      "Epoch 24 Loss 4.7880 Accuracy 0.1917\n",
      "Time taken for 1 epoch: 1.8493225574493408 secs\n",
      "\n",
      "Epoch 25 Batch 0 Loss 4.7038 Accuracy 0.1926\n",
      "Saving checkpoint for epoch 25 at ./checkpoints2/train\\ckpt-5\n",
      "Epoch 25 Loss 4.6901 Accuracy 0.1956\n",
      "Time taken for 1 epoch: 2.0731382369995117 secs\n",
      "\n",
      "Epoch 26 Batch 0 Loss 4.7040 Accuracy 0.2068\n",
      "Epoch 26 Loss 4.6000 Accuracy 0.2011\n",
      "Time taken for 1 epoch: 2.357588052749634 secs\n",
      "\n",
      "Epoch 27 Batch 0 Loss 4.5796 Accuracy 0.2042\n",
      "Epoch 27 Loss 4.5149 Accuracy 0.2045\n",
      "Time taken for 1 epoch: 1.8611812591552734 secs\n",
      "\n",
      "Epoch 28 Batch 0 Loss 4.4159 Accuracy 0.2040\n",
      "Epoch 28 Loss 4.4334 Accuracy 0.2088\n",
      "Time taken for 1 epoch: 1.8481652736663818 secs\n",
      "\n",
      "Epoch 29 Batch 0 Loss 4.4149 Accuracy 0.2089\n",
      "Epoch 29 Loss 4.3560 Accuracy 0.2115\n",
      "Time taken for 1 epoch: 1.8747563362121582 secs\n",
      "\n",
      "Epoch 30 Batch 0 Loss 4.2490 Accuracy 0.2165\n",
      "Saving checkpoint for epoch 30 at ./checkpoints2/train\\ckpt-6\n",
      "Epoch 30 Loss 4.2766 Accuracy 0.2169\n",
      "Time taken for 1 epoch: 2.0436739921569824 secs\n",
      "\n",
      "Epoch 31 Batch 0 Loss 4.2265 Accuracy 0.2133\n",
      "Epoch 31 Loss 4.2023 Accuracy 0.2195\n",
      "Time taken for 1 epoch: 2.305661678314209 secs\n",
      "\n",
      "Epoch 32 Batch 0 Loss 4.1779 Accuracy 0.2204\n",
      "Epoch 32 Loss 4.1357 Accuracy 0.2238\n",
      "Time taken for 1 epoch: 1.8958053588867188 secs\n",
      "\n",
      "Epoch 33 Batch 0 Loss 4.1282 Accuracy 0.2254\n",
      "Epoch 33 Loss 4.0658 Accuracy 0.2267\n",
      "Time taken for 1 epoch: 1.867448329925537 secs\n",
      "\n",
      "Epoch 34 Batch 0 Loss 4.0169 Accuracy 0.2338\n",
      "Epoch 34 Loss 3.9939 Accuracy 0.2300\n",
      "Time taken for 1 epoch: 1.8221158981323242 secs\n",
      "\n",
      "Epoch 35 Batch 0 Loss 3.9183 Accuracy 0.2426\n",
      "Saving checkpoint for epoch 35 at ./checkpoints2/train\\ckpt-7\n",
      "Epoch 35 Loss 3.9315 Accuracy 0.2347\n",
      "Time taken for 1 epoch: 2.028183937072754 secs\n",
      "\n",
      "Epoch 36 Batch 0 Loss 3.8099 Accuracy 0.2578\n",
      "Epoch 36 Loss 3.8615 Accuracy 0.2380\n",
      "Time taken for 1 epoch: 2.4859039783477783 secs\n",
      "\n",
      "Epoch 37 Batch 0 Loss 3.7631 Accuracy 0.2376\n",
      "Epoch 37 Loss 3.7965 Accuracy 0.2388\n",
      "Time taken for 1 epoch: 1.8942947387695312 secs\n",
      "\n",
      "Epoch 38 Batch 0 Loss 3.8098 Accuracy 0.2468\n",
      "Epoch 38 Loss 3.7317 Accuracy 0.2443\n",
      "Time taken for 1 epoch: 1.8367109298706055 secs\n",
      "\n",
      "Epoch 39 Batch 0 Loss 3.6341 Accuracy 0.2416\n",
      "Epoch 39 Loss 3.6632 Accuracy 0.2480\n",
      "Time taken for 1 epoch: 1.8315248489379883 secs\n",
      "\n",
      "Epoch 40 Batch 0 Loss 3.6181 Accuracy 0.2467\n",
      "Saving checkpoint for epoch 40 at ./checkpoints2/train\\ckpt-8\n",
      "Epoch 40 Loss 3.6016 Accuracy 0.2514\n",
      "Time taken for 1 epoch: 2.0437211990356445 secs\n",
      "\n",
      "Epoch 41 Batch 0 Loss 3.5347 Accuracy 0.2515\n",
      "Epoch 41 Loss 3.5321 Accuracy 0.2549\n",
      "Time taken for 1 epoch: 2.394547462463379 secs\n",
      "\n",
      "Epoch 42 Batch 0 Loss 3.5093 Accuracy 0.2602\n",
      "Epoch 42 Loss 3.4674 Accuracy 0.2588\n",
      "Time taken for 1 epoch: 1.8764076232910156 secs\n",
      "\n",
      "Epoch 43 Batch 0 Loss 3.3818 Accuracy 0.2599\n",
      "Epoch 43 Loss 3.3992 Accuracy 0.2634\n",
      "Time taken for 1 epoch: 1.831279993057251 secs\n",
      "\n",
      "Epoch 44 Batch 0 Loss 3.3042 Accuracy 0.2860\n",
      "Epoch 44 Loss 3.3319 Accuracy 0.2667\n",
      "Time taken for 1 epoch: 1.8293273448944092 secs\n",
      "\n",
      "Epoch 45 Batch 0 Loss 3.2803 Accuracy 0.2679\n",
      "Saving checkpoint for epoch 45 at ./checkpoints2/train\\ckpt-9\n",
      "Epoch 45 Loss 3.2610 Accuracy 0.2721\n",
      "Time taken for 1 epoch: 2.0568325519561768 secs\n",
      "\n",
      "Epoch 46 Batch 0 Loss 3.1692 Accuracy 0.2703\n",
      "Epoch 46 Loss 3.1914 Accuracy 0.2777\n",
      "Time taken for 1 epoch: 2.4677255153656006 secs\n",
      "\n",
      "Epoch 47 Batch 0 Loss 3.1700 Accuracy 0.2685\n",
      "Epoch 47 Loss 3.1233 Accuracy 0.2792\n",
      "Time taken for 1 epoch: 1.897364854812622 secs\n",
      "\n",
      "Epoch 48 Batch 0 Loss 3.0342 Accuracy 0.2858\n",
      "Epoch 48 Loss 3.0547 Accuracy 0.2843\n",
      "Time taken for 1 epoch: 1.8332750797271729 secs\n",
      "\n",
      "Epoch 49 Batch 0 Loss 2.9697 Accuracy 0.2908\n",
      "Epoch 49 Loss 2.9832 Accuracy 0.2890\n",
      "Time taken for 1 epoch: 1.8338546752929688 secs\n",
      "\n",
      "Epoch 50 Batch 0 Loss 2.9057 Accuracy 0.2976\n",
      "Saving checkpoint for epoch 50 at ./checkpoints2/train\\ckpt-10\n",
      "Epoch 50 Loss 2.9047 Accuracy 0.2964\n",
      "Time taken for 1 epoch: 2.0434935092926025 secs\n",
      "\n",
      "Epoch 51 Batch 0 Loss 2.8315 Accuracy 0.3253\n",
      "Epoch 51 Loss 2.8299 Accuracy 0.3002\n",
      "Time taken for 1 epoch: 2.4689738750457764 secs\n",
      "\n",
      "Epoch 52 Batch 0 Loss 2.8198 Accuracy 0.2941\n",
      "Epoch 52 Loss 2.7544 Accuracy 0.3050\n",
      "Time taken for 1 epoch: 1.8711187839508057 secs\n",
      "\n",
      "Epoch 53 Batch 0 Loss 2.7137 Accuracy 0.3109\n",
      "Epoch 53 Loss 2.6765 Accuracy 0.3104\n",
      "Time taken for 1 epoch: 1.858081340789795 secs\n",
      "\n",
      "Epoch 54 Batch 0 Loss 2.6384 Accuracy 0.3123\n",
      "Epoch 54 Loss 2.6064 Accuracy 0.3166\n",
      "Time taken for 1 epoch: 1.8528845310211182 secs\n",
      "\n",
      "Epoch 55 Batch 0 Loss 2.5334 Accuracy 0.3222\n",
      "Saving checkpoint for epoch 55 at ./checkpoints2/train\\ckpt-11\n",
      "Epoch 55 Loss 2.5256 Accuracy 0.3227\n",
      "Time taken for 1 epoch: 2.0819971561431885 secs\n",
      "\n",
      "Epoch 56 Batch 0 Loss 2.4393 Accuracy 0.3230\n",
      "Epoch 56 Loss 2.4416 Accuracy 0.3292\n",
      "Time taken for 1 epoch: 2.3543379306793213 secs\n",
      "\n",
      "Epoch 57 Batch 0 Loss 2.3665 Accuracy 0.3508\n",
      "Epoch 57 Loss 2.3613 Accuracy 0.3372\n",
      "Time taken for 1 epoch: 1.8546473979949951 secs\n",
      "\n",
      "Epoch 58 Batch 0 Loss 2.2857 Accuracy 0.3363\n",
      "Epoch 58 Loss 2.2859 Accuracy 0.3435\n",
      "Time taken for 1 epoch: 1.826507329940796 secs\n",
      "\n",
      "Epoch 59 Batch 0 Loss 2.1778 Accuracy 0.3458\n",
      "Epoch 59 Loss 2.2028 Accuracy 0.3502\n",
      "Time taken for 1 epoch: 1.852510690689087 secs\n",
      "\n",
      "Epoch 60 Batch 0 Loss 2.1723 Accuracy 0.3408\n",
      "Saving checkpoint for epoch 60 at ./checkpoints2/train\\ckpt-12\n",
      "Epoch 60 Loss 2.1265 Accuracy 0.3582\n",
      "Time taken for 1 epoch: 2.0712499618530273 secs\n",
      "\n",
      "Epoch 61 Batch 0 Loss 1.9959 Accuracy 0.3711\n",
      "Epoch 61 Loss 2.0370 Accuracy 0.3677\n",
      "Time taken for 1 epoch: 2.369110584259033 secs\n",
      "\n",
      "Epoch 62 Batch 0 Loss 1.9388 Accuracy 0.3777\n",
      "Epoch 62 Loss 1.9604 Accuracy 0.3709\n",
      "Time taken for 1 epoch: 1.8673338890075684 secs\n",
      "\n",
      "Epoch 63 Batch 0 Loss 1.7585 Accuracy 0.3833\n",
      "Epoch 63 Loss 1.8796 Accuracy 0.3811\n",
      "Time taken for 1 epoch: 1.8339769840240479 secs\n",
      "\n",
      "Epoch 64 Batch 0 Loss 1.8135 Accuracy 0.4024\n",
      "Epoch 64 Loss 1.7978 Accuracy 0.3878\n",
      "Time taken for 1 epoch: 1.8170621395111084 secs\n",
      "\n",
      "Epoch 65 Batch 0 Loss 1.6801 Accuracy 0.4037\n",
      "Saving checkpoint for epoch 65 at ./checkpoints2/train\\ckpt-13\n",
      "Epoch 65 Loss 1.7183 Accuracy 0.3977\n",
      "Time taken for 1 epoch: 2.020550012588501 secs\n",
      "\n",
      "Epoch 66 Batch 0 Loss 1.6507 Accuracy 0.4017\n",
      "Epoch 66 Loss 1.6386 Accuracy 0.4056\n",
      "Time taken for 1 epoch: 2.2593531608581543 secs\n",
      "\n",
      "Epoch 67 Batch 0 Loss 1.5828 Accuracy 0.4126\n",
      "Epoch 67 Loss 1.5585 Accuracy 0.4138\n",
      "Time taken for 1 epoch: 1.8807222843170166 secs\n",
      "\n",
      "Epoch 68 Batch 0 Loss 1.4978 Accuracy 0.4151\n",
      "Epoch 68 Loss 1.4866 Accuracy 0.4233\n",
      "Time taken for 1 epoch: 1.832634449005127 secs\n",
      "\n",
      "Epoch 69 Batch 0 Loss 1.3623 Accuracy 0.4279\n",
      "Epoch 69 Loss 1.4121 Accuracy 0.4318\n",
      "Time taken for 1 epoch: 1.8451123237609863 secs\n",
      "\n",
      "Epoch 70 Batch 0 Loss 1.3279 Accuracy 0.4317\n",
      "Saving checkpoint for epoch 70 at ./checkpoints2/train\\ckpt-14\n",
      "Epoch 70 Loss 1.3373 Accuracy 0.4398\n",
      "Time taken for 1 epoch: 2.051076889038086 secs\n",
      "\n",
      "Epoch 71 Batch 0 Loss 1.2425 Accuracy 0.4602\n",
      "Epoch 71 Loss 1.2727 Accuracy 0.4465\n",
      "Time taken for 1 epoch: 2.373621702194214 secs\n",
      "\n",
      "Epoch 72 Batch 0 Loss 1.1870 Accuracy 0.4510\n",
      "Epoch 72 Loss 1.1972 Accuracy 0.4558\n",
      "Time taken for 1 epoch: 1.8961403369903564 secs\n",
      "\n",
      "Epoch 73 Batch 0 Loss 1.1000 Accuracy 0.4638\n",
      "Epoch 73 Loss 1.1331 Accuracy 0.4596\n",
      "Time taken for 1 epoch: 1.852241039276123 secs\n",
      "\n",
      "Epoch 74 Batch 0 Loss 1.0490 Accuracy 0.4883\n",
      "Epoch 74 Loss 1.0714 Accuracy 0.4668\n",
      "Time taken for 1 epoch: 1.8477075099945068 secs\n",
      "\n",
      "Epoch 75 Batch 0 Loss 0.9965 Accuracy 0.4932\n",
      "Saving checkpoint for epoch 75 at ./checkpoints2/train\\ckpt-15\n",
      "Epoch 75 Loss 1.0119 Accuracy 0.4751\n",
      "Time taken for 1 epoch: 2.1000421047210693 secs\n",
      "\n",
      "Epoch 76 Batch 0 Loss 0.9210 Accuracy 0.4699\n",
      "Epoch 76 Loss 0.9580 Accuracy 0.4792\n",
      "Time taken for 1 epoch: 2.3131606578826904 secs\n",
      "\n",
      "Epoch 77 Batch 0 Loss 0.8798 Accuracy 0.4824\n",
      "Epoch 77 Loss 0.8950 Accuracy 0.4856\n",
      "Time taken for 1 epoch: 1.8695800304412842 secs\n",
      "\n",
      "Epoch 78 Batch 0 Loss 0.7901 Accuracy 0.5265\n",
      "Epoch 78 Loss 0.8461 Accuracy 0.4942\n",
      "Time taken for 1 epoch: 1.841118335723877 secs\n",
      "\n",
      "Epoch 79 Batch 0 Loss 0.7555 Accuracy 0.4957\n",
      "Epoch 79 Loss 0.7940 Accuracy 0.4996\n",
      "Time taken for 1 epoch: 1.848127841949463 secs\n",
      "\n",
      "Epoch 80 Batch 0 Loss 0.7305 Accuracy 0.4982\n",
      "Saving checkpoint for epoch 80 at ./checkpoints2/train\\ckpt-16\n",
      "Epoch 80 Loss 0.7516 Accuracy 0.5080\n",
      "Time taken for 1 epoch: 2.151972770690918 secs\n",
      "\n",
      "Epoch 81 Batch 0 Loss 0.7073 Accuracy 0.5090\n",
      "Epoch 81 Loss 0.7031 Accuracy 0.5097\n",
      "Time taken for 1 epoch: 2.3497848510742188 secs\n",
      "\n",
      "Epoch 82 Batch 0 Loss 0.6506 Accuracy 0.5144\n",
      "Epoch 82 Loss 0.6544 Accuracy 0.5164\n",
      "Time taken for 1 epoch: 1.8568229675292969 secs\n",
      "\n",
      "Epoch 83 Batch 0 Loss 0.5948 Accuracy 0.5308\n",
      "Epoch 83 Loss 0.6190 Accuracy 0.5192\n",
      "Time taken for 1 epoch: 1.8623108863830566 secs\n",
      "\n",
      "Epoch 84 Batch 0 Loss 0.5670 Accuracy 0.5338\n",
      "Epoch 84 Loss 0.5856 Accuracy 0.5251\n",
      "Time taken for 1 epoch: 1.8401412963867188 secs\n",
      "\n",
      "Epoch 85 Batch 0 Loss 0.5270 Accuracy 0.5431\n",
      "Saving checkpoint for epoch 85 at ./checkpoints2/train\\ckpt-17\n",
      "Epoch 85 Loss 0.5521 Accuracy 0.5299\n",
      "Time taken for 1 epoch: 2.1169283390045166 secs\n",
      "\n",
      "Epoch 86 Batch 0 Loss 0.4906 Accuracy 0.5565\n",
      "Epoch 86 Loss 0.5186 Accuracy 0.5324\n",
      "Time taken for 1 epoch: 2.2725818157196045 secs\n",
      "\n",
      "Epoch 87 Batch 0 Loss 0.4729 Accuracy 0.5447\n",
      "Epoch 87 Loss 0.4884 Accuracy 0.5372\n",
      "Time taken for 1 epoch: 1.8800406455993652 secs\n",
      "\n",
      "Epoch 88 Batch 0 Loss 0.4667 Accuracy 0.5497\n",
      "Epoch 88 Loss 0.4703 Accuracy 0.5386\n",
      "Time taken for 1 epoch: 1.8407411575317383 secs\n",
      "\n",
      "Epoch 89 Batch 0 Loss 0.4106 Accuracy 0.5372\n",
      "Epoch 89 Loss 0.4463 Accuracy 0.5430\n",
      "Time taken for 1 epoch: 1.871875524520874 secs\n",
      "\n",
      "Epoch 90 Batch 0 Loss 0.4013 Accuracy 0.5462\n",
      "Saving checkpoint for epoch 90 at ./checkpoints2/train\\ckpt-18\n",
      "Epoch 90 Loss 0.4134 Accuracy 0.5483\n",
      "Time taken for 1 epoch: 2.0683131217956543 secs\n",
      "\n",
      "Epoch 91 Batch 0 Loss 0.3726 Accuracy 0.5706\n",
      "Epoch 91 Loss 0.3968 Accuracy 0.5508\n",
      "Time taken for 1 epoch: 2.6330714225769043 secs\n",
      "\n",
      "Epoch 92 Batch 0 Loss 0.3846 Accuracy 0.5415\n",
      "Epoch 92 Loss 0.3829 Accuracy 0.5513\n",
      "Time taken for 1 epoch: 2.0028395652770996 secs\n",
      "\n",
      "Epoch 93 Batch 0 Loss 0.3342 Accuracy 0.5635\n",
      "Epoch 93 Loss 0.3609 Accuracy 0.5537\n",
      "Time taken for 1 epoch: 1.8721027374267578 secs\n",
      "\n",
      "Epoch 94 Batch 0 Loss 0.3384 Accuracy 0.5668\n",
      "Epoch 94 Loss 0.3485 Accuracy 0.5557\n",
      "Time taken for 1 epoch: 1.8527605533599854 secs\n",
      "\n",
      "Epoch 95 Batch 0 Loss 0.2961 Accuracy 0.5465\n",
      "Saving checkpoint for epoch 95 at ./checkpoints2/train\\ckpt-19\n",
      "Epoch 95 Loss 0.3276 Accuracy 0.5581\n",
      "Time taken for 1 epoch: 2.0800845623016357 secs\n",
      "\n",
      "Epoch 96 Batch 0 Loss 0.2841 Accuracy 0.5517\n",
      "Epoch 96 Loss 0.3155 Accuracy 0.5612\n",
      "Time taken for 1 epoch: 2.306938886642456 secs\n",
      "\n",
      "Epoch 97 Batch 0 Loss 0.2758 Accuracy 0.5576\n",
      "Epoch 97 Loss 0.3003 Accuracy 0.5629\n",
      "Time taken for 1 epoch: 1.8600430488586426 secs\n",
      "\n",
      "Epoch 98 Batch 0 Loss 0.2752 Accuracy 0.6044\n",
      "Epoch 98 Loss 0.2904 Accuracy 0.5647\n",
      "Time taken for 1 epoch: 1.8687376976013184 secs\n",
      "\n",
      "Epoch 99 Batch 0 Loss 0.2462 Accuracy 0.5914\n",
      "Epoch 99 Loss 0.2799 Accuracy 0.5638\n",
      "Time taken for 1 epoch: 1.8747963905334473 secs\n",
      "\n",
      "Epoch 100 Batch 0 Loss 0.2497 Accuracy 0.5708\n",
      "Saving checkpoint for epoch 100 at ./checkpoints2/train\\ckpt-20\n",
      "Epoch 100 Loss 0.2745 Accuracy 0.5668\n",
      "Time taken for 1 epoch: 2.0719563961029053 secs\n",
      "\n",
      "Epoch 101 Batch 0 Loss 0.2514 Accuracy 0.5862\n",
      "Epoch 101 Loss 0.2579 Accuracy 0.5689\n",
      "Time taken for 1 epoch: 2.336839199066162 secs\n",
      "\n",
      "Epoch 102 Batch 0 Loss 0.2376 Accuracy 0.5986\n",
      "Epoch 102 Loss 0.2596 Accuracy 0.5680\n",
      "Time taken for 1 epoch: 1.9024875164031982 secs\n",
      "\n",
      "Epoch 103 Batch 0 Loss 0.2317 Accuracy 0.5678\n",
      "Epoch 103 Loss 0.2472 Accuracy 0.5732\n",
      "Time taken for 1 epoch: 1.8707964420318604 secs\n",
      "\n",
      "Epoch 104 Batch 0 Loss 0.2193 Accuracy 0.5630\n",
      "Epoch 104 Loss 0.2442 Accuracy 0.5687\n",
      "Time taken for 1 epoch: 1.8863286972045898 secs\n",
      "\n",
      "Epoch 105 Batch 0 Loss 0.2296 Accuracy 0.5651\n",
      "Saving checkpoint for epoch 105 at ./checkpoints2/train\\ckpt-21\n",
      "Epoch 105 Loss 0.2402 Accuracy 0.5704\n",
      "Time taken for 1 epoch: 2.1098530292510986 secs\n",
      "\n",
      "Epoch 106 Batch 0 Loss 0.2096 Accuracy 0.6139\n",
      "Epoch 106 Loss 0.2255 Accuracy 0.5773\n",
      "Time taken for 1 epoch: 2.297985792160034 secs\n",
      "\n",
      "Epoch 107 Batch 0 Loss 0.2107 Accuracy 0.5778\n",
      "Epoch 107 Loss 0.2214 Accuracy 0.5745\n",
      "Time taken for 1 epoch: 1.8751487731933594 secs\n",
      "\n",
      "Epoch 108 Batch 0 Loss 0.2053 Accuracy 0.6035\n",
      "Epoch 108 Loss 0.2180 Accuracy 0.5737\n",
      "Time taken for 1 epoch: 1.8516809940338135 secs\n",
      "\n",
      "Epoch 109 Batch 0 Loss 0.1979 Accuracy 0.5869\n",
      "Epoch 109 Loss 0.2132 Accuracy 0.5772\n",
      "Time taken for 1 epoch: 1.8757715225219727 secs\n",
      "\n",
      "Epoch 110 Batch 0 Loss 0.1799 Accuracy 0.5855\n",
      "Saving checkpoint for epoch 110 at ./checkpoints2/train\\ckpt-22\n",
      "Epoch 110 Loss 0.2070 Accuracy 0.5771\n",
      "Time taken for 1 epoch: 2.3029773235321045 secs\n",
      "\n",
      "Epoch 111 Batch 0 Loss 0.1885 Accuracy 0.5650\n",
      "Epoch 111 Loss 0.2028 Accuracy 0.5794\n",
      "Time taken for 1 epoch: 2.5022425651550293 secs\n",
      "\n",
      "Epoch 112 Batch 0 Loss 0.1756 Accuracy 0.6143\n",
      "Epoch 112 Loss 0.1954 Accuracy 0.5789\n",
      "Time taken for 1 epoch: 1.9111425876617432 secs\n",
      "\n",
      "Epoch 113 Batch 0 Loss 0.1655 Accuracy 0.5624\n",
      "Epoch 113 Loss 0.1916 Accuracy 0.5781\n",
      "Time taken for 1 epoch: 1.8520467281341553 secs\n",
      "\n",
      "Epoch 114 Batch 0 Loss 0.1670 Accuracy 0.5725\n",
      "Epoch 114 Loss 0.1892 Accuracy 0.5806\n",
      "Time taken for 1 epoch: 1.8694474697113037 secs\n",
      "\n",
      "Epoch 115 Batch 0 Loss 0.1726 Accuracy 0.6012\n",
      "Saving checkpoint for epoch 115 at ./checkpoints2/train\\ckpt-23\n",
      "Epoch 115 Loss 0.1890 Accuracy 0.5807\n",
      "Time taken for 1 epoch: 2.0855395793914795 secs\n",
      "\n",
      "Epoch 116 Batch 0 Loss 0.1614 Accuracy 0.5683\n",
      "Epoch 116 Loss 0.1872 Accuracy 0.5810\n",
      "Time taken for 1 epoch: 2.4260740280151367 secs\n",
      "\n",
      "Epoch 117 Batch 0 Loss 0.1619 Accuracy 0.5723\n",
      "Epoch 117 Loss 0.1806 Accuracy 0.5813\n",
      "Time taken for 1 epoch: 1.8472065925598145 secs\n",
      "\n",
      "Epoch 118 Batch 0 Loss 0.1676 Accuracy 0.5942\n",
      "Epoch 118 Loss 0.1769 Accuracy 0.5826\n",
      "Time taken for 1 epoch: 1.85573410987854 secs\n",
      "\n",
      "Epoch 119 Batch 0 Loss 0.1698 Accuracy 0.5839\n",
      "Epoch 119 Loss 0.1728 Accuracy 0.5822\n",
      "Time taken for 1 epoch: 1.8536064624786377 secs\n",
      "\n",
      "Epoch 120 Batch 0 Loss 0.1651 Accuracy 0.5723\n",
      "Saving checkpoint for epoch 120 at ./checkpoints2/train\\ckpt-24\n",
      "Epoch 120 Loss 0.1677 Accuracy 0.5844\n",
      "Time taken for 1 epoch: 2.156479835510254 secs\n",
      "\n",
      "Epoch 121 Batch 0 Loss 0.1429 Accuracy 0.5790\n",
      "Epoch 121 Loss 0.1696 Accuracy 0.5845\n",
      "Time taken for 1 epoch: 2.2632381916046143 secs\n",
      "\n",
      "Epoch 122 Batch 0 Loss 0.1387 Accuracy 0.5740\n",
      "Epoch 122 Loss 0.1634 Accuracy 0.5831\n",
      "Time taken for 1 epoch: 1.8785970211029053 secs\n",
      "\n",
      "Epoch 123 Batch 0 Loss 0.1340 Accuracy 0.6145\n",
      "Epoch 123 Loss 0.1644 Accuracy 0.5848\n",
      "Time taken for 1 epoch: 1.8482980728149414 secs\n",
      "\n",
      "Epoch 124 Batch 0 Loss 0.1599 Accuracy 0.5660\n",
      "Epoch 124 Loss 0.1676 Accuracy 0.5845\n",
      "Time taken for 1 epoch: 1.8938956260681152 secs\n",
      "\n",
      "Epoch 125 Batch 0 Loss 0.1499 Accuracy 0.5884\n",
      "Saving checkpoint for epoch 125 at ./checkpoints2/train\\ckpt-25\n",
      "Epoch 125 Loss 0.1590 Accuracy 0.5840\n",
      "Time taken for 1 epoch: 2.083081007003784 secs\n",
      "\n",
      "Epoch 126 Batch 0 Loss 0.1398 Accuracy 0.5804\n",
      "Epoch 126 Loss 0.1576 Accuracy 0.5868\n",
      "Time taken for 1 epoch: 2.49716854095459 secs\n",
      "\n",
      "Epoch 127 Batch 0 Loss 0.1514 Accuracy 0.5827\n",
      "Epoch 127 Loss 0.1546 Accuracy 0.5897\n",
      "Time taken for 1 epoch: 1.9480445384979248 secs\n",
      "\n",
      "Epoch 128 Batch 0 Loss 0.1200 Accuracy 0.6092\n",
      "Epoch 128 Loss 0.1529 Accuracy 0.5894\n",
      "Time taken for 1 epoch: 1.8830742835998535 secs\n",
      "\n",
      "Epoch 129 Batch 0 Loss 0.1368 Accuracy 0.5793\n",
      "Epoch 129 Loss 0.1507 Accuracy 0.5870\n",
      "Time taken for 1 epoch: 1.9072902202606201 secs\n",
      "\n",
      "Epoch 130 Batch 0 Loss 0.1174 Accuracy 0.5752\n",
      "Saving checkpoint for epoch 130 at ./checkpoints2/train\\ckpt-26\n",
      "Epoch 130 Loss 0.1448 Accuracy 0.5858\n",
      "Time taken for 1 epoch: 2.1645290851593018 secs\n",
      "\n",
      "Epoch 131 Batch 0 Loss 0.1198 Accuracy 0.5854\n",
      "Epoch 131 Loss 0.1481 Accuracy 0.5845\n",
      "Time taken for 1 epoch: 2.2928247451782227 secs\n",
      "\n",
      "Epoch 132 Batch 0 Loss 0.1356 Accuracy 0.5840\n",
      "Epoch 132 Loss 0.1446 Accuracy 0.5876\n",
      "Time taken for 1 epoch: 1.8883986473083496 secs\n",
      "\n",
      "Epoch 133 Batch 0 Loss 0.1164 Accuracy 0.6175\n",
      "Epoch 133 Loss 0.1366 Accuracy 0.5869\n",
      "Time taken for 1 epoch: 1.871337652206421 secs\n",
      "\n",
      "Epoch 134 Batch 0 Loss 0.1273 Accuracy 0.5844\n",
      "Epoch 134 Loss 0.1392 Accuracy 0.5899\n",
      "Time taken for 1 epoch: 1.8636424541473389 secs\n",
      "\n",
      "Epoch 135 Batch 0 Loss 0.1098 Accuracy 0.6104\n",
      "Saving checkpoint for epoch 135 at ./checkpoints2/train\\ckpt-27\n",
      "Epoch 135 Loss 0.1321 Accuracy 0.5849\n",
      "Time taken for 1 epoch: 2.0886776447296143 secs\n",
      "\n",
      "Epoch 136 Batch 0 Loss 0.1229 Accuracy 0.6025\n",
      "Epoch 136 Loss 0.1231 Accuracy 0.5899\n",
      "Time taken for 1 epoch: 2.266954183578491 secs\n",
      "\n",
      "Epoch 137 Batch 0 Loss 0.1275 Accuracy 0.5861\n",
      "Epoch 137 Loss 0.1258 Accuracy 0.5915\n",
      "Time taken for 1 epoch: 1.8601229190826416 secs\n",
      "\n",
      "Epoch 138 Batch 0 Loss 0.1185 Accuracy 0.5806\n",
      "Epoch 138 Loss 0.1255 Accuracy 0.5891\n",
      "Time taken for 1 epoch: 1.8667089939117432 secs\n",
      "\n",
      "Epoch 139 Batch 0 Loss 0.1067 Accuracy 0.5873\n",
      "Epoch 139 Loss 0.1181 Accuracy 0.5916\n",
      "Time taken for 1 epoch: 1.8668816089630127 secs\n",
      "\n",
      "Epoch 140 Batch 0 Loss 0.1240 Accuracy 0.5770\n",
      "Saving checkpoint for epoch 140 at ./checkpoints2/train\\ckpt-28\n",
      "Epoch 140 Loss 0.1180 Accuracy 0.5937\n",
      "Time taken for 1 epoch: 2.0875661373138428 secs\n",
      "\n",
      "Epoch 141 Batch 0 Loss 0.1048 Accuracy 0.5804\n",
      "Epoch 141 Loss 0.1161 Accuracy 0.5944\n",
      "Time taken for 1 epoch: 2.454956293106079 secs\n",
      "\n",
      "Epoch 142 Batch 0 Loss 0.1062 Accuracy 0.6075\n",
      "Epoch 142 Loss 0.1089 Accuracy 0.5958\n",
      "Time taken for 1 epoch: 1.9644157886505127 secs\n",
      "\n",
      "Epoch 143 Batch 0 Loss 0.0977 Accuracy 0.5950\n",
      "Epoch 143 Loss 0.1100 Accuracy 0.5951\n",
      "Time taken for 1 epoch: 1.8546602725982666 secs\n",
      "\n",
      "Epoch 144 Batch 0 Loss 0.1036 Accuracy 0.5969\n",
      "Epoch 144 Loss 0.1084 Accuracy 0.5962\n",
      "Time taken for 1 epoch: 1.8456497192382812 secs\n",
      "\n",
      "Epoch 145 Batch 0 Loss 0.1047 Accuracy 0.5957\n",
      "Saving checkpoint for epoch 145 at ./checkpoints2/train\\ckpt-29\n",
      "Epoch 145 Loss 0.1061 Accuracy 0.5933\n",
      "Time taken for 1 epoch: 2.1010894775390625 secs\n",
      "\n",
      "Epoch 146 Batch 0 Loss 0.0864 Accuracy 0.6155\n",
      "Epoch 146 Loss 0.1012 Accuracy 0.5929\n",
      "Time taken for 1 epoch: 2.250314474105835 secs\n",
      "\n",
      "Epoch 147 Batch 0 Loss 0.0908 Accuracy 0.6012\n",
      "Epoch 147 Loss 0.1007 Accuracy 0.5955\n",
      "Time taken for 1 epoch: 1.8818209171295166 secs\n",
      "\n",
      "Epoch 148 Batch 0 Loss 0.0858 Accuracy 0.5881\n",
      "Epoch 148 Loss 0.1003 Accuracy 0.5949\n",
      "Time taken for 1 epoch: 1.8617374897003174 secs\n",
      "\n",
      "Epoch 149 Batch 0 Loss 0.0916 Accuracy 0.5838\n",
      "Epoch 149 Loss 0.0988 Accuracy 0.5981\n",
      "Time taken for 1 epoch: 1.8734185695648193 secs\n",
      "\n",
      "Epoch 150 Batch 0 Loss 0.0821 Accuracy 0.5951\n",
      "Saving checkpoint for epoch 150 at ./checkpoints2/train\\ckpt-30\n",
      "Epoch 150 Loss 0.0969 Accuracy 0.5975\n",
      "Time taken for 1 epoch: 2.057715892791748 secs\n",
      "\n",
      "Epoch 151 Batch 0 Loss 0.0892 Accuracy 0.5849\n",
      "Epoch 151 Loss 0.0944 Accuracy 0.5989\n",
      "Time taken for 1 epoch: 2.243457317352295 secs\n",
      "\n",
      "Epoch 152 Batch 0 Loss 0.0784 Accuracy 0.5906\n",
      "Epoch 152 Loss 0.0928 Accuracy 0.5952\n",
      "Time taken for 1 epoch: 1.8985204696655273 secs\n",
      "\n",
      "Epoch 153 Batch 0 Loss 0.0742 Accuracy 0.5884\n",
      "Epoch 153 Loss 0.0896 Accuracy 0.5972\n",
      "Time taken for 1 epoch: 1.858729362487793 secs\n",
      "\n",
      "Epoch 154 Batch 0 Loss 0.0818 Accuracy 0.5984\n",
      "Epoch 154 Loss 0.0891 Accuracy 0.5994\n",
      "Time taken for 1 epoch: 1.871994972229004 secs\n",
      "\n",
      "Epoch 155 Batch 0 Loss 0.0758 Accuracy 0.5970\n",
      "Saving checkpoint for epoch 155 at ./checkpoints2/train\\ckpt-31\n",
      "Epoch 155 Loss 0.0886 Accuracy 0.5983\n",
      "Time taken for 1 epoch: 2.0652706623077393 secs\n",
      "\n",
      "Epoch 156 Batch 0 Loss 0.0733 Accuracy 0.5951\n",
      "Epoch 156 Loss 0.0870 Accuracy 0.5999\n",
      "Time taken for 1 epoch: 2.3685457706451416 secs\n",
      "\n",
      "Epoch 157 Batch 0 Loss 0.0796 Accuracy 0.5985\n",
      "Epoch 157 Loss 0.0847 Accuracy 0.5970\n",
      "Time taken for 1 epoch: 1.9537684917449951 secs\n",
      "\n",
      "Epoch 158 Batch 0 Loss 0.0753 Accuracy 0.6155\n",
      "Epoch 158 Loss 0.0841 Accuracy 0.5977\n",
      "Time taken for 1 epoch: 1.866480827331543 secs\n",
      "\n",
      "Epoch 159 Batch 0 Loss 0.0685 Accuracy 0.6143\n",
      "Epoch 159 Loss 0.0833 Accuracy 0.5986\n",
      "Time taken for 1 epoch: 1.8541769981384277 secs\n",
      "\n",
      "Epoch 160 Batch 0 Loss 0.0706 Accuracy 0.6001\n",
      "Saving checkpoint for epoch 160 at ./checkpoints2/train\\ckpt-32\n",
      "Epoch 160 Loss 0.0802 Accuracy 0.5996\n",
      "Time taken for 1 epoch: 2.080116033554077 secs\n",
      "\n",
      "Epoch 161 Batch 0 Loss 0.0644 Accuracy 0.6001\n",
      "Epoch 161 Loss 0.0800 Accuracy 0.5990\n",
      "Time taken for 1 epoch: 2.3163394927978516 secs\n",
      "\n",
      "Epoch 162 Batch 0 Loss 0.0693 Accuracy 0.5909\n",
      "Epoch 162 Loss 0.0762 Accuracy 0.6023\n",
      "Time taken for 1 epoch: 1.8951897621154785 secs\n",
      "\n",
      "Epoch 163 Batch 0 Loss 0.0631 Accuracy 0.5961\n",
      "Epoch 163 Loss 0.0776 Accuracy 0.5983\n",
      "Time taken for 1 epoch: 1.8172247409820557 secs\n",
      "\n",
      "Epoch 164 Batch 0 Loss 0.0631 Accuracy 0.5915\n",
      "Epoch 164 Loss 0.0749 Accuracy 0.6009\n",
      "Time taken for 1 epoch: 1.8508720397949219 secs\n",
      "\n",
      "Epoch 165 Batch 0 Loss 0.0723 Accuracy 0.5934\n",
      "Saving checkpoint for epoch 165 at ./checkpoints2/train\\ckpt-33\n",
      "Epoch 165 Loss 0.0730 Accuracy 0.5989\n",
      "Time taken for 1 epoch: 2.074610471725464 secs\n",
      "\n",
      "Epoch 166 Batch 0 Loss 0.0589 Accuracy 0.5990\n",
      "Epoch 166 Loss 0.0739 Accuracy 0.5980\n",
      "Time taken for 1 epoch: 2.617678642272949 secs\n",
      "\n",
      "Epoch 167 Batch 0 Loss 0.0686 Accuracy 0.5862\n",
      "Epoch 167 Loss 0.0699 Accuracy 0.5999\n",
      "Time taken for 1 epoch: 1.9203705787658691 secs\n",
      "\n",
      "Epoch 168 Batch 0 Loss 0.0608 Accuracy 0.6173\n",
      "Epoch 168 Loss 0.0710 Accuracy 0.5998\n",
      "Time taken for 1 epoch: 1.8660988807678223 secs\n",
      "\n",
      "Epoch 169 Batch 0 Loss 0.0512 Accuracy 0.6263\n",
      "Epoch 169 Loss 0.0682 Accuracy 0.6001\n",
      "Time taken for 1 epoch: 1.8680026531219482 secs\n",
      "\n",
      "Epoch 170 Batch 0 Loss 0.0645 Accuracy 0.5889\n",
      "Saving checkpoint for epoch 170 at ./checkpoints2/train\\ckpt-34\n",
      "Epoch 170 Loss 0.0706 Accuracy 0.6007\n",
      "Time taken for 1 epoch: 2.08292818069458 secs\n",
      "\n",
      "Epoch 171 Batch 0 Loss 0.0588 Accuracy 0.6129\n",
      "Epoch 171 Loss 0.0681 Accuracy 0.6003\n",
      "Time taken for 1 epoch: 2.2870466709136963 secs\n",
      "\n",
      "Epoch 172 Batch 0 Loss 0.0555 Accuracy 0.6214\n",
      "Epoch 172 Loss 0.0680 Accuracy 0.6002\n",
      "Time taken for 1 epoch: 1.8714439868927002 secs\n",
      "\n",
      "Epoch 173 Batch 0 Loss 0.0607 Accuracy 0.6145\n",
      "Epoch 173 Loss 0.0669 Accuracy 0.6015\n",
      "Time taken for 1 epoch: 1.837172031402588 secs\n",
      "\n",
      "Epoch 174 Batch 0 Loss 0.0655 Accuracy 0.6210\n",
      "Epoch 174 Loss 0.0664 Accuracy 0.6016\n",
      "Time taken for 1 epoch: 1.8666203022003174 secs\n",
      "\n",
      "Epoch 175 Batch 0 Loss 0.0585 Accuracy 0.5992\n",
      "Saving checkpoint for epoch 175 at ./checkpoints2/train\\ckpt-35\n",
      "Epoch 175 Loss 0.0618 Accuracy 0.5999\n",
      "Time taken for 1 epoch: 2.129138946533203 secs\n",
      "\n",
      "Epoch 176 Batch 0 Loss 0.0673 Accuracy 0.5806\n",
      "Epoch 176 Loss 0.0627 Accuracy 0.6004\n",
      "Time taken for 1 epoch: 2.576808214187622 secs\n",
      "\n",
      "Epoch 177 Batch 0 Loss 0.0551 Accuracy 0.6293\n",
      "Epoch 177 Loss 0.0632 Accuracy 0.6060\n",
      "Time taken for 1 epoch: 1.8684372901916504 secs\n",
      "\n",
      "Epoch 178 Batch 0 Loss 0.0522 Accuracy 0.6176\n",
      "Epoch 178 Loss 0.0620 Accuracy 0.6024\n",
      "Time taken for 1 epoch: 1.8537383079528809 secs\n",
      "\n",
      "Epoch 179 Batch 0 Loss 0.0531 Accuracy 0.6183\n",
      "Epoch 179 Loss 0.0595 Accuracy 0.6006\n",
      "Time taken for 1 epoch: 1.8402464389801025 secs\n",
      "\n",
      "Epoch 180 Batch 0 Loss 0.0500 Accuracy 0.6122\n",
      "Saving checkpoint for epoch 180 at ./checkpoints2/train\\ckpt-36\n",
      "Epoch 180 Loss 0.0590 Accuracy 0.6039\n",
      "Time taken for 1 epoch: 2.0427441596984863 secs\n",
      "\n",
      "Epoch 181 Batch 0 Loss 0.0517 Accuracy 0.5799\n",
      "Epoch 181 Loss 0.0558 Accuracy 0.6023\n",
      "Time taken for 1 epoch: 2.198523759841919 secs\n",
      "\n",
      "Epoch 182 Batch 0 Loss 0.0499 Accuracy 0.5908\n",
      "Epoch 182 Loss 0.0587 Accuracy 0.6023\n",
      "Time taken for 1 epoch: 1.8341050148010254 secs\n",
      "\n",
      "Epoch 183 Batch 0 Loss 0.0532 Accuracy 0.6315\n",
      "Epoch 183 Loss 0.0569 Accuracy 0.6034\n",
      "Time taken for 1 epoch: 1.8582985401153564 secs\n",
      "\n",
      "Epoch 184 Batch 0 Loss 0.0525 Accuracy 0.6011\n",
      "Epoch 184 Loss 0.0559 Accuracy 0.6031\n",
      "Time taken for 1 epoch: 1.8563790321350098 secs\n",
      "\n",
      "Epoch 185 Batch 0 Loss 0.0509 Accuracy 0.6167\n",
      "Saving checkpoint for epoch 185 at ./checkpoints2/train\\ckpt-37\n",
      "Epoch 185 Loss 0.0556 Accuracy 0.6035\n",
      "Time taken for 1 epoch: 2.0785012245178223 secs\n",
      "\n",
      "Epoch 186 Batch 0 Loss 0.0515 Accuracy 0.5926\n",
      "Epoch 186 Loss 0.0565 Accuracy 0.6041\n",
      "Time taken for 1 epoch: 2.376729726791382 secs\n",
      "\n",
      "Epoch 187 Batch 0 Loss 0.0488 Accuracy 0.5911\n",
      "Epoch 187 Loss 0.0536 Accuracy 0.6050\n",
      "Time taken for 1 epoch: 1.9429361820220947 secs\n",
      "\n",
      "Epoch 188 Batch 0 Loss 0.0547 Accuracy 0.6059\n",
      "Epoch 188 Loss 0.0550 Accuracy 0.6041\n",
      "Time taken for 1 epoch: 1.8476948738098145 secs\n",
      "\n",
      "Epoch 189 Batch 0 Loss 0.0509 Accuracy 0.6050\n",
      "Epoch 189 Loss 0.0520 Accuracy 0.6036\n",
      "Time taken for 1 epoch: 1.8773553371429443 secs\n",
      "\n",
      "Epoch 190 Batch 0 Loss 0.0483 Accuracy 0.6294\n",
      "Saving checkpoint for epoch 190 at ./checkpoints2/train\\ckpt-38\n",
      "Epoch 190 Loss 0.0519 Accuracy 0.6012\n",
      "Time taken for 1 epoch: 2.082106351852417 secs\n",
      "\n",
      "Epoch 191 Batch 0 Loss 0.0499 Accuracy 0.6047\n",
      "Epoch 191 Loss 0.0531 Accuracy 0.6057\n",
      "Time taken for 1 epoch: 2.2204089164733887 secs\n",
      "\n",
      "Epoch 192 Batch 0 Loss 0.0466 Accuracy 0.6475\n",
      "Epoch 192 Loss 0.0520 Accuracy 0.6073\n",
      "Time taken for 1 epoch: 1.939389705657959 secs\n",
      "\n",
      "Epoch 193 Batch 0 Loss 0.0546 Accuracy 0.6381\n",
      "Epoch 193 Loss 0.0511 Accuracy 0.6054\n",
      "Time taken for 1 epoch: 1.8366577625274658 secs\n",
      "\n",
      "Epoch 194 Batch 0 Loss 0.0450 Accuracy 0.6471\n",
      "Epoch 194 Loss 0.0496 Accuracy 0.6049\n",
      "Time taken for 1 epoch: 1.8627948760986328 secs\n",
      "\n",
      "Epoch 195 Batch 0 Loss 0.0437 Accuracy 0.5971\n",
      "Saving checkpoint for epoch 195 at ./checkpoints2/train\\ckpt-39\n",
      "Epoch 195 Loss 0.0492 Accuracy 0.6024\n",
      "Time taken for 1 epoch: 2.0557353496551514 secs\n",
      "\n",
      "Epoch 196 Batch 0 Loss 0.0468 Accuracy 0.6058\n",
      "Epoch 196 Loss 0.0488 Accuracy 0.6033\n",
      "Time taken for 1 epoch: 2.266275405883789 secs\n",
      "\n",
      "Epoch 197 Batch 0 Loss 0.0473 Accuracy 0.6077\n",
      "Epoch 197 Loss 0.0483 Accuracy 0.6055\n",
      "Time taken for 1 epoch: 1.83711838722229 secs\n",
      "\n",
      "Epoch 198 Batch 0 Loss 0.0414 Accuracy 0.6159\n",
      "Epoch 198 Loss 0.0480 Accuracy 0.6066\n",
      "Time taken for 1 epoch: 1.813194990158081 secs\n",
      "\n",
      "Epoch 199 Batch 0 Loss 0.0457 Accuracy 0.6205\n",
      "Epoch 199 Loss 0.0488 Accuracy 0.6037\n",
      "Time taken for 1 epoch: 1.8527650833129883 secs\n",
      "\n",
      "Epoch 200 Batch 0 Loss 0.0467 Accuracy 0.5940\n",
      "Saving checkpoint for epoch 200 at ./checkpoints2/train\\ckpt-40\n",
      "Epoch 200 Loss 0.0475 Accuracy 0.6035\n",
      "Time taken for 1 epoch: 2.078993320465088 secs\n",
      "\n"
     ]
    }
   ],
   "source": [
    "for epoch in range(EPOCHS):\n",
    "  start = time.time()\n",
    "  \n",
    "  train_loss.reset_states()\n",
    "  train_accuracy.reset_states()\n",
    "  \n",
    "  # inp -> korean, tar -> english\n",
    "  for (batch, (inp, tar)) in enumerate(train_dataset):\n",
    "    train_step(inp, tar)\n",
    "    \n",
    "    if batch % 50 == 0:\n",
    "      print ('Epoch {} Batch {} Loss {:.4f} Accuracy {:.4f}'.format(\n",
    "          epoch + 1, batch, train_loss.result(), train_accuracy.result()))\n",
    "      \n",
    "  if (epoch + 1) % 5 == 0:\n",
    "    ckpt_save_path = ckpt_manager.save()\n",
    "    print ('Saving checkpoint for epoch {} at {}'.format(epoch+1,\n",
    "                                                         ckpt_save_path))\n",
    "    \n",
    "  print ('Epoch {} Loss {:.4f} Accuracy {:.4f}'.format(epoch + 1, \n",
    "                                                train_loss.result(), \n",
    "                                                train_accuracy.result()))\n",
    "\n",
    "  print ('Time taken for 1 epoch: {} secs\\n'.format(time.time() - start))"
   ]
  },
  {
   "cell_type": "code",
   "execution_count": null,
   "metadata": {},
   "outputs": [],
   "source": []
  },
  {
   "cell_type": "markdown",
   "metadata": {
    "id": "QfcsSWswSdGV"
   },
   "source": [
    "## Evaluate"
   ]
  },
  {
   "cell_type": "markdown",
   "metadata": {
    "id": "y6APsFrgImLW"
   },
   "source": [
    "The following steps are used for evaluation:\n",
    "\n",
    "* Encode the input sentence using the Portuguese tokenizer (`tokenizer_pt`). Moreover, add the start and end token so the input is equivalent to what the model is trained with. This is the encoder input.\n",
    "* The decoder input is the `start token == tokenizer_en.vocab_size`.\n",
    "* Calculate the padding masks and the look ahead masks.\n",
    "* The `decoder` then outputs the predictions by looking at the `encoder output` and its own output (self-attention).\n",
    "* Select the last word and calculate the argmax of that.\n",
    "* Concatentate the predicted word to the decoder input as pass it to the decoder.\n",
    "* In this approach, the decoder predicts the next word based on the previous words it predicted.\n",
    "\n",
    "Note: The model used here has less capacity to keep the example relatively faster so the predictions maybe less right. To reproduce the results in the paper, use the entire dataset and base transformer model or transformer XL, by changing the hyperparameters above."
   ]
  },
  {
   "cell_type": "code",
   "execution_count": 67,
   "metadata": {
    "id": "5buvMlnvyrFm"
   },
   "outputs": [],
   "source": [
    "def evaluate(inp_sentence):\n",
    "  start_token = [tokenizer_kor.vocab_size]\n",
    "  end_token = [tokenizer_kor.vocab_size + 1]\n",
    "  \n",
    "  # inp sentence is portuguese, hence adding the start and end token\n",
    "  inp_sentence = start_token + tokenizer_kor.encode(inp_sentence) + end_token\n",
    "  encoder_input = tf.expand_dims(inp_sentence, 0)\n",
    "  \n",
    "  # as the target is english, the first word to the transformer should be the\n",
    "  # english start token.\n",
    "  decoder_input = [tokenizer_eng.vocab_size]\n",
    "  output = tf.expand_dims(decoder_input, 0)\n",
    "    \n",
    "  for i in range(MAX_LENGTH):\n",
    "    enc_padding_mask, combined_mask, dec_padding_mask = create_masks(\n",
    "        encoder_input, output)\n",
    "  \n",
    "    # predictions.shape == (batch_size, seq_len, vocab_size)\n",
    "    predictions, attention_weights = transformer(encoder_input, \n",
    "                                                 output,\n",
    "                                                 False,\n",
    "                                                 enc_padding_mask,\n",
    "                                                 combined_mask,\n",
    "                                                 dec_padding_mask)\n",
    "    \n",
    "    # select the last word from the seq_len dimension\n",
    "    predictions = predictions[: ,-1:, :]  # (batch_size, 1, vocab_size)\n",
    "\n",
    "    predicted_id = tf.cast(tf.argmax(predictions, axis=-1), tf.int32)\n",
    "    \n",
    "    # return the result if the predicted_id is equal to the end token\n",
    "    if predicted_id == tokenizer_eng.vocab_size+1:\n",
    "      return tf.squeeze(output, axis=0), attention_weights\n",
    "    \n",
    "    # concatentate the predicted_id to the output which is given to the decoder\n",
    "    # as its input.\n",
    "    output = tf.concat([output, predicted_id], axis=-1)\n",
    "\n",
    "  return tf.squeeze(output, axis=0), attention_weights"
   ]
  },
  {
   "cell_type": "code",
   "execution_count": 68,
   "metadata": {
    "id": "CN-BV43FMBej"
   },
   "outputs": [],
   "source": [
    "def plot_attention_weights(attention, sentence, result, layer):\n",
    "  fig = plt.figure(figsize=(40, 20))\n",
    "  \n",
    "  sentence = tokenizer_kor.encode(sentence)\n",
    "  \n",
    "  attention = tf.squeeze(attention[layer], axis=0)\n",
    "  \n",
    "  for head in range(attention.shape[0]):\n",
    "    ax = fig.add_subplot(2, 4, head+1)\n",
    "    \n",
    "    # plot the attention weights\n",
    "    ax.matshow(attention[head][:-1, :], cmap='viridis')\n",
    "\n",
    "    fontdict = {'fontsize': 12}\n",
    "    \n",
    "    ax.set_xticks(range(len(sentence)+2))\n",
    "    ax.set_yticks(range(len(result)-1))\n",
    "    \n",
    "    ax.set_ylim(len(result)-1.5, -0.5)\n",
    "        \n",
    "    ax.set_xticklabels(\n",
    "        ['<start>']+[tokenizer_kor.decode([i]) for i in sentence]+['<end>'], \n",
    "        fontdict=fontdict, rotation=90)\n",
    "    \n",
    "    ax.set_yticklabels([tokenizer_eng.decode([i]) for i in result \n",
    "                        if i < tokenizer_eng.vocab_size], \n",
    "                       fontdict=fontdict)\n",
    "    \n",
    "    ax.set_xlabel('Head {}'.format(head+1))\n",
    "  \n",
    "  plt.tight_layout()\n",
    "  plt.show()"
   ]
  },
  {
   "cell_type": "code",
   "execution_count": 85,
   "metadata": {
    "id": "lU2_yG_vBGza"
   },
   "outputs": [],
   "source": [
    "def translate(sentence, plot=''):\n",
    "  result, attention_weights = evaluate(sentence)\n",
    "  \n",
    "  predicted_sentence = tokenizer_eng.decode([i for i in result \n",
    "                                            if i < tokenizer_eng.vocab_size])  \n",
    "\n",
    "  print('Predicted: {}'.format(predicted_sentence))\n",
    "  print('Input: {}'.format(sentence))\n",
    "  \n",
    "  \n",
    "  if plot:\n",
    "    plot_attention_weights(attention_weights, sentence, result, plot)"
   ]
  },
  {
   "cell_type": "code",
   "execution_count": 59,
   "metadata": {
    "colab": {
     "base_uri": "https://localhost:8080/",
     "height": 68
    },
    "id": "YsxrAlvFG8SZ",
    "outputId": "aef5a4f6-81b0-4f13-e125-8b2cef11039b"
   },
   "outputs": [
    {
     "name": "stdout",
     "output_type": "stream",
     "text": [
      "Input: 다음 전력 공급 구간 에서 , 가비지 데이터 는 무효 로 되 고 , 다른 메모리 영역 들 에서 저널 링 동작 이 다시 수행 될 수 있 다 .\n",
      "Predicted translation: in the next power supply period , the garbage data is invalidated , and the journaling operation may be performed again in other memory areas .\n",
      "in the next power supply period , the garbage data is invalidated , and the journaling operation may be performed again in other memory areas .\n"
     ]
    }
   ],
   "source": [
    "translate(kor[20])\n",
    "print (eng[20])"
   ]
  },
  {
   "cell_type": "code",
   "execution_count": 60,
   "metadata": {
    "colab": {
     "base_uri": "https://localhost:8080/",
     "height": 68
    },
    "id": "7EH5y_aqI4t1",
    "outputId": "ab2f5ed1-3de1-4dff-8234-288f242706a7"
   },
   "outputs": [
    {
     "name": "stdout",
     "output_type": "stream",
     "text": [
      "Input: 이 에 따라 , 전술 한 소음 은 탱크 310 에 저장 된 액체 를 통과 할 때 속도 가 감소 되 면서 감쇄 될 수 있 다 .\n",
      "Predicted translation: accordingly , the aforementioned noise may be attenuated as the speed decreases when passing through the liquid stored in the tank 310 .\n",
      "accordingly , the aforementioned noise may be attenuated as the speed decreases when passing through the liquid stored in the tank 310 .\n"
     ]
    }
   ],
   "source": [
    "translate(kor[25])\n",
    "print (eng[25])"
   ]
  },
  {
   "cell_type": "code",
   "execution_count": 61,
   "metadata": {
    "colab": {
     "base_uri": "https://localhost:8080/",
     "height": 68
    },
    "id": "J-hVCTSUMlkb",
    "outputId": "c64aea2d-876b-4e2a-aca3-2203c9ae3a2a"
   },
   "outputs": [
    {
     "name": "stdout",
     "output_type": "stream",
     "text": [
      "Input: 도 8 은 도 7 의 복수 의 프로그램 루프 들 중 어느 하나 의 프로그램 루프 를 상세 하 게 보여 주 는 도면 이 다 .\n",
      "Predicted translation: 8 is a diagram showing in detail any one of the plurality of program loops of fig . 7 .\n",
      "8 is a diagram illustrating in detail any one of the plurality of program loops of fig . 7 .\n"
     ]
    }
   ],
   "source": [
    "translate(kor[31])\n",
    "print (eng[31])"
   ]
  },
  {
   "cell_type": "markdown",
   "metadata": {
    "id": "_1MxkSZvz0jX"
   },
   "source": [
    "You can pass different layers and attention blocks of the decoder to the `plot` parameter."
   ]
  },
  {
   "cell_type": "code",
   "execution_count": 100,
   "metadata": {
    "colab": {
     "base_uri": "https://localhost:8080/",
     "height": 597
    },
    "id": "t-kFyiOLH0xg",
    "outputId": "19d690fe-6574-466a-951d-b8e339dedae0"
   },
   "outputs": [
    {
     "name": "stdout",
     "output_type": "stream",
     "text": [
      "Answer:    the pressing part 440 may attach the film 160 on the substrate 130 using the convex surface 440cs .\n",
      "Predicted: the pressing part 440 may attach the film 160 on the substrate 130 using the convex surface 440cs .\n",
      "Input: 가압 부 440 는 볼록면 440 CS 을 이용 하 여 필름 160 을 기판 130 상 에 부착 시킬 수 있 다 .\n"
     ]
    },
    {
     "data": {
      "image/png": "[encoded data removed]",
      "text/plain": [
       "<Figure size 2880x1440 with 8 Axes>"
      ]
     },
     "metadata": {
      "needs_background": "light"
     },
     "output_type": "display_data"
    }
   ],
   "source": [
    "n = 490\n",
    "print ('Answer:   ', eng[n])\n",
    "translate(kor[n], plot='decoder_layer4_block2')"
   ]
  }
 ],
 "metadata": {
  "interpreter": {
   "hash": "5db0bf8e65298cb01341d1d0401e9d0f1ebbad7939f704a64363986abd13b2a8"
  },
  "kernelspec": {
   "display_name": "Python 3.8.12 64-bit ('nlp': conda)",
   "language": "python",
   "name": "python3"
  },
  "language_info": {
   "codemirror_mode": {
    "name": "ipython",
    "version": 3
   },
   "file_extension": ".py",
   "mimetype": "text/x-python",
   "name": "python",
   "nbconvert_exporter": "python",
   "pygments_lexer": "ipython3",
   "version": "3.8.12"
  },
  "orig_nbformat": 4
 },
 "nbformat": 4,
 "nbformat_minor": 2
}
