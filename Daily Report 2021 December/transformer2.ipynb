{
 "cells": [
  {
   "cell_type": "code",
   "execution_count": 1,
   "metadata": {},
   "outputs": [],
   "source": [
    "import tensorflow_datasets as tfds\n",
    "from sklearn.model_selection import train_test_split\n",
    "import tensorflow as tf\n",
    "\n",
    "import time\n",
    "import numpy as np\n",
    "import matplotlib.pyplot as plt\n",
    "import pandas as pd\n",
    "import urllib.request\n",
    "import tensorflow_datasets as tfds\n",
    "import tensorflow as tf\n",
    "import time\n",
    "import numpy as np\n",
    "import matplotlib.pyplot as plt\n",
    "import re"
   ]
  },
  {
   "cell_type": "code",
   "execution_count": 85,
   "metadata": {},
   "outputs": [],
   "source": [
    "from matplotlib import font_manager, rc\n",
    "font_path = \"C:/Windows/Fonts/NGULIM.TTF\"\n",
    "font = font_manager.FontProperties(fname=font_path).get_name()\n",
    "rc('font', family=font)"
   ]
  },
  {
   "cell_type": "code",
   "execution_count": 2,
   "metadata": {},
   "outputs": [],
   "source": [
    "from eunjeon import Mecab\n",
    "mecab = Mecab()\n",
    "\n",
    "def process_data(path, isKor = False, s_token = False, e_token = False):\n",
    "    with open(path, \"r\", encoding='utf8') as f:\n",
    "        raw = f.read().splitlines()\n",
    "    output = []\n",
    "    for sentence in raw:\n",
    "        # 소문자 변경\n",
    "        if isKor == False:\n",
    "            sentence = sentence.lower().strip()\n",
    "\n",
    "        # 1. 문장 부호를 \\1\n",
    "        sentence = re.sub(r\"([?.!,'“”\\\"])\", r\" \\1 \", sentence)\n",
    "        # 2. [ ] --> 공백\n",
    "        sentence = re.sub(r'[\" \"]+', \" \", sentence)\n",
    "        # 3. 모든 알파벳, 문장기호를 제외한 것들을 공백으로 바꿔주세요.\n",
    "        if isKor == False:\n",
    "            sentence = re.sub(r\"[^a-zA-Z0-9?!.,'“”\\\"]+\", \" \", sentence)\n",
    "        else:\n",
    "            sentence = re.sub(r\"[^ㄱ-ㅎㅏ-ㅣ가-힣a-zA-Z0-9?!.,'“”\\\"]+\", \" \", sentence)\n",
    "            sentence = ' '.join(mecab.morphs(sentence))\n",
    "\n",
    "        sentence = sentence.strip()\n",
    "\n",
    "        if s_token:\n",
    "            sentence = '<start> ' + sentence\n",
    "\n",
    "        if e_token:\n",
    "            sentence += ' <end>'\n",
    "        output.append(sentence)\n",
    "    return output"
   ]
  },
  {
   "cell_type": "code",
   "execution_count": 3,
   "metadata": {},
   "outputs": [],
   "source": [
    "eng = process_data('./korean-english-park.train/korean-english-park.train.en')\n",
    "kor = process_data('./korean-english-park.train/korean-english-park.train.ko', isKor=True)"
   ]
  },
  {
   "cell_type": "code",
   "execution_count": 158,
   "metadata": {},
   "outputs": [
    {
     "name": "stdout",
     "output_type": "stream",
     "text": [
      "                                                     kor  \\\n",
      "0               개인 용 컴퓨터 사용 의 상당 부분 은 이것 보다 뛰어날 수 있 느냐 ?   \n",
      "1      모든 광 마우스 와 마찬가지 로 이 광 마우스 도 책상 위 에 놓 는 마우스 패드 ...   \n",
      "2                       그러나 이것 은 또한 책상 도 필요 로 하 지 않 는다 .   \n",
      "3      79 . 95 달러 하 는 이 최첨단 무선 광 마우스 는 허공 에서 팔목 , 팔 ,...   \n",
      "4      정보 관리 들 은 동남 아시아 에서 의 선박 들 에 대한 많 은 테러 계획 들 이 ...   \n",
      "...                                                  ...   \n",
      "94118  “ 우리 는 3 월 8 일 김승연 회장 과 그 의 아들 이 보복 폭행 에 가담 한 ...   \n",
      "94119  월요일 술집 종업원 6 명 은 김 회장 과 아들 에게 폭행 을 당했 음 을 진술 했...   \n",
      "94120                그러나 불 충분 한 증거 확보 로 수사 에 어려움 이 있 다 .   \n",
      "94121        김 회장 과 그 의 아들 은 보복 폭행 혐의 를 강력히 부인 하 고 있 다 .   \n",
      "94122  경찰 은 김 회장 의 집무실 에서 추가 증거 를 찾 은 이후 가능 한 한 오늘 김 ...   \n",
      "\n",
      "                                                     eng  \n",
      "0      much of personal computing is about can you to...  \n",
      "1      so a mention a few weeks ago about a rechargea...  \n",
      "2      like all optical mice , but it also doesn ' t ...  \n",
      "3      uses gyroscopic sensors to control the cursor ...  \n",
      "4      intelligence officials have revealed a spate o...  \n",
      "...                                                  ...  \n",
      "94118  ” ” we are hoping to seize material evidence t...  \n",
      "94119  ” on monday , police secured statements from s...  \n",
      "94120  but the lack of material evidence is making it...  \n",
      "94121        kim and his son both deny the allegations .  \n",
      "94122  police are planning to seek arrest warrants fo...  \n",
      "\n",
      "[94123 rows x 2 columns]\n"
     ]
    }
   ],
   "source": [
    "eng_kor = pd.DataFrame({'eng': eng, 'kor':kor})\n",
    "kor_eng = pd.DataFrame({'kor': kor, 'eng':eng})"
   ]
  },
  {
   "cell_type": "code",
   "execution_count": null,
   "metadata": {},
   "outputs": [],
   "source": []
  },
  {
   "cell_type": "code",
   "execution_count": 4,
   "metadata": {},
   "outputs": [],
   "source": [
    "tokenizer_eng = tfds.deprecated.text.SubwordTextEncoder.build_from_corpus(\n",
    "    eng, target_vocab_size = 2**13\n",
    ")\n",
    "\n",
    "\n",
    "tokenizer_kor = tfds.deprecated.text.SubwordTextEncoder.build_from_corpus(\n",
    "    kor, target_vocab_size = 2**13\n",
    ")\n"
   ]
  },
  {
   "cell_type": "code",
   "execution_count": 5,
   "metadata": {},
   "outputs": [
    {
     "name": "stdout",
     "output_type": "stream",
     "text": [
      "Tokenized string is [8027, 1500, 2669, 378, 626, 7975, 15, 1967, 122, 2923, 7989]\n",
      "The original string: Transformer is awesome.\n"
     ]
    }
   ],
   "source": [
    "sample_string = 'Transformer is awesome.'\n",
    "\n",
    "tokenized_string = tokenizer_eng.encode(sample_string)\n",
    "print ('Tokenized string is {}'.format(tokenized_string))\n",
    "\n",
    "original_string = tokenizer_eng.decode(tokenized_string)\n",
    "print ('The original string: {}'.format(original_string))\n",
    "\n",
    "assert original_string == sample_string"
   ]
  },
  {
   "cell_type": "code",
   "execution_count": 96,
   "metadata": {},
   "outputs": [
    {
     "name": "stdout",
     "output_type": "stream",
     "text": [
      "8027 ----> T\n",
      "1500 ----> ran\n",
      "2669 ----> sf\n",
      "378 ----> or\n",
      "626 ----> mer\n",
      "7975 ---->  \n",
      "15 ----> is \n",
      "1967 ----> aw\n",
      "122 ----> es\n",
      "2923 ----> ome\n",
      "7989 ----> .\n"
     ]
    }
   ],
   "source": [
    "for ts in tokenized_string:\n",
    "  print ('{} ----> {}'.format(ts, tokenizer_eng.decode([ts])))"
   ]
  },
  {
   "cell_type": "code",
   "execution_count": 97,
   "metadata": {},
   "outputs": [],
   "source": [
    "BUFFER_SIZE = 200000\n",
    "BATCH_SIZE = 256"
   ]
  },
  {
   "cell_type": "code",
   "execution_count": 8,
   "metadata": {},
   "outputs": [],
   "source": [
    "def encode(lang1, lang2):\n",
    "  lang1 = [tokenizer_kor.vocab_size] + tokenizer_kor.encode(\n",
    "      lang1.numpy()) + [tokenizer_kor.vocab_size+1]\n",
    "\n",
    "  lang2 = [tokenizer_eng.vocab_size] + tokenizer_eng.encode(\n",
    "      lang2.numpy()) + [tokenizer_eng.vocab_size+1]\n",
    "  \n",
    "  return lang1, lang2"
   ]
  },
  {
   "cell_type": "code",
   "execution_count": 31,
   "metadata": {},
   "outputs": [],
   "source": [
    "def tf_encode(kor_eng):\n",
    "  # print(kor_eng)\n",
    "  result_kor, result_eng = tf.py_function(encode, [kor_eng['kor'], kor_eng['eng']], [tf.int64, tf.int64])\n",
    "  result_kor.set_shape([None])\n",
    "  result_eng.set_shape([None])\n",
    "\n",
    "  return result_kor, result_eng"
   ]
  },
  {
   "cell_type": "code",
   "execution_count": 33,
   "metadata": {},
   "outputs": [],
   "source": [
    "MAX_LENGTH = 40"
   ]
  },
  {
   "cell_type": "code",
   "execution_count": 11,
   "metadata": {},
   "outputs": [],
   "source": [
    "def filter_max_length(x, y, max_length=MAX_LENGTH):\n",
    "  return tf.logical_and(tf.size(x) <= max_length,\n",
    "                        tf.size(y) <= max_length)"
   ]
  },
  {
   "cell_type": "code",
   "execution_count": 34,
   "metadata": {},
   "outputs": [
    {
     "name": "stdout",
     "output_type": "stream",
     "text": [
      "{'kor': <tf.Tensor 'args_1:0' shape=() dtype=string>, 'eng': <tf.Tensor 'args_0:0' shape=() dtype=string>}\n",
      "{'kor': <tf.Tensor 'args_1:0' shape=() dtype=string>, 'eng': <tf.Tensor 'args_0:0' shape=() dtype=string>}\n"
     ]
    }
   ],
   "source": [
    "train_example, val_examples = train_test_split(kor_eng, test_size=0.2, shuffle=False)\n",
    "train_example = tf.data.Dataset.from_tensor_slices(dict(train_example))\n",
    "# print(train_example)\n",
    "train_dataset = train_example.map(tf_encode)\n",
    "train_dataset = train_dataset.filter(filter_max_length)\n",
    "# cache the dataset to memory to get a speedup while reading from it.\n",
    "train_dataset = train_dataset.cache()\n",
    "train_dataset = train_dataset.shuffle(BUFFER_SIZE).padded_batch(BATCH_SIZE)\n",
    "train_dataset = train_dataset.prefetch(tf.data.experimental.AUTOTUNE)\n",
    "\n",
    "val_examples = tf.data.Dataset.from_tensor_slices(dict(val_examples))\n",
    "val_dataset = val_examples.map(tf_encode)\n",
    "val_dataset = val_dataset.filter(filter_max_length).padded_batch(BATCH_SIZE)"
   ]
  },
  {
   "cell_type": "code",
   "execution_count": 35,
   "metadata": {},
   "outputs": [
    {
     "data": {
      "text/plain": [
       "(<tf.Tensor: shape=(256, 40), dtype=int64, numpy=\n",
       " array([[8227,   44, 4722, ...,    0,    0,    0],\n",
       "        [8227,   44,    8, ...,    0,    0,    0],\n",
       "        [8227, 1196,  686, ..., 8228,    0,    0],\n",
       "        ...,\n",
       "        [8227, 2227,   16, ...,    0,    0,    0],\n",
       "        [8227,  552,  134, ...,    0,    0,    0],\n",
       "        [8227,   93, 3033, ...,    0,    0,    0]], dtype=int64)>,\n",
       " <tf.Tensor: shape=(256, 40), dtype=int64, numpy=\n",
       " array([[8199,  104, 6425, ...,    0,    0,    0],\n",
       "        [8199,    1,   97, ...,    0,    0,    0],\n",
       "        [8199,  515, 1205, ...,    0,    0,    0],\n",
       "        ...,\n",
       "        [8199,    1,   55, ...,    0,    0,    0],\n",
       "        [8199, 2722,   34, ...,    0,    0,    0],\n",
       "        [8199,   23,   17, ...,    0,    0,    0]], dtype=int64)>)"
      ]
     },
     "execution_count": 35,
     "metadata": {},
     "output_type": "execute_result"
    }
   ],
   "source": [
    "pt_batch, en_batch = next(iter(val_dataset))\n",
    "pt_batch, en_batch"
   ]
  },
  {
   "cell_type": "code",
   "execution_count": null,
   "metadata": {},
   "outputs": [],
   "source": []
  },
  {
   "cell_type": "markdown",
   "metadata": {
    "id": "nBQuibYA4n0n"
   },
   "source": [
    "## Positional encoding\n",
    "\n",
    "Since this model doesn't contain any recurrence or convolution, positional encoding is added to give the model some information about the relative position of the words in the sentence. \n",
    "\n",
    "The positional encoding vector is added to the embedding vector. Embeddings represent a token in a d-dimensional space where tokens with similar meaning will be closer to each other. But the embeddings do not encode the relative position of words in a sentence. So after adding the positional encoding, words will be closer to each other based on the *similarity of their meaning and their position in the sentence*, in the d-dimensional space.\n",
    "\n",
    "See the notebook on [positional encoding](https://github.com/tensorflow/examples/blob/master/community/en/position_encoding.ipynb) to learn more about it. The formula for calculating the positional encoding is as follows:\n",
    "\n",
    "$$\\Large{PE_{(pos, 2i)} = sin(pos / 10000^{2i / d_{model}})} $$\n",
    "$$\\Large{PE_{(pos, 2i+1)} = cos(pos / 10000^{2i / d_{model}})} $$"
   ]
  },
  {
   "cell_type": "code",
   "execution_count": 36,
   "metadata": {
    "id": "WhIOZjMNKujn"
   },
   "outputs": [],
   "source": [
    "def get_angles(pos, i, d_model):\n",
    "  angle_rates = 1 / np.power(10000, (2 * (i//2)) / np.float32(d_model))\n",
    "  return pos * angle_rates"
   ]
  },
  {
   "cell_type": "code",
   "execution_count": 37,
   "metadata": {
    "id": "1Rz82wEs5biZ"
   },
   "outputs": [],
   "source": [
    "def positional_encoding(position, d_model):\n",
    "  angle_rads = get_angles(np.arange(position)[:, np.newaxis],\n",
    "                          np.arange(d_model)[np.newaxis, :],\n",
    "                          d_model)\n",
    "  \n",
    "  # apply sin to even indices in the array; 2i\n",
    "  angle_rads[:, 0::2] = np.sin(angle_rads[:, 0::2])\n",
    "  \n",
    "  # apply cos to odd indices in the array; 2i+1\n",
    "  angle_rads[:, 1::2] = np.cos(angle_rads[:, 1::2])\n",
    "    \n",
    "  pos_encoding = angle_rads[np.newaxis, ...]\n",
    "    \n",
    "  return tf.cast(pos_encoding, dtype=tf.float32)"
   ]
  },
  {
   "cell_type": "code",
   "execution_count": 38,
   "metadata": {
    "colab": {
     "base_uri": "https://localhost:8080/",
     "height": 300
    },
    "id": "1kLCla68EloE",
    "outputId": "e26c2478-14bd-4d04-ceba-b5babfa06e50"
   },
   "outputs": [
    {
     "name": "stdout",
     "output_type": "stream",
     "text": [
      "(1, 50, 512)\n"
     ]
    },
    {
     "data": {
      "image/png": "[encoded data removed]",
      "text/plain": [
       "<Figure size 432x288 with 2 Axes>"
      ]
     },
     "metadata": {
      "needs_background": "light"
     },
     "output_type": "display_data"
    }
   ],
   "source": [
    "pos_encoding = positional_encoding(50, 512)\n",
    "print (pos_encoding.shape)\n",
    "\n",
    "plt.pcolormesh(pos_encoding[0], cmap='RdBu')\n",
    "plt.xlabel('Depth')\n",
    "plt.xlim((0, 512))\n",
    "plt.ylabel('Position')\n",
    "plt.colorbar()\n",
    "plt.show()"
   ]
  },
  {
   "cell_type": "markdown",
   "metadata": {
    "id": "a_b4ou4TYqUN"
   },
   "source": [
    "## Masking"
   ]
  },
  {
   "cell_type": "markdown",
   "metadata": {
    "id": "s42Uydjkv0hF"
   },
   "source": [
    "Mask all the pad tokens in the batch of sequence. It ensures that the model does not treat padding as the input. The mask indicates where pad value `0` is present: it outputs a `1` at those locations, and a `0` otherwise."
   ]
  },
  {
   "cell_type": "code",
   "execution_count": 39,
   "metadata": {
    "id": "U2i8-e1s8ti9"
   },
   "outputs": [],
   "source": [
    "def create_padding_mask(seq):\n",
    "  seq = tf.cast(tf.math.equal(seq, 0), tf.float32)\n",
    "  \n",
    "  # add extra dimensions to add the padding\n",
    "  # to the attention logits.\n",
    "  return seq[:, tf.newaxis, tf.newaxis, :]  # (batch_size, 1, 1, seq_len)"
   ]
  },
  {
   "cell_type": "code",
   "execution_count": 40,
   "metadata": {
    "colab": {
     "base_uri": "https://localhost:8080/",
     "height": 153
    },
    "id": "A7BYeBCNvi7n",
    "outputId": "ebe1090a-239c-4910-af75-cf7c51e3653e"
   },
   "outputs": [
    {
     "data": {
      "text/plain": [
       "<tf.Tensor: shape=(3, 1, 1, 5), dtype=float32, numpy=\n",
       "array([[[[0., 0., 1., 1., 0.]]],\n",
       "\n",
       "\n",
       "       [[[0., 0., 0., 1., 1.]]],\n",
       "\n",
       "\n",
       "       [[[1., 1., 1., 0., 0.]]]], dtype=float32)>"
      ]
     },
     "execution_count": 40,
     "metadata": {},
     "output_type": "execute_result"
    }
   ],
   "source": [
    "x = tf.constant([[7, 6, 0, 0, 1], [1, 2, 3, 0, 0], [0, 0, 0, 4, 5]])\n",
    "create_padding_mask(x)"
   ]
  },
  {
   "cell_type": "markdown",
   "metadata": {
    "id": "Z0hzukDBgVom"
   },
   "source": [
    "The look-ahead mask is used to mask the future tokens in a sequence. In other words, the mask indicates which entries should not be used.\n",
    "\n",
    "This means that to predict the third word, only the first and second word will be used. Similarly to predict the fourth word, only the first, second and the third word will be used and so on."
   ]
  },
  {
   "cell_type": "code",
   "execution_count": 41,
   "metadata": {
    "id": "dVxS8OPI9uI0"
   },
   "outputs": [],
   "source": [
    "def create_look_ahead_mask(size):\n",
    "  mask = 1 - tf.linalg.band_part(tf.ones((size, size)), -1, 0)\n",
    "  return mask  # (seq_len, seq_len)"
   ]
  },
  {
   "cell_type": "code",
   "execution_count": 42,
   "metadata": {
    "colab": {
     "base_uri": "https://localhost:8080/",
     "height": 85
    },
    "id": "yxKGuXxaBeeE",
    "outputId": "b65873a4-6826-478c-eb12-64c989760532"
   },
   "outputs": [
    {
     "data": {
      "text/plain": [
       "<tf.Tensor: shape=(3, 3), dtype=float32, numpy=\n",
       "array([[0., 1., 1.],\n",
       "       [0., 0., 1.],\n",
       "       [0., 0., 0.]], dtype=float32)>"
      ]
     },
     "execution_count": 42,
     "metadata": {},
     "output_type": "execute_result"
    }
   ],
   "source": [
    "x = tf.random.uniform((1, 3))\n",
    "temp = create_look_ahead_mask(x.shape[1])\n",
    "temp"
   ]
  },
  {
   "cell_type": "markdown",
   "metadata": {
    "id": "xluDl5cXYy4y"
   },
   "source": [
    "## Scaled dot product attention"
   ]
  },
  {
   "cell_type": "markdown",
   "metadata": {
    "id": "vsxEE_-Wa1gF"
   },
   "source": [
    "<img src=\"https://www.tensorflow.org/images/tutorials/transformer/scaled_attention.png\" width=\"500\" alt=\"scaled_dot_product_attention\">\n",
    "\n",
    "The attention function used by the transformer takes three inputs: Q (query), K (key), V (value). The equation used to calculate the attention weights is:\n",
    "\n",
    "$$\\Large{Attention(Q, K, V) = softmax_k(\\frac{QK^T}{\\sqrt{d_k}}) V} $$\n",
    "\n",
    "The dot-product attention is scaled by a factor of square root of the depth. This is done because for large values of depth, the dot product grows large in magnitude pushing the softmax function where it has small gradients resulting in a very hard softmax. \n",
    "\n",
    "For example, consider that `Q` and `K` have a mean of 0 and variance of 1. Their matrix multiplication will have a mean of 0 and variance of `dk`. Hence, *square root of `dk`* is used for scaling (and not any other number) because the matmul of `Q` and `K` should have a mean of 0 and variance of 1, and you get a gentler softmax.\n",
    "\n",
    "The mask is multiplied with -1e9 (close to negative infinity). This is done because the mask is summed with the scaled matrix multiplication of Q and K and is applied immediately before a softmax. The goal is to zero out these cells, and large negative inputs to softmax are near zero in the output."
   ]
  },
  {
   "cell_type": "code",
   "execution_count": 43,
   "metadata": {
    "id": "LazzUq3bJ5SH"
   },
   "outputs": [],
   "source": [
    "def scaled_dot_product_attention(q, k, v, mask):\n",
    "  \"\"\"Calculate the attention weights.\n",
    "  q, k, v must have matching leading dimensions.\n",
    "  k, v must have matching penultimate dimension, i.e.: seq_len_k = seq_len_v.\n",
    "  The mask has different shapes depending on its type(padding or look ahead) \n",
    "  but it must be broadcastable for addition.\n",
    "  \n",
    "  Args:\n",
    "    q: query shape == (..., seq_len_q, depth)\n",
    "    k: key shape == (..., seq_len_k, depth)\n",
    "    v: value shape == (..., seq_len_v, depth_v)\n",
    "    mask: Float tensor with shape broadcastable \n",
    "          to (..., seq_len_q, seq_len_k). Defaults to None.\n",
    "    \n",
    "  Returns:\n",
    "    output, attention_weights\n",
    "  \"\"\"\n",
    "\n",
    "  matmul_qk = tf.matmul(q, k, transpose_b=True)  # (..., seq_len_q, seq_len_k)\n",
    "  \n",
    "  # scale matmul_qk\n",
    "  dk = tf.cast(tf.shape(k)[-1], tf.float32)\n",
    "  scaled_attention_logits = matmul_qk / tf.math.sqrt(dk)\n",
    "\n",
    "  # add the mask to the scaled tensor.\n",
    "  if mask is not None:\n",
    "    scaled_attention_logits += (mask * -1e9)  \n",
    "\n",
    "  # softmax is normalized on the last axis (seq_len_k) so that the scores\n",
    "  # add up to 1.\n",
    "  attention_weights = tf.nn.softmax(scaled_attention_logits, axis=-1)  # (..., seq_len_q, seq_len_k)\n",
    "\n",
    "  output = tf.matmul(attention_weights, v)  # (..., seq_len_q, depth_v)\n",
    "\n",
    "  return output, attention_weights"
   ]
  },
  {
   "cell_type": "markdown",
   "metadata": {
    "id": "FiqETnhCkoXh"
   },
   "source": [
    "As the softmax normalization is done on K, its values decide the amount of importance given to Q.\n",
    "\n",
    "The output represents the multiplication of the attention weights and the V (value) vector. This ensures that the words you want to focus on are kept as-is and the irrelevant words are flushed out."
   ]
  },
  {
   "cell_type": "code",
   "execution_count": 44,
   "metadata": {
    "id": "n90YjClyInFy"
   },
   "outputs": [],
   "source": [
    "def print_out(q, k, v):\n",
    "  temp_out, temp_attn = scaled_dot_product_attention(\n",
    "      q, k, v, None)\n",
    "  print ('Attention weights are:')\n",
    "  print (temp_attn)\n",
    "  print ('Output is:')\n",
    "  print (temp_out)"
   ]
  },
  {
   "cell_type": "code",
   "execution_count": 45,
   "metadata": {
    "colab": {
     "base_uri": "https://localhost:8080/",
     "height": 85
    },
    "id": "yAzUAf2DPlNt",
    "outputId": "62c871c2-7f39-4464-8264-d19d4ecb2955"
   },
   "outputs": [
    {
     "name": "stdout",
     "output_type": "stream",
     "text": [
      "Attention weights are:\n",
      "tf.Tensor([[0. 1. 0. 0.]], shape=(1, 4), dtype=float32)\n",
      "Output is:\n",
      "tf.Tensor([[10.  0.]], shape=(1, 2), dtype=float32)\n"
     ]
    }
   ],
   "source": [
    "np.set_printoptions(suppress=True)\n",
    "\n",
    "temp_k = tf.constant([[10,0,0],\n",
    "                      [0,10,0],\n",
    "                      [0,0,10],\n",
    "                      [0,0,10]], dtype=tf.float32)  # (4, 3)\n",
    "\n",
    "temp_v = tf.constant([[   1,0],\n",
    "                      [  10,0],\n",
    "                      [ 100,5],\n",
    "                      [1000,6]], dtype=tf.float32)  # (4, 2)\n",
    "\n",
    "# This `query` aligns with the second `key`,\n",
    "# so the second `value` is returned.\n",
    "temp_q = tf.constant([[0, 10, 0]], dtype=tf.float32)  # (1, 3)\n",
    "print_out(temp_q, temp_k, temp_v)"
   ]
  },
  {
   "cell_type": "code",
   "execution_count": 46,
   "metadata": {
    "colab": {
     "base_uri": "https://localhost:8080/",
     "height": 85
    },
    "id": "zg6k-fGhgXra",
    "outputId": "78ed5710-6e68-4d77-8721-4b6c3b67d1b1"
   },
   "outputs": [
    {
     "name": "stdout",
     "output_type": "stream",
     "text": [
      "Attention weights are:\n",
      "tf.Tensor([[0.  0.  0.5 0.5]], shape=(1, 4), dtype=float32)\n",
      "Output is:\n",
      "tf.Tensor([[550.    5.5]], shape=(1, 2), dtype=float32)\n"
     ]
    }
   ],
   "source": [
    "# This query aligns with a repeated key (third and fourth), \n",
    "# so all associated values get averaged.\n",
    "temp_q = tf.constant([[0, 0, 10]], dtype=tf.float32)  # (1, 3)\n",
    "print_out(temp_q, temp_k, temp_v)"
   ]
  },
  {
   "cell_type": "code",
   "execution_count": 47,
   "metadata": {
    "colab": {
     "base_uri": "https://localhost:8080/",
     "height": 85
    },
    "id": "UAq3YOzUgXhb",
    "outputId": "c849889e-f886-4a18-a945-93b98114e582"
   },
   "outputs": [
    {
     "name": "stdout",
     "output_type": "stream",
     "text": [
      "Attention weights are:\n",
      "tf.Tensor([[0.5 0.5 0.  0. ]], shape=(1, 4), dtype=float32)\n",
      "Output is:\n",
      "tf.Tensor([[5.5 0. ]], shape=(1, 2), dtype=float32)\n"
     ]
    }
   ],
   "source": [
    "# This query aligns equally with the first and second key, \n",
    "# so their values get averaged.\n",
    "temp_q = tf.constant([[10, 10, 0]], dtype=tf.float32)  # (1, 3)\n",
    "print_out(temp_q, temp_k, temp_v)"
   ]
  },
  {
   "cell_type": "markdown",
   "metadata": {
    "id": "aOz-4_XIhaTP"
   },
   "source": [
    "Pass all the queries together."
   ]
  },
  {
   "cell_type": "code",
   "execution_count": 48,
   "metadata": {
    "colab": {
     "base_uri": "https://localhost:8080/",
     "height": 187
    },
    "id": "6dlU8Tm-hYrF",
    "outputId": "5ea6c7c3-076c-4fca-da33-b5a6a060811f"
   },
   "outputs": [
    {
     "name": "stdout",
     "output_type": "stream",
     "text": [
      "Attention weights are:\n",
      "tf.Tensor(\n",
      "[[0.  0.  0.5 0.5]\n",
      " [0.  1.  0.  0. ]\n",
      " [0.5 0.5 0.  0. ]], shape=(3, 4), dtype=float32)\n",
      "Output is:\n",
      "tf.Tensor(\n",
      "[[550.    5.5]\n",
      " [ 10.    0. ]\n",
      " [  5.5   0. ]], shape=(3, 2), dtype=float32)\n"
     ]
    }
   ],
   "source": [
    "temp_q = tf.constant([[0, 0, 10], [0, 10, 0], [10, 10, 0]], dtype=tf.float32)  # (3, 3)\n",
    "print_out(temp_q, temp_k, temp_v)"
   ]
  },
  {
   "cell_type": "markdown",
   "metadata": {
    "id": "kmzGPEy64qmA"
   },
   "source": [
    "## Multi-head attention"
   ]
  },
  {
   "cell_type": "markdown",
   "metadata": {
    "id": "fz5BMC8Kaoqo"
   },
   "source": [
    "<img src=\"https://www.tensorflow.org/images/tutorials/transformer/multi_head_attention.png\" width=\"500\" alt=\"multi-head attention\">\n",
    "\n",
    "\n",
    "Multi-head attention consists of four parts:\n",
    "*    Linear layers and split into heads.\n",
    "*    Scaled dot-product attention.\n",
    "*    Concatenation of heads.\n",
    "*    Final linear layer."
   ]
  },
  {
   "cell_type": "markdown",
   "metadata": {
    "id": "JPmbr6F1C-v_"
   },
   "source": [
    "Each multi-head attention block gets three inputs; Q (query), K (key), V (value). These are put through linear (Dense) layers and split up into multiple heads. \n",
    "\n",
    "The `scaled_dot_product_attention` defined above is applied to each head (broadcasted for efficiency). An appropriate mask must be used in the attention step.  The attention output for each head is then concatenated (using `tf.transpose`, and `tf.reshape`) and put through a final `Dense` layer.\n",
    "\n",
    "Instead of one single attention head, Q, K, and V are split into multiple heads because it allows the model to jointly attend to information at different positions from different representational spaces. After the split each head has a reduced dimensionality, so the total computation cost is the same as a single head attention with full dimensionality."
   ]
  },
  {
   "cell_type": "code",
   "execution_count": 49,
   "metadata": {
    "id": "BSV3PPKsYecw"
   },
   "outputs": [],
   "source": [
    "class MultiHeadAttention(tf.keras.layers.Layer):\n",
    "  def __init__(self, d_model, num_heads):\n",
    "    super(MultiHeadAttention, self).__init__()\n",
    "    self.num_heads = num_heads\n",
    "    self.d_model = d_model\n",
    "    \n",
    "    assert d_model % self.num_heads == 0\n",
    "    \n",
    "    self.depth = d_model // self.num_heads\n",
    "    \n",
    "    self.wq = tf.keras.layers.Dense(d_model)\n",
    "    self.wk = tf.keras.layers.Dense(d_model)\n",
    "    self.wv = tf.keras.layers.Dense(d_model)\n",
    "    \n",
    "    self.dense = tf.keras.layers.Dense(d_model)\n",
    "        \n",
    "  def split_heads(self, x, batch_size):\n",
    "    \"\"\"Split the last dimension into (num_heads, depth).\n",
    "    Transpose the result such that the shape is (batch_size, num_heads, seq_len, depth)\n",
    "    \"\"\"\n",
    "    x = tf.reshape(x, (batch_size, -1, self.num_heads, self.depth))\n",
    "    return tf.transpose(x, perm=[0, 2, 1, 3])\n",
    "    \n",
    "  def call(self, v, k, q, mask):\n",
    "    batch_size = tf.shape(q)[0]\n",
    "    \n",
    "    q = self.wq(q)  # (batch_size, seq_len, d_model)\n",
    "    k = self.wk(k)  # (batch_size, seq_len, d_model)\n",
    "    v = self.wv(v)  # (batch_size, seq_len, d_model)\n",
    "    \n",
    "    q = self.split_heads(q, batch_size)  # (batch_size, num_heads, seq_len_q, depth)\n",
    "    k = self.split_heads(k, batch_size)  # (batch_size, num_heads, seq_len_k, depth)\n",
    "    v = self.split_heads(v, batch_size)  # (batch_size, num_heads, seq_len_v, depth)\n",
    "    \n",
    "    # scaled_attention.shape == (batch_size, num_heads, seq_len_q, depth)\n",
    "    # attention_weights.shape == (batch_size, num_heads, seq_len_q, seq_len_k)\n",
    "    scaled_attention, attention_weights = scaled_dot_product_attention(\n",
    "        q, k, v, mask)\n",
    "    \n",
    "    scaled_attention = tf.transpose(scaled_attention, perm=[0, 2, 1, 3])  # (batch_size, seq_len_q, num_heads, depth)\n",
    "\n",
    "    concat_attention = tf.reshape(scaled_attention, \n",
    "                                  (batch_size, -1, self.d_model))  # (batch_size, seq_len_q, d_model)\n",
    "\n",
    "    output = self.dense(concat_attention)  # (batch_size, seq_len_q, d_model)\n",
    "        \n",
    "    return output, attention_weights"
   ]
  },
  {
   "cell_type": "markdown",
   "metadata": {
    "id": "0D8FJue5lDyZ"
   },
   "source": [
    "Create a `MultiHeadAttention` layer to try out. At each location in the sequence, `y`, the `MultiHeadAttention` runs all 8 attention heads across all other locations in the sequence, returning a new vector of the same length at each location."
   ]
  },
  {
   "cell_type": "code",
   "execution_count": 50,
   "metadata": {
    "colab": {
     "base_uri": "https://localhost:8080/",
     "height": 34
    },
    "id": "Hu94p-_-2_BX",
    "outputId": "e3e3629e-1f2d-4641-f474-b2eacc614c9c"
   },
   "outputs": [
    {
     "data": {
      "text/plain": [
       "(TensorShape([1, 60, 512]), TensorShape([1, 8, 60, 60]))"
      ]
     },
     "execution_count": 50,
     "metadata": {},
     "output_type": "execute_result"
    }
   ],
   "source": [
    "temp_mha = MultiHeadAttention(d_model=512, num_heads=8)\n",
    "y = tf.random.uniform((1, 60, 512))  # (batch_size, encoder_sequence, d_model)\n",
    "out, attn = temp_mha(y, k=y, q=y, mask=None)\n",
    "out.shape, attn.shape"
   ]
  },
  {
   "cell_type": "markdown",
   "metadata": {
    "id": "RdDqGayx67vv"
   },
   "source": [
    "## Point wise feed forward network"
   ]
  },
  {
   "cell_type": "markdown",
   "metadata": {
    "id": "gBqzJXGfHK3X"
   },
   "source": [
    "Point wise feed forward network consists of two fully-connected layers with a ReLU activation in between."
   ]
  },
  {
   "cell_type": "code",
   "execution_count": 51,
   "metadata": {
    "id": "ET7xLt0yCT6Z"
   },
   "outputs": [],
   "source": [
    "def point_wise_feed_forward_network(d_model, dff):\n",
    "  return tf.keras.Sequential([\n",
    "      tf.keras.layers.Dense(dff, activation='relu'),  # (batch_size, seq_len, dff)\n",
    "      tf.keras.layers.Dense(d_model)  # (batch_size, seq_len, d_model)\n",
    "  ])"
   ]
  },
  {
   "cell_type": "code",
   "execution_count": 52,
   "metadata": {
    "colab": {
     "base_uri": "https://localhost:8080/",
     "height": 34
    },
    "id": "mytb1lPyOHLB",
    "outputId": "6ae79870-38f5-4678-ab54-c470f9984976"
   },
   "outputs": [
    {
     "data": {
      "text/plain": [
       "TensorShape([64, 50, 512])"
      ]
     },
     "execution_count": 52,
     "metadata": {},
     "output_type": "execute_result"
    }
   ],
   "source": [
    "sample_ffn = point_wise_feed_forward_network(512, 2048)\n",
    "sample_ffn(tf.random.uniform((64, 50, 512))).shape"
   ]
  },
  {
   "cell_type": "markdown",
   "metadata": {
    "id": "7e7hKcxn6-zd"
   },
   "source": [
    "## Encoder and decoder"
   ]
  },
  {
   "cell_type": "markdown",
   "metadata": {
    "id": "yScbC0MUH8dS"
   },
   "source": [
    "<img src=\"https://www.tensorflow.org/images/tutorials/transformer/transformer.png\" width=\"600\" alt=\"transformer\">"
   ]
  },
  {
   "cell_type": "markdown",
   "metadata": {
    "id": "MfYJG-Kvgwy2"
   },
   "source": [
    "The transformer model follows the same general pattern as a standard [sequence to sequence with attention model](nmt_with_attention.ipynb). \n",
    "\n",
    "* The input sentence is passed through `N` encoder layers that generates an output for each word/token in the sequence.\n",
    "* The decoder attends on the encoder's output and its own input (self-attention) to predict the next word. "
   ]
  },
  {
   "cell_type": "markdown",
   "metadata": {
    "id": "QFv-FNYUmvpn"
   },
   "source": [
    "### Encoder layer\n",
    "\n",
    "Each encoder layer consists of sublayers:\n",
    "\n",
    "1.   Multi-head attention (with padding mask) \n",
    "2.    Point wise feed forward networks. \n",
    "\n",
    "Each of these sublayers has a residual connection around it followed by a layer normalization. Residual connections help in avoiding the vanishing gradient problem in deep networks.\n",
    "\n",
    "The output of each sublayer is `LayerNorm(x + Sublayer(x))`. The normalization is done on the `d_model` (last) axis. There are N encoder layers in the transformer."
   ]
  },
  {
   "cell_type": "code",
   "execution_count": 53,
   "metadata": {
    "id": "ncyS-Ms3i2x_"
   },
   "outputs": [],
   "source": [
    "class EncoderLayer(tf.keras.layers.Layer):\n",
    "  def __init__(self, d_model, num_heads, dff, rate=0.1):\n",
    "    super(EncoderLayer, self).__init__()\n",
    "\n",
    "    self.mha = MultiHeadAttention(d_model, num_heads)\n",
    "    self.ffn = point_wise_feed_forward_network(d_model, dff)\n",
    "\n",
    "    self.layernorm1 = tf.keras.layers.LayerNormalization(epsilon=1e-6)\n",
    "    self.layernorm2 = tf.keras.layers.LayerNormalization(epsilon=1e-6)\n",
    "    \n",
    "    self.dropout1 = tf.keras.layers.Dropout(rate)\n",
    "    self.dropout2 = tf.keras.layers.Dropout(rate)\n",
    "    \n",
    "  def call(self, x, training, mask):\n",
    "\n",
    "    attn_output, _ = self.mha(x, x, x, mask)  # (batch_size, input_seq_len, d_model)\n",
    "    attn_output = self.dropout1(attn_output, training=training)\n",
    "    out1 = self.layernorm1(x + attn_output)  # (batch_size, input_seq_len, d_model)\n",
    "    \n",
    "    ffn_output = self.ffn(out1)  # (batch_size, input_seq_len, d_model)\n",
    "    ffn_output = self.dropout2(ffn_output, training=training)\n",
    "    out2 = self.layernorm2(out1 + ffn_output)  # (batch_size, input_seq_len, d_model)\n",
    "    \n",
    "    return out2"
   ]
  },
  {
   "cell_type": "code",
   "execution_count": 54,
   "metadata": {
    "colab": {
     "base_uri": "https://localhost:8080/",
     "height": 34
    },
    "id": "AzZRXdO0mI48",
    "outputId": "8a13d10a-b706-4432-8f90-09e003dc589c"
   },
   "outputs": [
    {
     "data": {
      "text/plain": [
       "TensorShape([64, 43, 512])"
      ]
     },
     "execution_count": 54,
     "metadata": {},
     "output_type": "execute_result"
    }
   ],
   "source": [
    "sample_encoder_layer = EncoderLayer(512, 8, 2048)\n",
    "\n",
    "sample_encoder_layer_output = sample_encoder_layer(\n",
    "    tf.random.uniform((64, 43, 512)), False, None)\n",
    "\n",
    "sample_encoder_layer_output.shape  # (batch_size, input_seq_len, d_model)"
   ]
  },
  {
   "cell_type": "markdown",
   "metadata": {
    "id": "6LO_48Owmx_o"
   },
   "source": [
    "### Decoder layer\n",
    "\n",
    "Each decoder layer consists of sublayers:\n",
    "\n",
    "1.   Masked multi-head attention (with look ahead mask and padding mask)\n",
    "2.   Multi-head attention (with padding mask). V (value) and K (key) receive the *encoder output* as inputs. Q (query) receives the *output from the masked multi-head attention sublayer.*\n",
    "3.   Point wise feed forward networks\n",
    "\n",
    "Each of these sublayers has a residual connection around it followed by a layer normalization. The output of each sublayer is `LayerNorm(x + Sublayer(x))`. The normalization is done on the `d_model` (last) axis.\n",
    "\n",
    "There are N decoder layers in the transformer.\n",
    "\n",
    "As Q receives the output from decoder's first attention block, and K receives the encoder output, the attention weights represent the importance given to the decoder's input based on the encoder's output. In other words, the decoder predicts the next word by looking at the encoder output and self-attending to its own output. See the demonstration above in the scaled dot product attention section."
   ]
  },
  {
   "cell_type": "code",
   "execution_count": 55,
   "metadata": {
    "id": "9SoX0-vd1hue"
   },
   "outputs": [],
   "source": [
    "class DecoderLayer(tf.keras.layers.Layer):\n",
    "  def __init__(self, d_model, num_heads, dff, rate=0.1):\n",
    "    super(DecoderLayer, self).__init__()\n",
    "\n",
    "    self.mha1 = MultiHeadAttention(d_model, num_heads)\n",
    "    self.mha2 = MultiHeadAttention(d_model, num_heads)\n",
    "\n",
    "    self.ffn = point_wise_feed_forward_network(d_model, dff)\n",
    " \n",
    "    self.layernorm1 = tf.keras.layers.LayerNormalization(epsilon=1e-6)\n",
    "    self.layernorm2 = tf.keras.layers.LayerNormalization(epsilon=1e-6)\n",
    "    self.layernorm3 = tf.keras.layers.LayerNormalization(epsilon=1e-6)\n",
    "    \n",
    "    self.dropout1 = tf.keras.layers.Dropout(rate)\n",
    "    self.dropout2 = tf.keras.layers.Dropout(rate)\n",
    "    self.dropout3 = tf.keras.layers.Dropout(rate)\n",
    "    \n",
    "    \n",
    "  def call(self, x, enc_output, training, \n",
    "           look_ahead_mask, padding_mask):\n",
    "    # enc_output.shape == (batch_size, input_seq_len, d_model)\n",
    "\n",
    "    attn1, attn_weights_block1 = self.mha1(x, x, x, look_ahead_mask)  # (batch_size, target_seq_len, d_model)\n",
    "    attn1 = self.dropout1(attn1, training=training)\n",
    "    out1 = self.layernorm1(attn1 + x)\n",
    "    \n",
    "    attn2, attn_weights_block2 = self.mha2(\n",
    "        enc_output, enc_output, out1, padding_mask)  # (batch_size, target_seq_len, d_model)\n",
    "    attn2 = self.dropout2(attn2, training=training)\n",
    "    out2 = self.layernorm2(attn2 + out1)  # (batch_size, target_seq_len, d_model)\n",
    "    \n",
    "    ffn_output = self.ffn(out2)  # (batch_size, target_seq_len, d_model)\n",
    "    ffn_output = self.dropout3(ffn_output, training=training)\n",
    "    out3 = self.layernorm3(ffn_output + out2)  # (batch_size, target_seq_len, d_model)\n",
    "    \n",
    "    return out3, attn_weights_block1, attn_weights_block2"
   ]
  },
  {
   "cell_type": "code",
   "execution_count": 56,
   "metadata": {
    "colab": {
     "base_uri": "https://localhost:8080/",
     "height": 34
    },
    "id": "Ne2Bqx8k71l0",
    "outputId": "e18d9ed8-9070-44d4-c1ab-0134d89ee737"
   },
   "outputs": [
    {
     "data": {
      "text/plain": [
       "TensorShape([64, 50, 512])"
      ]
     },
     "execution_count": 56,
     "metadata": {},
     "output_type": "execute_result"
    }
   ],
   "source": [
    "sample_decoder_layer = DecoderLayer(512, 8, 2048)\n",
    "\n",
    "sample_decoder_layer_output, _, _ = sample_decoder_layer(\n",
    "    tf.random.uniform((64, 50, 512)), sample_encoder_layer_output, \n",
    "    False, None, None)\n",
    "\n",
    "sample_decoder_layer_output.shape  # (batch_size, target_seq_len, d_model)"
   ]
  },
  {
   "cell_type": "markdown",
   "metadata": {
    "id": "SE1H51Ajm0q1"
   },
   "source": [
    "### Encoder\n",
    "\n",
    "The `Encoder` consists of:\n",
    "1.   Input Embedding\n",
    "2.   Positional Encoding\n",
    "3.   N encoder layers\n",
    "\n",
    "The input is put through an embedding which is summed with the positional encoding. The output of this summation is the input to the encoder layers. The output of the encoder is the input to the decoder."
   ]
  },
  {
   "cell_type": "code",
   "execution_count": 57,
   "metadata": {
    "id": "jpEox7gJ8FCI"
   },
   "outputs": [],
   "source": [
    "class Encoder(tf.keras.layers.Layer):\n",
    "  def __init__(self, num_layers, d_model, num_heads, dff, input_vocab_size,\n",
    "               maximum_position_encoding, rate=0.1):\n",
    "    super(Encoder, self).__init__()\n",
    "\n",
    "    self.d_model = d_model\n",
    "    self.num_layers = num_layers\n",
    "    \n",
    "    self.embedding = tf.keras.layers.Embedding(input_vocab_size, d_model)\n",
    "    self.pos_encoding = positional_encoding(maximum_position_encoding, \n",
    "                                            self.d_model)\n",
    "    \n",
    "    \n",
    "    self.enc_layers = [EncoderLayer(d_model, num_heads, dff, rate) \n",
    "                       for _ in range(num_layers)]\n",
    "  \n",
    "    self.dropout = tf.keras.layers.Dropout(rate)\n",
    "        \n",
    "  def call(self, x, training, mask):\n",
    "\n",
    "    seq_len = tf.shape(x)[1]\n",
    "    \n",
    "    # adding embedding and position encoding.\n",
    "    x = self.embedding(x)  # (batch_size, input_seq_len, d_model)\n",
    "    x *= tf.math.sqrt(tf.cast(self.d_model, tf.float32))\n",
    "    x += self.pos_encoding[:, :seq_len, :]\n",
    "\n",
    "    x = self.dropout(x, training=training)\n",
    "    \n",
    "    for i in range(self.num_layers):\n",
    "      x = self.enc_layers[i](x, training, mask)\n",
    "    \n",
    "    return x  # (batch_size, input_seq_len, d_model)"
   ]
  },
  {
   "cell_type": "code",
   "execution_count": 58,
   "metadata": {
    "colab": {
     "base_uri": "https://localhost:8080/",
     "height": 34
    },
    "id": "8QG9nueFQKXx",
    "outputId": "521a7b5d-e59d-4ec6-fabc-efc485cc8cf8"
   },
   "outputs": [
    {
     "name": "stdout",
     "output_type": "stream",
     "text": [
      "(64, 62, 512)\n"
     ]
    }
   ],
   "source": [
    "sample_encoder = Encoder(num_layers=2, d_model=512, num_heads=8, \n",
    "                         dff=2048, input_vocab_size=8500,\n",
    "                         maximum_position_encoding=10000)\n",
    "temp_input = tf.random.uniform((64, 62), dtype=tf.int64, minval=0, maxval=200)\n",
    "\n",
    "sample_encoder_output = sample_encoder(temp_input, training=False, mask=None)\n",
    "\n",
    "print (sample_encoder_output.shape)  # (batch_size, input_seq_len, d_model)"
   ]
  },
  {
   "cell_type": "markdown",
   "metadata": {
    "id": "p-uO6ls8m2O5"
   },
   "source": [
    "### Decoder"
   ]
  },
  {
   "cell_type": "markdown",
   "metadata": {
    "id": "ZtT7PKzrXkNr"
   },
   "source": [
    " The `Decoder` consists of:\n",
    "1.   Output Embedding\n",
    "2.   Positional Encoding\n",
    "3.   N decoder layers\n",
    "\n",
    "The target is put through an embedding which is summed with the positional encoding. The output of this summation is the input to the decoder layers. The output of the decoder is the input to the final linear layer."
   ]
  },
  {
   "cell_type": "code",
   "execution_count": 59,
   "metadata": {
    "id": "d5_d5-PLQXwY"
   },
   "outputs": [],
   "source": [
    "class Decoder(tf.keras.layers.Layer):\n",
    "  def __init__(self, num_layers, d_model, num_heads, dff, target_vocab_size,\n",
    "               maximum_position_encoding, rate=0.1):\n",
    "    super(Decoder, self).__init__()\n",
    "\n",
    "    self.d_model = d_model\n",
    "    self.num_layers = num_layers\n",
    "    \n",
    "    self.embedding = tf.keras.layers.Embedding(target_vocab_size, d_model)\n",
    "    self.pos_encoding = positional_encoding(maximum_position_encoding, d_model)\n",
    "    \n",
    "    self.dec_layers = [DecoderLayer(d_model, num_heads, dff, rate) \n",
    "                       for _ in range(num_layers)]\n",
    "    self.dropout = tf.keras.layers.Dropout(rate)\n",
    "    \n",
    "  def call(self, x, enc_output, training, \n",
    "           look_ahead_mask, padding_mask):\n",
    "\n",
    "    seq_len = tf.shape(x)[1]\n",
    "    attention_weights = {}\n",
    "    \n",
    "    x = self.embedding(x)  # (batch_size, target_seq_len, d_model)\n",
    "    x *= tf.math.sqrt(tf.cast(self.d_model, tf.float32))\n",
    "    x += self.pos_encoding[:, :seq_len, :]\n",
    "    \n",
    "    x = self.dropout(x, training=training)\n",
    "\n",
    "    for i in range(self.num_layers):\n",
    "      x, block1, block2 = self.dec_layers[i](x, enc_output, training,\n",
    "                                             look_ahead_mask, padding_mask)\n",
    "      \n",
    "      attention_weights['decoder_layer{}_block1'.format(i+1)] = block1\n",
    "      attention_weights['decoder_layer{}_block2'.format(i+1)] = block2\n",
    "    \n",
    "    # x.shape == (batch_size, target_seq_len, d_model)\n",
    "    return x, attention_weights"
   ]
  },
  {
   "cell_type": "code",
   "execution_count": 60,
   "metadata": {
    "colab": {
     "base_uri": "https://localhost:8080/",
     "height": 34
    },
    "id": "a1jXoAMRZyvu",
    "outputId": "19923afd-18cd-4dda-ea15-7977eeac04da"
   },
   "outputs": [
    {
     "data": {
      "text/plain": [
       "(TensorShape([64, 26, 512]), TensorShape([64, 8, 26, 62]))"
      ]
     },
     "execution_count": 60,
     "metadata": {},
     "output_type": "execute_result"
    }
   ],
   "source": [
    "sample_decoder = Decoder(num_layers=2, d_model=512, num_heads=8, \n",
    "                         dff=2048, target_vocab_size=8000,\n",
    "                         maximum_position_encoding=5000)\n",
    "temp_input = tf.random.uniform((64, 26), dtype=tf.int64, minval=0, maxval=200)\n",
    "\n",
    "output, attn = sample_decoder(temp_input, \n",
    "                              enc_output=sample_encoder_output, \n",
    "                              training=False,\n",
    "                              look_ahead_mask=None, \n",
    "                              padding_mask=None)\n",
    "\n",
    "output.shape, attn['decoder_layer2_block2'].shape"
   ]
  },
  {
   "cell_type": "markdown",
   "metadata": {
    "id": "y54xnJnuYgJ7"
   },
   "source": [
    "## Create the Transformer"
   ]
  },
  {
   "cell_type": "markdown",
   "metadata": {
    "id": "uERO1y54cOKq"
   },
   "source": [
    "Transformer consists of the encoder, decoder and a final linear layer. The output of the decoder is the input to the linear layer and its output is returned."
   ]
  },
  {
   "cell_type": "code",
   "execution_count": 61,
   "metadata": {
    "id": "PED3bIpOYkBu"
   },
   "outputs": [],
   "source": [
    "class Transformer(tf.keras.Model):\n",
    "  def __init__(self, num_layers, d_model, num_heads, dff, input_vocab_size, \n",
    "               target_vocab_size, pe_input, pe_target, rate=0.1):\n",
    "    super(Transformer, self).__init__()\n",
    "\n",
    "    self.encoder = Encoder(num_layers, d_model, num_heads, dff, \n",
    "                           input_vocab_size, pe_input, rate)\n",
    "\n",
    "    self.decoder = Decoder(num_layers, d_model, num_heads, dff, \n",
    "                           target_vocab_size, pe_target, rate)\n",
    "\n",
    "    self.final_layer = tf.keras.layers.Dense(target_vocab_size)\n",
    "    \n",
    "  def call(self, inp, tar, training, enc_padding_mask, \n",
    "           look_ahead_mask, dec_padding_mask):\n",
    "\n",
    "    enc_output = self.encoder(inp, training, enc_padding_mask)  # (batch_size, inp_seq_len, d_model)\n",
    "    \n",
    "    # dec_output.shape == (batch_size, tar_seq_len, d_model)\n",
    "    dec_output, attention_weights = self.decoder(\n",
    "        tar, enc_output, training, look_ahead_mask, dec_padding_mask)\n",
    "    \n",
    "    final_output = self.final_layer(dec_output)  # (batch_size, tar_seq_len, target_vocab_size)\n",
    "    \n",
    "    return final_output, attention_weights"
   ]
  },
  {
   "cell_type": "code",
   "execution_count": 62,
   "metadata": {
    "colab": {
     "base_uri": "https://localhost:8080/",
     "height": 34
    },
    "id": "tJ4fbQcIkHW1",
    "outputId": "fa6e9744-9829-438c-a71c-de2490a21b1d"
   },
   "outputs": [
    {
     "data": {
      "text/plain": [
       "TensorShape([64, 36, 8000])"
      ]
     },
     "execution_count": 62,
     "metadata": {},
     "output_type": "execute_result"
    }
   ],
   "source": [
    "sample_transformer = Transformer(\n",
    "    num_layers=2, d_model=512, num_heads=8, dff=2048, \n",
    "    input_vocab_size=8500, target_vocab_size=8000, \n",
    "    pe_input=10000, pe_target=6000)\n",
    "\n",
    "temp_input = tf.random.uniform((64, 38), dtype=tf.int64, minval=0, maxval=200)\n",
    "temp_target = tf.random.uniform((64, 36), dtype=tf.int64, minval=0, maxval=200)\n",
    "\n",
    "fn_out, _ = sample_transformer(temp_input, temp_target, training=False, \n",
    "                               enc_padding_mask=None, \n",
    "                               look_ahead_mask=None,\n",
    "                               dec_padding_mask=None)\n",
    "\n",
    "fn_out.shape  # (batch_size, tar_seq_len, target_vocab_size)"
   ]
  },
  {
   "cell_type": "markdown",
   "metadata": {
    "id": "wsINyf1VEQLC"
   },
   "source": [
    "## Set hyperparameters"
   ]
  },
  {
   "cell_type": "markdown",
   "metadata": {
    "id": "zVjWCxFNcgbt"
   },
   "source": [
    "To keep this example small and relatively fast, the values for *num_layers, d_model, and dff* have been reduced. \n",
    "\n",
    "The values used in the base model of transformer were; *num_layers=6*, *d_model = 512*, *dff = 2048*. See the [paper](https://arxiv.org/abs/1706.03762) for all the other versions of the transformer.\n",
    "\n",
    "Note: By changing the values below, you can get the model that achieved state of the art on many tasks."
   ]
  },
  {
   "cell_type": "code",
   "execution_count": 63,
   "metadata": {
    "id": "lnJn5SLA2ahP"
   },
   "outputs": [],
   "source": [
    "num_layers = 4\n",
    "d_model = 128\n",
    "dff = 512\n",
    "num_heads = 8\n",
    "\n",
    "input_vocab_size = tokenizer_kor.vocab_size + 2\n",
    "target_vocab_size = tokenizer_eng.vocab_size + 2\n",
    "dropout_rate = 0.1"
   ]
  },
  {
   "cell_type": "markdown",
   "metadata": {
    "id": "xYEGhEOtzn5W"
   },
   "source": [
    "## Optimizer"
   ]
  },
  {
   "cell_type": "markdown",
   "metadata": {
    "id": "GOmWW--yP3zx"
   },
   "source": [
    "Use the Adam optimizer with a custom learning rate scheduler according to the formula in the [paper](https://arxiv.org/abs/1706.03762).\n",
    "\n",
    "$$\\Large{lrate = d_{model}^{-0.5} * min(step{\\_}num^{-0.5}, step{\\_}num * warmup{\\_}steps^{-1.5})}$$\n"
   ]
  },
  {
   "cell_type": "code",
   "execution_count": 64,
   "metadata": {
    "id": "iYQdOO1axwEI"
   },
   "outputs": [],
   "source": [
    "class CustomSchedule(tf.keras.optimizers.schedules.LearningRateSchedule):\n",
    "  def __init__(self, d_model, warmup_steps=4000):\n",
    "    super(CustomSchedule, self).__init__()\n",
    "    \n",
    "    self.d_model = d_model\n",
    "    self.d_model = tf.cast(self.d_model, tf.float32)\n",
    "\n",
    "    self.warmup_steps = warmup_steps\n",
    "    \n",
    "  def __call__(self, step):\n",
    "    arg1 = tf.math.rsqrt(step)\n",
    "    arg2 = step * (self.warmup_steps ** -1.5)\n",
    "    \n",
    "    return tf.math.rsqrt(self.d_model) * tf.math.minimum(arg1, arg2)"
   ]
  },
  {
   "cell_type": "code",
   "execution_count": 65,
   "metadata": {
    "id": "7r4scdulztRx"
   },
   "outputs": [],
   "source": [
    "learning_rate = CustomSchedule(d_model)\n",
    "\n",
    "optimizer = tf.keras.optimizers.Adam(learning_rate, beta_1=0.9, beta_2=0.98, \n",
    "                                     epsilon=1e-9)"
   ]
  },
  {
   "cell_type": "code",
   "execution_count": 66,
   "metadata": {
    "colab": {
     "base_uri": "https://localhost:8080/",
     "height": 296
    },
    "id": "f33ZCgvHpPdG",
    "outputId": "fb08392a-2db1-40ea-df33-6695698367f5"
   },
   "outputs": [
    {
     "data": {
      "text/plain": [
       "Text(0.5, 0, 'Train Step')"
      ]
     },
     "execution_count": 66,
     "metadata": {},
     "output_type": "execute_result"
    },
    {
     "data": {
      "image/png": "[encoded data removed]",
      "text/plain": [
       "<Figure size 432x288 with 1 Axes>"
      ]
     },
     "metadata": {
      "needs_background": "light"
     },
     "output_type": "display_data"
    }
   ],
   "source": [
    "temp_learning_rate_schedule = CustomSchedule(d_model)\n",
    "\n",
    "plt.plot(temp_learning_rate_schedule(tf.range(40000, dtype=tf.float32)))\n",
    "plt.ylabel(\"Learning Rate\")\n",
    "plt.xlabel(\"Train Step\")"
   ]
  },
  {
   "cell_type": "markdown",
   "metadata": {
    "id": "YgkDE7hzo8r5"
   },
   "source": [
    "## Loss and metrics"
   ]
  },
  {
   "cell_type": "markdown",
   "metadata": {
    "id": "oxGJtoDuYIHL"
   },
   "source": [
    "Since the target sequences are padded, it is important to apply a padding mask when calculating the loss."
   ]
  },
  {
   "cell_type": "code",
   "execution_count": 67,
   "metadata": {
    "id": "MlhsJMm0TW_B"
   },
   "outputs": [],
   "source": [
    "loss_object = tf.keras.losses.SparseCategoricalCrossentropy(\n",
    "    from_logits=True, reduction='none')"
   ]
  },
  {
   "cell_type": "code",
   "execution_count": 68,
   "metadata": {
    "id": "67oqVHiT0Eiu"
   },
   "outputs": [],
   "source": [
    "def loss_function(real, pred):\n",
    "  mask = tf.math.logical_not(tf.math.equal(real, 0))\n",
    "  loss_ = loss_object(real, pred)\n",
    "\n",
    "  mask = tf.cast(mask, dtype=loss_.dtype)\n",
    "  loss_ *= mask\n",
    "  \n",
    "  return tf.reduce_sum(loss_)/tf.reduce_sum(mask)"
   ]
  },
  {
   "cell_type": "code",
   "execution_count": 69,
   "metadata": {
    "id": "phlyxMnm-Tpx"
   },
   "outputs": [],
   "source": [
    "train_loss = tf.keras.metrics.Mean(name='train_loss')\n",
    "train_accuracy = tf.keras.metrics.SparseCategoricalAccuracy(\n",
    "    name='train_accuracy')"
   ]
  },
  {
   "cell_type": "markdown",
   "metadata": {
    "id": "aeHumfr7zmMa"
   },
   "source": [
    "## Training and checkpointing"
   ]
  },
  {
   "cell_type": "code",
   "execution_count": 70,
   "metadata": {
    "id": "UiysUa--4tOU"
   },
   "outputs": [],
   "source": [
    "transformer = Transformer(num_layers, d_model, num_heads, dff,\n",
    "                          input_vocab_size, target_vocab_size, \n",
    "                          pe_input=input_vocab_size, \n",
    "                          pe_target=target_vocab_size,\n",
    "                          rate=dropout_rate)"
   ]
  },
  {
   "cell_type": "code",
   "execution_count": 71,
   "metadata": {
    "id": "ZOJUSB1T8GjM"
   },
   "outputs": [],
   "source": [
    "def create_masks(inp, tar):\n",
    "  # Encoder padding mask\n",
    "  enc_padding_mask = create_padding_mask(inp)\n",
    "  \n",
    "  # Used in the 2nd attention block in the decoder.\n",
    "  # This padding mask is used to mask the encoder outputs.\n",
    "  dec_padding_mask = create_padding_mask(inp)\n",
    "  \n",
    "  # Used in the 1st attention block in the decoder.\n",
    "  # It is used to pad and mask future tokens in the input received by \n",
    "  # the decoder.\n",
    "  look_ahead_mask = create_look_ahead_mask(tf.shape(tar)[1])\n",
    "  dec_target_padding_mask = create_padding_mask(tar)\n",
    "  combined_mask = tf.maximum(dec_target_padding_mask, look_ahead_mask)\n",
    "  \n",
    "  return enc_padding_mask, combined_mask, dec_padding_mask"
   ]
  },
  {
   "cell_type": "markdown",
   "metadata": {
    "id": "Fzuf06YZp66w"
   },
   "source": [
    "Create the checkpoint path and the checkpoint manager. This will be used to save checkpoints every `n` epochs."
   ]
  },
  {
   "cell_type": "code",
   "execution_count": 72,
   "metadata": {
    "id": "hNhuYfllndLZ"
   },
   "outputs": [],
   "source": [
    "checkpoint_path = \"./checkpoints/train\"\n",
    "\n",
    "ckpt = tf.train.Checkpoint(transformer=transformer,\n",
    "                           optimizer=optimizer)\n",
    "\n",
    "ckpt_manager = tf.train.CheckpointManager(ckpt, checkpoint_path, max_to_keep=5)\n",
    "\n",
    "# if a checkpoint exists, restore the latest checkpoint.\n",
    "if ckpt_manager.latest_checkpoint:\n",
    "  ckpt.restore(ckpt_manager.latest_checkpoint)\n",
    "  print ('Latest checkpoint restored!!')"
   ]
  },
  {
   "cell_type": "markdown",
   "metadata": {
    "id": "0Di_Yaa1gf9r"
   },
   "source": [
    "The target is divided into tar_inp and tar_real. tar_inp is passed as an input to the decoder. `tar_real` is that same input shifted by 1: At each location in `tar_input`, `tar_real` contains the  next token that should be predicted.\n",
    "\n",
    "For example, `sentence` = \"SOS A lion in the jungle is sleeping EOS\"\n",
    "\n",
    "`tar_inp` =  \"SOS A lion in the jungle is sleeping\"\n",
    "\n",
    "`tar_real` = \"A lion in the jungle is sleeping EOS\"\n",
    "\n",
    "The transformer is an auto-regressive model: it makes predictions one part at a time, and uses its output so far to decide what to do next. \n",
    "\n",
    "During training this example uses teacher-forcing (like in the [text generation tutorial](./text_generation.ipynb)). Teacher forcing is passing the true output to the next time step regardless of what the model predicts at the current time step.\n",
    "\n",
    "As the transformer predicts each word, *self-attention* allows it to look at the previous words in the input sequence to better predict the next word.\n",
    "\n",
    "To prevent the model from peeking at the expected output the model uses a look-ahead mask."
   ]
  },
  {
   "cell_type": "code",
   "execution_count": 118,
   "metadata": {
    "id": "LKpoA6q1sJFj"
   },
   "outputs": [],
   "source": [
    "EPOCHS = 100"
   ]
  },
  {
   "cell_type": "code",
   "execution_count": 74,
   "metadata": {
    "id": "iJwmp9OE29oj"
   },
   "outputs": [],
   "source": [
    "# The @tf.function trace-compiles train_step into a TF graph for faster\n",
    "# execution. The function specializes to the precise shape of the argument\n",
    "# tensors. To avoid re-tracing due to the variable sequence lengths or variable\n",
    "# batch sizes (the last batch is smaller), use input_signature to specify\n",
    "# more generic shapes.\n",
    "\n",
    "train_step_signature = [\n",
    "    tf.TensorSpec(shape=(None, None), dtype=tf.int64),\n",
    "    tf.TensorSpec(shape=(None, None), dtype=tf.int64),\n",
    "]\n",
    "\n",
    "@tf.function(input_signature=train_step_signature)\n",
    "def train_step(inp, tar):\n",
    "  tar_inp = tar[:, :-1]\n",
    "  tar_real = tar[:, 1:]\n",
    "  \n",
    "  enc_padding_mask, combined_mask, dec_padding_mask = create_masks(inp, tar_inp)\n",
    "  \n",
    "  with tf.GradientTape() as tape:\n",
    "    predictions, _ = transformer(inp, tar_inp, \n",
    "                                 True, \n",
    "                                 enc_padding_mask, \n",
    "                                 combined_mask, \n",
    "                                 dec_padding_mask)\n",
    "    loss = loss_function(tar_real, predictions)\n",
    "\n",
    "  gradients = tape.gradient(loss, transformer.trainable_variables)    \n",
    "  optimizer.apply_gradients(zip(gradients, transformer.trainable_variables))\n",
    "  \n",
    "  train_loss(loss)\n",
    "  train_accuracy(tar_real, predictions)"
   ]
  },
  {
   "cell_type": "markdown",
   "metadata": {
    "id": "qM2PDWGDJ_8V"
   },
   "source": [
    "Korean is used as the input language and English is the target language."
   ]
  },
  {
   "cell_type": "code",
   "execution_count": 124,
   "metadata": {
    "colab": {
     "base_uri": "https://localhost:8080/",
     "height": 1000
    },
    "id": "bbvmaKNiznHZ",
    "outputId": "97735af3-1f23-4a16-8454-5dd6b3ac603d"
   },
   "outputs": [
    {
     "name": "stdout",
     "output_type": "stream",
     "text": [
      "Epoch 1 Batch 0 Loss 0.7739 Accuracy 0.4198\n",
      "Epoch 1 Batch 50 Loss 0.8163 Accuracy 0.4207\n",
      "Epoch 1 Batch 100 Loss 0.8335 Accuracy 0.4194\n",
      "Epoch 1 Batch 150 Loss 0.8491 Accuracy 0.4180\n",
      "Epoch 1 Loss 0.8577 Accuracy 0.4167\n",
      "Time taken for 1 epoch: 17.716756582260132 secs\n",
      "\n",
      "Epoch 2 Batch 0 Loss 0.7619 Accuracy 0.4285\n",
      "Epoch 2 Batch 50 Loss 0.8156 Accuracy 0.4233\n",
      "Epoch 2 Batch 100 Loss 0.8324 Accuracy 0.4203\n",
      "Epoch 2 Batch 150 Loss 0.8483 Accuracy 0.4179\n",
      "Epoch 2 Loss 0.8542 Accuracy 0.4170\n",
      "Time taken for 1 epoch: 17.107390880584717 secs\n",
      "\n",
      "Epoch 3 Batch 0 Loss 0.8092 Accuracy 0.4138\n",
      "Epoch 3 Batch 50 Loss 0.8135 Accuracy 0.4221\n",
      "Epoch 3 Batch 100 Loss 0.8236 Accuracy 0.4202\n",
      "Epoch 3 Batch 150 Loss 0.8425 Accuracy 0.4186\n",
      "Epoch 3 Loss 0.8511 Accuracy 0.4173\n",
      "Time taken for 1 epoch: 16.510209560394287 secs\n",
      "\n",
      "Epoch 4 Batch 0 Loss 0.7572 Accuracy 0.3993\n",
      "Epoch 4 Batch 50 Loss 0.8066 Accuracy 0.4214\n",
      "Epoch 4 Batch 100 Loss 0.8249 Accuracy 0.4223\n",
      "Epoch 4 Batch 150 Loss 0.8404 Accuracy 0.4186\n",
      "Epoch 4 Loss 0.8488 Accuracy 0.4177\n",
      "Time taken for 1 epoch: 17.511123180389404 secs\n",
      "\n",
      "Epoch 5 Batch 0 Loss 0.8439 Accuracy 0.4021\n",
      "Epoch 5 Batch 50 Loss 0.8070 Accuracy 0.4234\n",
      "Epoch 5 Batch 100 Loss 0.8233 Accuracy 0.4204\n",
      "Epoch 5 Batch 150 Loss 0.8403 Accuracy 0.4183\n",
      "Saving checkpoint for epoch 5 at ./checkpoints/train\\ckpt-45\n",
      "Epoch 5 Loss 0.8493 Accuracy 0.4176\n",
      "Time taken for 1 epoch: 16.265907764434814 secs\n",
      "\n",
      "Epoch 6 Batch 0 Loss 0.8034 Accuracy 0.4291\n",
      "Epoch 6 Batch 50 Loss 0.8085 Accuracy 0.4205\n",
      "Epoch 6 Batch 100 Loss 0.8253 Accuracy 0.4199\n",
      "Epoch 6 Batch 150 Loss 0.8408 Accuracy 0.4184\n",
      "Epoch 6 Loss 0.8484 Accuracy 0.4178\n",
      "Time taken for 1 epoch: 15.565159797668457 secs\n",
      "\n",
      "Epoch 7 Batch 0 Loss 0.8163 Accuracy 0.4237\n",
      "Epoch 7 Batch 50 Loss 0.8102 Accuracy 0.4228\n",
      "Epoch 7 Batch 100 Loss 0.8217 Accuracy 0.4217\n",
      "Epoch 7 Batch 150 Loss 0.8378 Accuracy 0.4195\n",
      "Epoch 7 Loss 0.8473 Accuracy 0.4184\n",
      "Time taken for 1 epoch: 15.471145868301392 secs\n",
      "\n",
      "Epoch 8 Batch 0 Loss 0.7249 Accuracy 0.4377\n",
      "Epoch 8 Batch 50 Loss 0.8050 Accuracy 0.4212\n",
      "Epoch 8 Batch 100 Loss 0.8253 Accuracy 0.4207\n",
      "Epoch 8 Batch 150 Loss 0.8391 Accuracy 0.4189\n",
      "Epoch 8 Loss 0.8470 Accuracy 0.4177\n",
      "Time taken for 1 epoch: 14.827131509780884 secs\n",
      "\n",
      "Epoch 9 Batch 0 Loss 0.7941 Accuracy 0.4390\n",
      "Epoch 9 Batch 50 Loss 0.8051 Accuracy 0.4254\n",
      "Epoch 9 Batch 100 Loss 0.8187 Accuracy 0.4229\n",
      "Epoch 9 Batch 150 Loss 0.8332 Accuracy 0.4202\n",
      "Epoch 9 Loss 0.8419 Accuracy 0.4188\n",
      "Time taken for 1 epoch: 14.882838487625122 secs\n",
      "\n",
      "Epoch 10 Batch 0 Loss 0.8132 Accuracy 0.4174\n",
      "Epoch 10 Batch 50 Loss 0.7985 Accuracy 0.4223\n",
      "Epoch 10 Batch 100 Loss 0.8185 Accuracy 0.4214\n",
      "Epoch 10 Batch 150 Loss 0.8337 Accuracy 0.4193\n",
      "Saving checkpoint for epoch 10 at ./checkpoints/train\\ckpt-46\n",
      "Epoch 10 Loss 0.8438 Accuracy 0.4185\n",
      "Time taken for 1 epoch: 15.203880548477173 secs\n",
      "\n",
      "Epoch 11 Batch 0 Loss 0.7860 Accuracy 0.4196\n",
      "Epoch 11 Batch 50 Loss 0.7965 Accuracy 0.4259\n",
      "Epoch 11 Batch 100 Loss 0.8168 Accuracy 0.4230\n",
      "Epoch 11 Batch 150 Loss 0.8311 Accuracy 0.4199\n",
      "Epoch 11 Loss 0.8401 Accuracy 0.4189\n",
      "Time taken for 1 epoch: 14.91153073310852 secs\n",
      "\n",
      "Epoch 12 Batch 0 Loss 0.7641 Accuracy 0.3939\n",
      "Epoch 12 Batch 50 Loss 0.8024 Accuracy 0.4226\n",
      "Epoch 12 Batch 100 Loss 0.8184 Accuracy 0.4208\n",
      "Epoch 12 Batch 150 Loss 0.8309 Accuracy 0.4198\n",
      "Epoch 12 Loss 0.8397 Accuracy 0.4190\n",
      "Time taken for 1 epoch: 14.949249029159546 secs\n",
      "\n",
      "Epoch 13 Batch 0 Loss 0.7917 Accuracy 0.4159\n",
      "Epoch 13 Batch 50 Loss 0.8033 Accuracy 0.4270\n",
      "Epoch 13 Batch 100 Loss 0.8160 Accuracy 0.4229\n",
      "Epoch 13 Batch 150 Loss 0.8313 Accuracy 0.4201\n",
      "Epoch 13 Loss 0.8392 Accuracy 0.4191\n",
      "Time taken for 1 epoch: 14.96468210220337 secs\n",
      "\n",
      "Epoch 14 Batch 0 Loss 0.7607 Accuracy 0.4238\n",
      "Epoch 14 Batch 50 Loss 0.7968 Accuracy 0.4230\n",
      "Epoch 14 Batch 100 Loss 0.8138 Accuracy 0.4214\n",
      "Epoch 14 Batch 150 Loss 0.8293 Accuracy 0.4197\n",
      "Epoch 14 Loss 0.8369 Accuracy 0.4192\n",
      "Time taken for 1 epoch: 14.895932674407959 secs\n",
      "\n",
      "Epoch 15 Batch 0 Loss 0.7317 Accuracy 0.4165\n",
      "Epoch 15 Batch 50 Loss 0.8005 Accuracy 0.4236\n",
      "Epoch 15 Batch 100 Loss 0.8150 Accuracy 0.4223\n",
      "Epoch 15 Batch 150 Loss 0.8300 Accuracy 0.4199\n",
      "Saving checkpoint for epoch 15 at ./checkpoints/train\\ckpt-47\n",
      "Epoch 15 Loss 0.8369 Accuracy 0.4191\n",
      "Time taken for 1 epoch: 15.71999192237854 secs\n",
      "\n",
      "Epoch 16 Batch 0 Loss 0.7401 Accuracy 0.4195\n",
      "Epoch 16 Batch 50 Loss 0.7958 Accuracy 0.4250\n",
      "Epoch 16 Batch 100 Loss 0.8111 Accuracy 0.4223\n",
      "Epoch 16 Batch 150 Loss 0.8257 Accuracy 0.4203\n",
      "Epoch 16 Loss 0.8343 Accuracy 0.4195\n",
      "Time taken for 1 epoch: 15.316725015640259 secs\n",
      "\n",
      "Epoch 17 Batch 0 Loss 0.7818 Accuracy 0.4180\n",
      "Epoch 17 Batch 50 Loss 0.7996 Accuracy 0.4251\n",
      "Epoch 17 Batch 100 Loss 0.8133 Accuracy 0.4216\n",
      "Epoch 17 Batch 150 Loss 0.8254 Accuracy 0.4200\n",
      "Epoch 17 Loss 0.8338 Accuracy 0.4198\n",
      "Time taken for 1 epoch: 15.308594465255737 secs\n",
      "\n",
      "Epoch 18 Batch 0 Loss 0.7989 Accuracy 0.4206\n",
      "Epoch 18 Batch 50 Loss 0.7924 Accuracy 0.4233\n",
      "Epoch 18 Batch 100 Loss 0.8071 Accuracy 0.4228\n",
      "Epoch 18 Batch 150 Loss 0.8238 Accuracy 0.4212\n",
      "Epoch 18 Loss 0.8317 Accuracy 0.4200\n",
      "Time taken for 1 epoch: 14.846673727035522 secs\n",
      "\n",
      "Epoch 19 Batch 0 Loss 0.7515 Accuracy 0.4130\n",
      "Epoch 19 Batch 50 Loss 0.7954 Accuracy 0.4265\n",
      "Epoch 19 Batch 100 Loss 0.8054 Accuracy 0.4235\n",
      "Epoch 19 Batch 150 Loss 0.8218 Accuracy 0.4220\n",
      "Epoch 19 Loss 0.8300 Accuracy 0.4202\n",
      "Time taken for 1 epoch: 14.94101595878601 secs\n",
      "\n",
      "Epoch 20 Batch 0 Loss 0.7516 Accuracy 0.4265\n",
      "Epoch 20 Batch 50 Loss 0.7914 Accuracy 0.4283\n",
      "Epoch 20 Batch 100 Loss 0.8063 Accuracy 0.4248\n",
      "Epoch 20 Batch 150 Loss 0.8205 Accuracy 0.4218\n",
      "Saving checkpoint for epoch 20 at ./checkpoints/train\\ckpt-48\n",
      "Epoch 20 Loss 0.8300 Accuracy 0.4207\n",
      "Time taken for 1 epoch: 15.50958800315857 secs\n",
      "\n",
      "Epoch 21 Batch 0 Loss 0.7118 Accuracy 0.4349\n",
      "Epoch 21 Batch 50 Loss 0.7854 Accuracy 0.4256\n",
      "Epoch 21 Batch 100 Loss 0.8068 Accuracy 0.4224\n",
      "Epoch 21 Batch 150 Loss 0.8215 Accuracy 0.4208\n",
      "Epoch 21 Loss 0.8294 Accuracy 0.4203\n",
      "Time taken for 1 epoch: 16.317777395248413 secs\n",
      "\n",
      "Epoch 22 Batch 0 Loss 0.8407 Accuracy 0.4225\n",
      "Epoch 22 Batch 50 Loss 0.7969 Accuracy 0.4243\n",
      "Epoch 22 Batch 100 Loss 0.8092 Accuracy 0.4235\n",
      "Epoch 22 Batch 150 Loss 0.8204 Accuracy 0.4213\n",
      "Epoch 22 Loss 0.8282 Accuracy 0.4202\n",
      "Time taken for 1 epoch: 16.00990080833435 secs\n",
      "\n",
      "Epoch 23 Batch 0 Loss 0.7667 Accuracy 0.4145\n",
      "Epoch 23 Batch 50 Loss 0.7945 Accuracy 0.4257\n",
      "Epoch 23 Batch 100 Loss 0.8051 Accuracy 0.4232\n",
      "Epoch 23 Batch 150 Loss 0.8195 Accuracy 0.4209\n",
      "Epoch 23 Loss 0.8276 Accuracy 0.4205\n",
      "Time taken for 1 epoch: 15.534756183624268 secs\n",
      "\n",
      "Epoch 24 Batch 0 Loss 0.7581 Accuracy 0.4337\n",
      "Epoch 24 Batch 50 Loss 0.7933 Accuracy 0.4251\n",
      "Epoch 24 Batch 100 Loss 0.8024 Accuracy 0.4233\n",
      "Epoch 24 Batch 150 Loss 0.8182 Accuracy 0.4210\n",
      "Epoch 24 Loss 0.8258 Accuracy 0.4205\n",
      "Time taken for 1 epoch: 15.399069786071777 secs\n",
      "\n",
      "Epoch 25 Batch 0 Loss 0.8003 Accuracy 0.4458\n",
      "Epoch 25 Batch 50 Loss 0.7847 Accuracy 0.4271\n",
      "Epoch 25 Batch 100 Loss 0.8021 Accuracy 0.4238\n",
      "Epoch 25 Batch 150 Loss 0.8156 Accuracy 0.4215\n",
      "Saving checkpoint for epoch 25 at ./checkpoints/train\\ckpt-49\n",
      "Epoch 25 Loss 0.8245 Accuracy 0.4208\n",
      "Time taken for 1 epoch: 15.276911973953247 secs\n",
      "\n",
      "Epoch 26 Batch 0 Loss 0.7449 Accuracy 0.4316\n",
      "Epoch 26 Batch 50 Loss 0.7851 Accuracy 0.4247\n",
      "Epoch 26 Batch 100 Loss 0.8000 Accuracy 0.4248\n",
      "Epoch 26 Batch 150 Loss 0.8147 Accuracy 0.4223\n",
      "Epoch 26 Loss 0.8224 Accuracy 0.4211\n",
      "Time taken for 1 epoch: 15.010606288909912 secs\n",
      "\n",
      "Epoch 27 Batch 0 Loss 0.7553 Accuracy 0.4238\n",
      "Epoch 27 Batch 50 Loss 0.7820 Accuracy 0.4295\n",
      "Epoch 27 Batch 100 Loss 0.8007 Accuracy 0.4252\n",
      "Epoch 27 Batch 150 Loss 0.8152 Accuracy 0.4221\n",
      "Epoch 27 Loss 0.8229 Accuracy 0.4213\n",
      "Time taken for 1 epoch: 14.975839376449585 secs\n",
      "\n",
      "Epoch 28 Batch 0 Loss 0.7751 Accuracy 0.4191\n",
      "Epoch 28 Batch 50 Loss 0.7796 Accuracy 0.4287\n",
      "Epoch 28 Batch 100 Loss 0.7936 Accuracy 0.4253\n",
      "Epoch 28 Batch 150 Loss 0.8107 Accuracy 0.4229\n",
      "Epoch 28 Loss 0.8184 Accuracy 0.4217\n",
      "Time taken for 1 epoch: 14.986507415771484 secs\n",
      "\n",
      "Epoch 29 Batch 0 Loss 0.7426 Accuracy 0.4293\n",
      "Epoch 29 Batch 50 Loss 0.7789 Accuracy 0.4276\n",
      "Epoch 29 Batch 100 Loss 0.7980 Accuracy 0.4247\n",
      "Epoch 29 Batch 150 Loss 0.8109 Accuracy 0.4224\n",
      "Epoch 29 Loss 0.8198 Accuracy 0.4215\n",
      "Time taken for 1 epoch: 15.360166311264038 secs\n",
      "\n",
      "Epoch 30 Batch 0 Loss 0.8030 Accuracy 0.4365\n",
      "Epoch 30 Batch 50 Loss 0.7821 Accuracy 0.4276\n",
      "Epoch 30 Batch 100 Loss 0.7936 Accuracy 0.4250\n",
      "Epoch 30 Batch 150 Loss 0.8083 Accuracy 0.4232\n",
      "Saving checkpoint for epoch 30 at ./checkpoints/train\\ckpt-50\n",
      "Epoch 30 Loss 0.8175 Accuracy 0.4218\n",
      "Time taken for 1 epoch: 16.117536544799805 secs\n",
      "\n",
      "Epoch 31 Batch 0 Loss 0.7838 Accuracy 0.4149\n",
      "Epoch 31 Batch 50 Loss 0.7821 Accuracy 0.4256\n",
      "Epoch 31 Batch 100 Loss 0.7951 Accuracy 0.4249\n",
      "Epoch 31 Batch 150 Loss 0.8095 Accuracy 0.4230\n",
      "Epoch 31 Loss 0.8163 Accuracy 0.4217\n",
      "Time taken for 1 epoch: 15.071597337722778 secs\n",
      "\n",
      "Epoch 32 Batch 0 Loss 0.7921 Accuracy 0.4176\n",
      "Epoch 32 Batch 50 Loss 0.7727 Accuracy 0.4262\n",
      "Epoch 32 Batch 100 Loss 0.7900 Accuracy 0.4250\n",
      "Epoch 32 Batch 150 Loss 0.8054 Accuracy 0.4234\n",
      "Epoch 32 Loss 0.8149 Accuracy 0.4224\n",
      "Time taken for 1 epoch: 14.99433445930481 secs\n",
      "\n",
      "Epoch 33 Batch 0 Loss 0.8074 Accuracy 0.4295\n",
      "Epoch 33 Batch 50 Loss 0.7718 Accuracy 0.4258\n",
      "Epoch 33 Batch 100 Loss 0.7905 Accuracy 0.4242\n",
      "Epoch 33 Batch 150 Loss 0.8055 Accuracy 0.4228\n",
      "Epoch 33 Loss 0.8138 Accuracy 0.4222\n",
      "Time taken for 1 epoch: 15.231128454208374 secs\n",
      "\n",
      "Epoch 34 Batch 0 Loss 0.7184 Accuracy 0.4169\n",
      "Epoch 34 Batch 50 Loss 0.7797 Accuracy 0.4254\n",
      "Epoch 34 Batch 100 Loss 0.7904 Accuracy 0.4244\n",
      "Epoch 34 Batch 150 Loss 0.8076 Accuracy 0.4229\n",
      "Epoch 34 Loss 0.8148 Accuracy 0.4219\n",
      "Time taken for 1 epoch: 15.546088695526123 secs\n",
      "\n",
      "Epoch 35 Batch 0 Loss 0.7558 Accuracy 0.4229\n",
      "Epoch 35 Batch 50 Loss 0.7716 Accuracy 0.4278\n",
      "Epoch 35 Batch 100 Loss 0.7899 Accuracy 0.4253\n",
      "Epoch 35 Batch 150 Loss 0.8044 Accuracy 0.4230\n",
      "Saving checkpoint for epoch 35 at ./checkpoints/train\\ckpt-51\n",
      "Epoch 35 Loss 0.8133 Accuracy 0.4226\n",
      "Time taken for 1 epoch: 15.330840587615967 secs\n",
      "\n",
      "Epoch 36 Batch 0 Loss 0.7951 Accuracy 0.4288\n",
      "Epoch 36 Batch 50 Loss 0.7691 Accuracy 0.4254\n",
      "Epoch 36 Batch 100 Loss 0.7874 Accuracy 0.4250\n",
      "Epoch 36 Batch 150 Loss 0.8025 Accuracy 0.4236\n",
      "Epoch 36 Loss 0.8094 Accuracy 0.4227\n",
      "Time taken for 1 epoch: 15.696202278137207 secs\n",
      "\n",
      "Epoch 37 Batch 0 Loss 0.7059 Accuracy 0.4158\n",
      "Epoch 37 Batch 50 Loss 0.7717 Accuracy 0.4283\n",
      "Epoch 37 Batch 100 Loss 0.7871 Accuracy 0.4267\n",
      "Epoch 37 Batch 150 Loss 0.8023 Accuracy 0.4240\n",
      "Epoch 37 Loss 0.8087 Accuracy 0.4227\n",
      "Time taken for 1 epoch: 15.058085680007935 secs\n",
      "\n",
      "Epoch 38 Batch 0 Loss 0.7885 Accuracy 0.4287\n",
      "Epoch 38 Batch 50 Loss 0.7706 Accuracy 0.4282\n",
      "Epoch 38 Batch 100 Loss 0.7856 Accuracy 0.4264\n",
      "Epoch 38 Batch 150 Loss 0.8011 Accuracy 0.4238\n",
      "Epoch 38 Loss 0.8096 Accuracy 0.4224\n",
      "Time taken for 1 epoch: 15.425407409667969 secs\n",
      "\n",
      "Epoch 39 Batch 0 Loss 0.7499 Accuracy 0.4345\n",
      "Epoch 39 Batch 50 Loss 0.7728 Accuracy 0.4283\n",
      "Epoch 39 Batch 100 Loss 0.7856 Accuracy 0.4269\n",
      "Epoch 39 Batch 150 Loss 0.7998 Accuracy 0.4249\n",
      "Epoch 39 Loss 0.8073 Accuracy 0.4229\n",
      "Time taken for 1 epoch: 15.13164210319519 secs\n",
      "\n",
      "Epoch 40 Batch 0 Loss 0.7705 Accuracy 0.4475\n",
      "Epoch 40 Batch 50 Loss 0.7632 Accuracy 0.4278\n",
      "Epoch 40 Batch 100 Loss 0.7789 Accuracy 0.4263\n",
      "Epoch 40 Batch 150 Loss 0.7951 Accuracy 0.4248\n",
      "Saving checkpoint for epoch 40 at ./checkpoints/train\\ckpt-52\n",
      "Epoch 40 Loss 0.8052 Accuracy 0.4235\n",
      "Time taken for 1 epoch: 16.23930549621582 secs\n",
      "\n",
      "Epoch 41 Batch 0 Loss 0.7443 Accuracy 0.4297\n",
      "Epoch 41 Batch 50 Loss 0.7660 Accuracy 0.4295\n",
      "Epoch 41 Batch 100 Loss 0.7843 Accuracy 0.4274\n",
      "Epoch 41 Batch 150 Loss 0.7991 Accuracy 0.4250\n",
      "Epoch 41 Loss 0.8060 Accuracy 0.4232\n",
      "Time taken for 1 epoch: 15.404311180114746 secs\n",
      "\n",
      "Epoch 42 Batch 0 Loss 0.7655 Accuracy 0.4490\n",
      "Epoch 42 Batch 50 Loss 0.7645 Accuracy 0.4289\n",
      "Epoch 42 Batch 100 Loss 0.7813 Accuracy 0.4266\n",
      "Epoch 42 Batch 150 Loss 0.7974 Accuracy 0.4244\n",
      "Epoch 42 Loss 0.8037 Accuracy 0.4235\n",
      "Time taken for 1 epoch: 15.958311080932617 secs\n",
      "\n",
      "Epoch 43 Batch 0 Loss 0.7198 Accuracy 0.4255\n",
      "Epoch 43 Batch 50 Loss 0.7690 Accuracy 0.4311\n",
      "Epoch 43 Batch 100 Loss 0.7832 Accuracy 0.4271\n",
      "Epoch 43 Batch 150 Loss 0.7960 Accuracy 0.4250\n",
      "Epoch 43 Loss 0.8032 Accuracy 0.4239\n",
      "Time taken for 1 epoch: 15.06324052810669 secs\n",
      "\n",
      "Epoch 44 Batch 0 Loss 0.7767 Accuracy 0.4284\n",
      "Epoch 44 Batch 50 Loss 0.7654 Accuracy 0.4254\n",
      "Epoch 44 Batch 100 Loss 0.7822 Accuracy 0.4254\n",
      "Epoch 44 Batch 150 Loss 0.7965 Accuracy 0.4241\n",
      "Epoch 44 Loss 0.8029 Accuracy 0.4234\n",
      "Time taken for 1 epoch: 14.60228681564331 secs\n",
      "\n",
      "Epoch 45 Batch 0 Loss 0.7418 Accuracy 0.4363\n",
      "Epoch 45 Batch 50 Loss 0.7653 Accuracy 0.4278\n",
      "Epoch 45 Batch 100 Loss 0.7774 Accuracy 0.4261\n",
      "Epoch 45 Batch 150 Loss 0.7917 Accuracy 0.4252\n",
      "Saving checkpoint for epoch 45 at ./checkpoints/train\\ckpt-53\n",
      "Epoch 45 Loss 0.8002 Accuracy 0.4239\n",
      "Time taken for 1 epoch: 15.141873598098755 secs\n",
      "\n",
      "Epoch 46 Batch 0 Loss 0.7936 Accuracy 0.4396\n",
      "Epoch 46 Batch 50 Loss 0.7655 Accuracy 0.4295\n",
      "Epoch 46 Batch 100 Loss 0.7789 Accuracy 0.4276\n",
      "Epoch 46 Batch 150 Loss 0.7917 Accuracy 0.4252\n",
      "Epoch 46 Loss 0.7995 Accuracy 0.4241\n",
      "Time taken for 1 epoch: 14.691538095474243 secs\n",
      "\n",
      "Epoch 47 Batch 0 Loss 0.7484 Accuracy 0.4248\n",
      "Epoch 47 Batch 50 Loss 0.7621 Accuracy 0.4285\n",
      "Epoch 47 Batch 100 Loss 0.7772 Accuracy 0.4273\n",
      "Epoch 47 Batch 150 Loss 0.7918 Accuracy 0.4244\n",
      "Epoch 47 Loss 0.7995 Accuracy 0.4241\n",
      "Time taken for 1 epoch: 14.641122102737427 secs\n",
      "\n",
      "Epoch 48 Batch 0 Loss 0.7117 Accuracy 0.4237\n",
      "Epoch 48 Batch 50 Loss 0.7597 Accuracy 0.4288\n",
      "Epoch 48 Batch 100 Loss 0.7770 Accuracy 0.4276\n",
      "Epoch 48 Batch 150 Loss 0.7900 Accuracy 0.4258\n",
      "Epoch 48 Loss 0.7974 Accuracy 0.4243\n",
      "Time taken for 1 epoch: 15.029536724090576 secs\n",
      "\n",
      "Epoch 49 Batch 0 Loss 0.7067 Accuracy 0.4152\n",
      "Epoch 49 Batch 50 Loss 0.7606 Accuracy 0.4301\n",
      "Epoch 49 Batch 100 Loss 0.7778 Accuracy 0.4277\n",
      "Epoch 49 Batch 150 Loss 0.7902 Accuracy 0.4254\n",
      "Epoch 49 Loss 0.7980 Accuracy 0.4244\n",
      "Time taken for 1 epoch: 14.591454982757568 secs\n",
      "\n",
      "Epoch 50 Batch 0 Loss 0.7164 Accuracy 0.4412\n",
      "Epoch 50 Batch 50 Loss 0.7577 Accuracy 0.4286\n",
      "Epoch 50 Batch 100 Loss 0.7745 Accuracy 0.4259\n",
      "Epoch 50 Batch 150 Loss 0.7918 Accuracy 0.4244\n",
      "Saving checkpoint for epoch 50 at ./checkpoints/train\\ckpt-54\n",
      "Epoch 50 Loss 0.7971 Accuracy 0.4242\n",
      "Time taken for 1 epoch: 14.952571868896484 secs\n",
      "\n",
      "Epoch 51 Batch 0 Loss 0.7474 Accuracy 0.4404\n",
      "Epoch 51 Batch 50 Loss 0.7531 Accuracy 0.4290\n",
      "Epoch 51 Batch 100 Loss 0.7701 Accuracy 0.4282\n",
      "Epoch 51 Batch 150 Loss 0.7862 Accuracy 0.4259\n",
      "Epoch 51 Loss 0.7929 Accuracy 0.4248\n",
      "Time taken for 1 epoch: 14.72300386428833 secs\n",
      "\n",
      "Epoch 52 Batch 0 Loss 0.7521 Accuracy 0.4172\n",
      "Epoch 52 Batch 50 Loss 0.7558 Accuracy 0.4297\n",
      "Epoch 52 Batch 100 Loss 0.7734 Accuracy 0.4274\n",
      "Epoch 52 Batch 150 Loss 0.7868 Accuracy 0.4249\n",
      "Epoch 52 Loss 0.7948 Accuracy 0.4247\n",
      "Time taken for 1 epoch: 14.993297100067139 secs\n",
      "\n",
      "Epoch 53 Batch 0 Loss 0.7510 Accuracy 0.4210\n",
      "Epoch 53 Batch 50 Loss 0.7581 Accuracy 0.4301\n",
      "Epoch 53 Batch 100 Loss 0.7726 Accuracy 0.4289\n",
      "Epoch 53 Batch 150 Loss 0.7871 Accuracy 0.4259\n",
      "Epoch 53 Loss 0.7931 Accuracy 0.4246\n",
      "Time taken for 1 epoch: 14.633291006088257 secs\n",
      "\n",
      "Epoch 54 Batch 0 Loss 0.7998 Accuracy 0.4379\n",
      "Epoch 54 Batch 50 Loss 0.7544 Accuracy 0.4276\n",
      "Epoch 54 Batch 100 Loss 0.7669 Accuracy 0.4274\n",
      "Epoch 54 Batch 150 Loss 0.7843 Accuracy 0.4263\n",
      "Epoch 54 Loss 0.7910 Accuracy 0.4256\n",
      "Time taken for 1 epoch: 14.728656530380249 secs\n",
      "\n",
      "Epoch 55 Batch 0 Loss 0.7894 Accuracy 0.4366\n",
      "Epoch 55 Batch 50 Loss 0.7605 Accuracy 0.4282\n",
      "Epoch 55 Batch 100 Loss 0.7738 Accuracy 0.4279\n",
      "Epoch 55 Batch 150 Loss 0.7858 Accuracy 0.4263\n",
      "Saving checkpoint for epoch 55 at ./checkpoints/train\\ckpt-55\n",
      "Epoch 55 Loss 0.7916 Accuracy 0.4252\n",
      "Time taken for 1 epoch: 15.331567525863647 secs\n",
      "\n",
      "Epoch 56 Batch 0 Loss 0.7311 Accuracy 0.4150\n",
      "Epoch 56 Batch 50 Loss 0.7538 Accuracy 0.4348\n",
      "Epoch 56 Batch 100 Loss 0.7679 Accuracy 0.4304\n",
      "Epoch 56 Batch 150 Loss 0.7825 Accuracy 0.4272\n",
      "Epoch 56 Loss 0.7877 Accuracy 0.4257\n",
      "Time taken for 1 epoch: 14.707550764083862 secs\n",
      "\n",
      "Epoch 57 Batch 0 Loss 0.7621 Accuracy 0.4319\n",
      "Epoch 57 Batch 50 Loss 0.7568 Accuracy 0.4304\n",
      "Epoch 57 Batch 100 Loss 0.7714 Accuracy 0.4285\n",
      "Epoch 57 Batch 150 Loss 0.7831 Accuracy 0.4265\n",
      "Epoch 57 Loss 0.7898 Accuracy 0.4253\n",
      "Time taken for 1 epoch: 15.050338506698608 secs\n",
      "\n",
      "Epoch 58 Batch 0 Loss 0.6664 Accuracy 0.4446\n",
      "Epoch 58 Batch 50 Loss 0.7529 Accuracy 0.4306\n",
      "Epoch 58 Batch 100 Loss 0.7677 Accuracy 0.4275\n",
      "Epoch 58 Batch 150 Loss 0.7816 Accuracy 0.4263\n",
      "Epoch 58 Loss 0.7890 Accuracy 0.4252\n",
      "Time taken for 1 epoch: 14.65096378326416 secs\n",
      "\n",
      "Epoch 59 Batch 0 Loss 0.7351 Accuracy 0.4440\n",
      "Epoch 59 Batch 50 Loss 0.7544 Accuracy 0.4317\n",
      "Epoch 59 Batch 100 Loss 0.7658 Accuracy 0.4283\n",
      "Epoch 59 Batch 150 Loss 0.7771 Accuracy 0.4271\n",
      "Epoch 59 Loss 0.7868 Accuracy 0.4256\n",
      "Time taken for 1 epoch: 15.05717158317566 secs\n",
      "\n",
      "Epoch 60 Batch 0 Loss 0.6811 Accuracy 0.4483\n",
      "Epoch 60 Batch 50 Loss 0.7553 Accuracy 0.4319\n",
      "Epoch 60 Batch 100 Loss 0.7659 Accuracy 0.4288\n",
      "Epoch 60 Batch 150 Loss 0.7792 Accuracy 0.4272\n",
      "Saving checkpoint for epoch 60 at ./checkpoints/train\\ckpt-56\n",
      "Epoch 60 Loss 0.7852 Accuracy 0.4258\n",
      "Time taken for 1 epoch: 15.079000234603882 secs\n",
      "\n",
      "Epoch 61 Batch 0 Loss 0.7273 Accuracy 0.4250\n",
      "Epoch 61 Batch 50 Loss 0.7566 Accuracy 0.4308\n",
      "Epoch 61 Batch 100 Loss 0.7685 Accuracy 0.4282\n",
      "Epoch 61 Batch 150 Loss 0.7821 Accuracy 0.4264\n",
      "Epoch 61 Loss 0.7876 Accuracy 0.4259\n",
      "Time taken for 1 epoch: 14.728782176971436 secs\n",
      "\n",
      "Epoch 62 Batch 0 Loss 0.7154 Accuracy 0.4194\n",
      "Epoch 62 Batch 50 Loss 0.7532 Accuracy 0.4299\n",
      "Epoch 62 Batch 100 Loss 0.7618 Accuracy 0.4289\n",
      "Epoch 62 Batch 150 Loss 0.7759 Accuracy 0.4270\n",
      "Epoch 62 Loss 0.7839 Accuracy 0.4260\n",
      "Time taken for 1 epoch: 14.643975257873535 secs\n",
      "\n",
      "Epoch 63 Batch 0 Loss 0.7161 Accuracy 0.4462\n",
      "Epoch 63 Batch 50 Loss 0.7460 Accuracy 0.4304\n",
      "Epoch 63 Batch 100 Loss 0.7633 Accuracy 0.4286\n",
      "Epoch 63 Batch 150 Loss 0.7782 Accuracy 0.4268\n",
      "Epoch 63 Loss 0.7862 Accuracy 0.4257\n",
      "Time taken for 1 epoch: 14.668251752853394 secs\n",
      "\n",
      "Epoch 64 Batch 0 Loss 0.7474 Accuracy 0.4226\n",
      "Epoch 64 Batch 50 Loss 0.7426 Accuracy 0.4342\n",
      "Epoch 64 Batch 100 Loss 0.7540 Accuracy 0.4304\n",
      "Epoch 64 Batch 150 Loss 0.7701 Accuracy 0.4279\n",
      "Epoch 64 Loss 0.7785 Accuracy 0.4266\n",
      "Time taken for 1 epoch: 14.695435285568237 secs\n",
      "\n",
      "Epoch 65 Batch 0 Loss 0.7710 Accuracy 0.4300\n",
      "Epoch 65 Batch 50 Loss 0.7486 Accuracy 0.4302\n",
      "Epoch 65 Batch 100 Loss 0.7633 Accuracy 0.4292\n",
      "Epoch 65 Batch 150 Loss 0.7741 Accuracy 0.4275\n",
      "Saving checkpoint for epoch 65 at ./checkpoints/train\\ckpt-57\n",
      "Epoch 65 Loss 0.7811 Accuracy 0.4261\n",
      "Time taken for 1 epoch: 15.310946226119995 secs\n",
      "\n",
      "Epoch 66 Batch 0 Loss 0.7076 Accuracy 0.4546\n",
      "Epoch 66 Batch 50 Loss 0.7469 Accuracy 0.4317\n",
      "Epoch 66 Batch 100 Loss 0.7627 Accuracy 0.4293\n",
      "Epoch 66 Batch 150 Loss 0.7754 Accuracy 0.4273\n",
      "Epoch 66 Loss 0.7824 Accuracy 0.4263\n",
      "Time taken for 1 epoch: 15.11076283454895 secs\n",
      "\n",
      "Epoch 67 Batch 0 Loss 0.7333 Accuracy 0.4260\n",
      "Epoch 67 Batch 50 Loss 0.7464 Accuracy 0.4302\n",
      "Epoch 67 Batch 100 Loss 0.7594 Accuracy 0.4293\n",
      "Epoch 67 Batch 150 Loss 0.7743 Accuracy 0.4274\n",
      "Epoch 67 Loss 0.7809 Accuracy 0.4263\n",
      "Time taken for 1 epoch: 14.662810325622559 secs\n",
      "\n",
      "Epoch 68 Batch 0 Loss 0.7048 Accuracy 0.4339\n",
      "Epoch 68 Batch 50 Loss 0.7463 Accuracy 0.4289\n",
      "Epoch 68 Batch 100 Loss 0.7616 Accuracy 0.4281\n",
      "Epoch 68 Batch 150 Loss 0.7757 Accuracy 0.4269\n",
      "Epoch 68 Loss 0.7820 Accuracy 0.4263\n",
      "Time taken for 1 epoch: 14.636082410812378 secs\n",
      "\n",
      "Epoch 69 Batch 0 Loss 0.7396 Accuracy 0.4459\n",
      "Epoch 69 Batch 50 Loss 0.7401 Accuracy 0.4336\n",
      "Epoch 69 Batch 100 Loss 0.7584 Accuracy 0.4302\n",
      "Epoch 69 Batch 150 Loss 0.7713 Accuracy 0.4282\n",
      "Epoch 69 Loss 0.7782 Accuracy 0.4272\n",
      "Time taken for 1 epoch: 14.99370288848877 secs\n",
      "\n",
      "Epoch 70 Batch 0 Loss 0.7267 Accuracy 0.4353\n",
      "Epoch 70 Batch 50 Loss 0.7470 Accuracy 0.4337\n",
      "Epoch 70 Batch 100 Loss 0.7580 Accuracy 0.4302\n",
      "Epoch 70 Batch 150 Loss 0.7697 Accuracy 0.4280\n",
      "Saving checkpoint for epoch 70 at ./checkpoints/train\\ckpt-58\n",
      "Epoch 70 Loss 0.7766 Accuracy 0.4269\n",
      "Time taken for 1 epoch: 15.28187894821167 secs\n",
      "\n",
      "Epoch 71 Batch 0 Loss 0.7472 Accuracy 0.4206\n",
      "Epoch 71 Batch 50 Loss 0.7394 Accuracy 0.4309\n",
      "Epoch 71 Batch 100 Loss 0.7558 Accuracy 0.4297\n",
      "Epoch 71 Batch 150 Loss 0.7689 Accuracy 0.4277\n",
      "Epoch 71 Loss 0.7760 Accuracy 0.4270\n",
      "Time taken for 1 epoch: 15.13073468208313 secs\n",
      "\n",
      "Epoch 72 Batch 0 Loss 0.7384 Accuracy 0.4476\n",
      "Epoch 72 Batch 50 Loss 0.7361 Accuracy 0.4313\n",
      "Epoch 72 Batch 100 Loss 0.7528 Accuracy 0.4298\n",
      "Epoch 72 Batch 150 Loss 0.7677 Accuracy 0.4280\n",
      "Epoch 72 Loss 0.7744 Accuracy 0.4271\n",
      "Time taken for 1 epoch: 14.651768922805786 secs\n",
      "\n",
      "Epoch 73 Batch 0 Loss 0.7049 Accuracy 0.4312\n",
      "Epoch 73 Batch 50 Loss 0.7385 Accuracy 0.4310\n",
      "Epoch 73 Batch 100 Loss 0.7514 Accuracy 0.4303\n",
      "Epoch 73 Batch 150 Loss 0.7665 Accuracy 0.4284\n",
      "Epoch 73 Loss 0.7760 Accuracy 0.4273\n",
      "Time taken for 1 epoch: 15.050578117370605 secs\n",
      "\n",
      "Epoch 74 Batch 0 Loss 0.7301 Accuracy 0.4441\n",
      "Epoch 74 Batch 50 Loss 0.7424 Accuracy 0.4328\n",
      "Epoch 74 Batch 100 Loss 0.7532 Accuracy 0.4292\n",
      "Epoch 74 Batch 150 Loss 0.7649 Accuracy 0.4276\n",
      "Epoch 74 Loss 0.7740 Accuracy 0.4271\n",
      "Time taken for 1 epoch: 14.63994550704956 secs\n",
      "\n",
      "Epoch 75 Batch 0 Loss 0.7244 Accuracy 0.4165\n",
      "Epoch 75 Batch 50 Loss 0.7414 Accuracy 0.4310\n",
      "Epoch 75 Batch 100 Loss 0.7533 Accuracy 0.4288\n",
      "Epoch 75 Batch 150 Loss 0.7658 Accuracy 0.4281\n",
      "Saving checkpoint for epoch 75 at ./checkpoints/train\\ckpt-59\n",
      "Epoch 75 Loss 0.7737 Accuracy 0.4274\n",
      "Time taken for 1 epoch: 15.321217060089111 secs\n",
      "\n",
      "Epoch 76 Batch 0 Loss 0.7070 Accuracy 0.4385\n",
      "Epoch 76 Batch 50 Loss 0.7349 Accuracy 0.4328\n",
      "Epoch 76 Batch 100 Loss 0.7502 Accuracy 0.4307\n",
      "Epoch 76 Batch 150 Loss 0.7636 Accuracy 0.4288\n",
      "Epoch 76 Loss 0.7715 Accuracy 0.4276\n",
      "Time taken for 1 epoch: 15.477123498916626 secs\n",
      "\n",
      "Epoch 77 Batch 0 Loss 0.6938 Accuracy 0.4258\n",
      "Epoch 77 Batch 50 Loss 0.7370 Accuracy 0.4306\n",
      "Epoch 77 Batch 100 Loss 0.7463 Accuracy 0.4294\n",
      "Epoch 77 Batch 150 Loss 0.7641 Accuracy 0.4280\n",
      "Epoch 77 Loss 0.7702 Accuracy 0.4274\n",
      "Time taken for 1 epoch: 15.03258752822876 secs\n",
      "\n",
      "Epoch 78 Batch 0 Loss 0.7037 Accuracy 0.4474\n",
      "Epoch 78 Batch 50 Loss 0.7329 Accuracy 0.4318\n",
      "Epoch 78 Batch 100 Loss 0.7478 Accuracy 0.4306\n",
      "Epoch 78 Batch 150 Loss 0.7616 Accuracy 0.4287\n",
      "Epoch 78 Loss 0.7689 Accuracy 0.4277\n",
      "Time taken for 1 epoch: 14.607284307479858 secs\n",
      "\n",
      "Epoch 79 Batch 0 Loss 0.6955 Accuracy 0.4481\n",
      "Epoch 79 Batch 50 Loss 0.7336 Accuracy 0.4327\n",
      "Epoch 79 Batch 100 Loss 0.7482 Accuracy 0.4313\n",
      "Epoch 79 Batch 150 Loss 0.7605 Accuracy 0.4290\n",
      "Epoch 79 Loss 0.7695 Accuracy 0.4284\n",
      "Time taken for 1 epoch: 14.648972034454346 secs\n",
      "\n",
      "Epoch 80 Batch 0 Loss 0.7410 Accuracy 0.4125\n",
      "Epoch 80 Batch 50 Loss 0.7319 Accuracy 0.4332\n",
      "Epoch 80 Batch 100 Loss 0.7462 Accuracy 0.4316\n",
      "Epoch 80 Batch 150 Loss 0.7579 Accuracy 0.4298\n",
      "Saving checkpoint for epoch 80 at ./checkpoints/train\\ckpt-60\n",
      "Epoch 80 Loss 0.7638 Accuracy 0.4289\n",
      "Time taken for 1 epoch: 15.310564279556274 secs\n",
      "\n",
      "Epoch 81 Batch 0 Loss 0.7476 Accuracy 0.4258\n",
      "Epoch 81 Batch 50 Loss 0.7319 Accuracy 0.4338\n",
      "Epoch 81 Batch 100 Loss 0.7443 Accuracy 0.4318\n",
      "Epoch 81 Batch 150 Loss 0.7598 Accuracy 0.4295\n",
      "Epoch 81 Loss 0.7651 Accuracy 0.4287\n",
      "Time taken for 1 epoch: 14.704885482788086 secs\n",
      "\n",
      "Epoch 82 Batch 0 Loss 0.6944 Accuracy 0.4294\n",
      "Epoch 82 Batch 50 Loss 0.7369 Accuracy 0.4318\n",
      "Epoch 82 Batch 100 Loss 0.7460 Accuracy 0.4313\n",
      "Epoch 82 Batch 150 Loss 0.7609 Accuracy 0.4290\n",
      "Epoch 82 Loss 0.7671 Accuracy 0.4281\n",
      "Time taken for 1 epoch: 14.668033361434937 secs\n",
      "\n",
      "Epoch 83 Batch 0 Loss 0.6909 Accuracy 0.4343\n",
      "Epoch 83 Batch 50 Loss 0.7307 Accuracy 0.4342\n",
      "Epoch 83 Batch 100 Loss 0.7438 Accuracy 0.4316\n",
      "Epoch 83 Batch 150 Loss 0.7578 Accuracy 0.4295\n",
      "Epoch 83 Loss 0.7646 Accuracy 0.4288\n",
      "Time taken for 1 epoch: 14.629202604293823 secs\n",
      "\n",
      "Epoch 84 Batch 0 Loss 0.6685 Accuracy 0.4232\n",
      "Epoch 84 Batch 50 Loss 0.7325 Accuracy 0.4331\n",
      "Epoch 84 Batch 100 Loss 0.7437 Accuracy 0.4314\n",
      "Epoch 84 Batch 150 Loss 0.7563 Accuracy 0.4299\n",
      "Epoch 84 Loss 0.7648 Accuracy 0.4286\n",
      "Time taken for 1 epoch: 14.611532211303711 secs\n",
      "\n",
      "Epoch 85 Batch 0 Loss 0.7272 Accuracy 0.4440\n",
      "Epoch 85 Batch 50 Loss 0.7297 Accuracy 0.4330\n",
      "Epoch 85 Batch 100 Loss 0.7441 Accuracy 0.4319\n",
      "Epoch 85 Batch 150 Loss 0.7574 Accuracy 0.4291\n",
      "Saving checkpoint for epoch 85 at ./checkpoints/train\\ckpt-61\n",
      "Epoch 85 Loss 0.7645 Accuracy 0.4286\n",
      "Time taken for 1 epoch: 16.048102617263794 secs\n",
      "\n",
      "Epoch 86 Batch 0 Loss 0.6948 Accuracy 0.4499\n",
      "Epoch 86 Batch 50 Loss 0.7279 Accuracy 0.4315\n",
      "Epoch 86 Batch 100 Loss 0.7443 Accuracy 0.4316\n",
      "Epoch 86 Batch 150 Loss 0.7586 Accuracy 0.4299\n",
      "Epoch 86 Loss 0.7633 Accuracy 0.4287\n",
      "Time taken for 1 epoch: 14.670414924621582 secs\n",
      "\n",
      "Epoch 87 Batch 0 Loss 0.7432 Accuracy 0.4422\n",
      "Epoch 87 Batch 50 Loss 0.7281 Accuracy 0.4329\n",
      "Epoch 87 Batch 100 Loss 0.7415 Accuracy 0.4315\n",
      "Epoch 87 Batch 150 Loss 0.7569 Accuracy 0.4297\n",
      "Epoch 87 Loss 0.7630 Accuracy 0.4287\n",
      "Time taken for 1 epoch: 14.733113527297974 secs\n",
      "\n",
      "Epoch 88 Batch 0 Loss 0.7345 Accuracy 0.4351\n",
      "Epoch 88 Batch 50 Loss 0.7297 Accuracy 0.4331\n",
      "Epoch 88 Batch 100 Loss 0.7428 Accuracy 0.4317\n",
      "Epoch 88 Batch 150 Loss 0.7545 Accuracy 0.4299\n",
      "Epoch 88 Loss 0.7608 Accuracy 0.4290\n",
      "Time taken for 1 epoch: 16.203716039657593 secs\n",
      "\n",
      "Epoch 89 Batch 0 Loss 0.6951 Accuracy 0.4280\n",
      "Epoch 89 Batch 50 Loss 0.7261 Accuracy 0.4348\n",
      "Epoch 89 Batch 100 Loss 0.7425 Accuracy 0.4319\n",
      "Epoch 89 Batch 150 Loss 0.7534 Accuracy 0.4299\n",
      "Epoch 89 Loss 0.7604 Accuracy 0.4287\n",
      "Time taken for 1 epoch: 16.17409634590149 secs\n",
      "\n",
      "Epoch 90 Batch 0 Loss 0.7113 Accuracy 0.4390\n",
      "Epoch 90 Batch 50 Loss 0.7235 Accuracy 0.4342\n",
      "Epoch 90 Batch 100 Loss 0.7392 Accuracy 0.4332\n",
      "Epoch 90 Batch 150 Loss 0.7515 Accuracy 0.4313\n",
      "Saving checkpoint for epoch 90 at ./checkpoints/train\\ckpt-62\n",
      "Epoch 90 Loss 0.7594 Accuracy 0.4294\n",
      "Time taken for 1 epoch: 15.981074571609497 secs\n",
      "\n",
      "Epoch 91 Batch 0 Loss 0.6979 Accuracy 0.4549\n",
      "Epoch 91 Batch 50 Loss 0.7296 Accuracy 0.4328\n",
      "Epoch 91 Batch 100 Loss 0.7386 Accuracy 0.4320\n",
      "Epoch 91 Batch 150 Loss 0.7520 Accuracy 0.4309\n",
      "Epoch 91 Loss 0.7580 Accuracy 0.4296\n",
      "Time taken for 1 epoch: 14.783599376678467 secs\n",
      "\n",
      "Epoch 92 Batch 0 Loss 0.7430 Accuracy 0.4088\n",
      "Epoch 92 Batch 50 Loss 0.7290 Accuracy 0.4366\n",
      "Epoch 92 Batch 100 Loss 0.7419 Accuracy 0.4343\n",
      "Epoch 92 Batch 150 Loss 0.7543 Accuracy 0.4313\n",
      "Epoch 92 Loss 0.7599 Accuracy 0.4294\n",
      "Time taken for 1 epoch: 15.79190182685852 secs\n",
      "\n",
      "Epoch 93 Batch 0 Loss 0.7200 Accuracy 0.4332\n",
      "Epoch 93 Batch 50 Loss 0.7249 Accuracy 0.4348\n",
      "Epoch 93 Batch 100 Loss 0.7351 Accuracy 0.4317\n",
      "Epoch 93 Batch 150 Loss 0.7501 Accuracy 0.4304\n",
      "Epoch 93 Loss 0.7564 Accuracy 0.4300\n",
      "Time taken for 1 epoch: 15.31324028968811 secs\n",
      "\n",
      "Epoch 94 Batch 0 Loss 0.6895 Accuracy 0.4359\n",
      "Epoch 94 Batch 50 Loss 0.7291 Accuracy 0.4332\n",
      "Epoch 94 Batch 100 Loss 0.7381 Accuracy 0.4326\n",
      "Epoch 94 Batch 150 Loss 0.7504 Accuracy 0.4307\n",
      "Epoch 94 Loss 0.7573 Accuracy 0.4298\n",
      "Time taken for 1 epoch: 14.797984600067139 secs\n",
      "\n",
      "Epoch 95 Batch 0 Loss 0.6813 Accuracy 0.4321\n",
      "Epoch 95 Batch 50 Loss 0.7244 Accuracy 0.4342\n",
      "Epoch 95 Batch 100 Loss 0.7359 Accuracy 0.4320\n",
      "Epoch 95 Batch 150 Loss 0.7491 Accuracy 0.4304\n",
      "Saving checkpoint for epoch 95 at ./checkpoints/train\\ckpt-63\n",
      "Epoch 95 Loss 0.7553 Accuracy 0.4299\n",
      "Time taken for 1 epoch: 15.201365232467651 secs\n",
      "\n",
      "Epoch 96 Batch 0 Loss 0.6980 Accuracy 0.4286\n",
      "Epoch 96 Batch 50 Loss 0.7212 Accuracy 0.4343\n",
      "Epoch 96 Batch 100 Loss 0.7366 Accuracy 0.4318\n",
      "Epoch 96 Batch 150 Loss 0.7476 Accuracy 0.4303\n",
      "Epoch 96 Loss 0.7552 Accuracy 0.4296\n",
      "Time taken for 1 epoch: 14.95457935333252 secs\n",
      "\n",
      "Epoch 97 Batch 0 Loss 0.6840 Accuracy 0.4225\n",
      "Epoch 97 Batch 50 Loss 0.7183 Accuracy 0.4348\n",
      "Epoch 97 Batch 100 Loss 0.7350 Accuracy 0.4319\n",
      "Epoch 97 Batch 150 Loss 0.7457 Accuracy 0.4305\n",
      "Epoch 97 Loss 0.7521 Accuracy 0.4299\n",
      "Time taken for 1 epoch: 15.438824892044067 secs\n",
      "\n",
      "Epoch 98 Batch 0 Loss 0.7090 Accuracy 0.4466\n",
      "Epoch 98 Batch 50 Loss 0.7205 Accuracy 0.4376\n",
      "Epoch 98 Batch 100 Loss 0.7338 Accuracy 0.4333\n",
      "Epoch 98 Batch 150 Loss 0.7472 Accuracy 0.4310\n",
      "Epoch 98 Loss 0.7533 Accuracy 0.4301\n",
      "Time taken for 1 epoch: 16.165685892105103 secs\n",
      "\n",
      "Epoch 99 Batch 0 Loss 0.7399 Accuracy 0.4349\n",
      "Epoch 99 Batch 50 Loss 0.7174 Accuracy 0.4355\n",
      "Epoch 99 Batch 100 Loss 0.7309 Accuracy 0.4331\n",
      "Epoch 99 Batch 150 Loss 0.7439 Accuracy 0.4313\n",
      "Epoch 99 Loss 0.7506 Accuracy 0.4303\n",
      "Time taken for 1 epoch: 15.98999810218811 secs\n",
      "\n",
      "Epoch 100 Batch 0 Loss 0.6723 Accuracy 0.4353\n",
      "Epoch 100 Batch 50 Loss 0.7218 Accuracy 0.4360\n",
      "Epoch 100 Batch 100 Loss 0.7325 Accuracy 0.4330\n",
      "Epoch 100 Batch 150 Loss 0.7453 Accuracy 0.4317\n",
      "Saving checkpoint for epoch 100 at ./checkpoints/train\\ckpt-64\n",
      "Epoch 100 Loss 0.7518 Accuracy 0.4302\n",
      "Time taken for 1 epoch: 16.145775079727173 secs\n",
      "\n"
     ]
    }
   ],
   "source": [
    "for epoch in range(EPOCHS):\n",
    "  start = time.time()\n",
    "  \n",
    "  train_loss.reset_states()\n",
    "  train_accuracy.reset_states()\n",
    "  \n",
    "  # inp -> korean, tar -> english\n",
    "  for (batch, (inp, tar)) in enumerate(train_dataset):\n",
    "    train_step(inp, tar)\n",
    "    \n",
    "    if batch % 50 == 0:\n",
    "      print ('Epoch {} Batch {} Loss {:.4f} Accuracy {:.4f}'.format(\n",
    "          epoch + 1, batch, train_loss.result(), train_accuracy.result()))\n",
    "      \n",
    "  if (epoch + 1) % 5 == 0:\n",
    "    ckpt_save_path = ckpt_manager.save()\n",
    "    print ('Saving checkpoint for epoch {} at {}'.format(epoch+1,\n",
    "                                                         ckpt_save_path))\n",
    "    \n",
    "  print ('Epoch {} Loss {:.4f} Accuracy {:.4f}'.format(epoch + 1, \n",
    "                                                train_loss.result(), \n",
    "                                                train_accuracy.result()))\n",
    "\n",
    "  print ('Time taken for 1 epoch: {} secs\\n'.format(time.time() - start))"
   ]
  },
  {
   "cell_type": "code",
   "execution_count": null,
   "metadata": {},
   "outputs": [],
   "source": []
  },
  {
   "cell_type": "markdown",
   "metadata": {
    "id": "QfcsSWswSdGV"
   },
   "source": [
    "## Evaluate"
   ]
  },
  {
   "cell_type": "markdown",
   "metadata": {
    "id": "y6APsFrgImLW"
   },
   "source": [
    "The following steps are used for evaluation:\n",
    "\n",
    "* Encode the input sentence using the Portuguese tokenizer (`tokenizer_pt`). Moreover, add the start and end token so the input is equivalent to what the model is trained with. This is the encoder input.\n",
    "* The decoder input is the `start token == tokenizer_en.vocab_size`.\n",
    "* Calculate the padding masks and the look ahead masks.\n",
    "* The `decoder` then outputs the predictions by looking at the `encoder output` and its own output (self-attention).\n",
    "* Select the last word and calculate the argmax of that.\n",
    "* Concatentate the predicted word to the decoder input as pass it to the decoder.\n",
    "* In this approach, the decoder predicts the next word based on the previous words it predicted.\n",
    "\n",
    "Note: The model used here has less capacity to keep the example relatively faster so the predictions maybe less right. To reproduce the results in the paper, use the entire dataset and base transformer model or transformer XL, by changing the hyperparameters above."
   ]
  },
  {
   "cell_type": "code",
   "execution_count": 76,
   "metadata": {
    "id": "5buvMlnvyrFm"
   },
   "outputs": [],
   "source": [
    "def evaluate(inp_sentence):\n",
    "  start_token = [tokenizer_kor.vocab_size]\n",
    "  end_token = [tokenizer_kor.vocab_size + 1]\n",
    "  \n",
    "  # inp sentence is portuguese, hence adding the start and end token\n",
    "  inp_sentence = start_token + tokenizer_kor.encode(inp_sentence) + end_token\n",
    "  encoder_input = tf.expand_dims(inp_sentence, 0)\n",
    "  \n",
    "  # as the target is english, the first word to the transformer should be the\n",
    "  # english start token.\n",
    "  decoder_input = [tokenizer_eng.vocab_size]\n",
    "  output = tf.expand_dims(decoder_input, 0)\n",
    "    \n",
    "  for i in range(MAX_LENGTH):\n",
    "    enc_padding_mask, combined_mask, dec_padding_mask = create_masks(\n",
    "        encoder_input, output)\n",
    "  \n",
    "    # predictions.shape == (batch_size, seq_len, vocab_size)\n",
    "    predictions, attention_weights = transformer(encoder_input, \n",
    "                                                 output,\n",
    "                                                 False,\n",
    "                                                 enc_padding_mask,\n",
    "                                                 combined_mask,\n",
    "                                                 dec_padding_mask)\n",
    "    \n",
    "    # select the last word from the seq_len dimension\n",
    "    predictions = predictions[: ,-1:, :]  # (batch_size, 1, vocab_size)\n",
    "\n",
    "    predicted_id = tf.cast(tf.argmax(predictions, axis=-1), tf.int32)\n",
    "    \n",
    "    # return the result if the predicted_id is equal to the end token\n",
    "    if predicted_id == tokenizer_eng.vocab_size+1:\n",
    "      return tf.squeeze(output, axis=0), attention_weights\n",
    "    \n",
    "    # concatentate the predicted_id to the output which is given to the decoder\n",
    "    # as its input.\n",
    "    output = tf.concat([output, predicted_id], axis=-1)\n",
    "\n",
    "  return tf.squeeze(output, axis=0), attention_weights"
   ]
  },
  {
   "cell_type": "code",
   "execution_count": 103,
   "metadata": {
    "id": "CN-BV43FMBej"
   },
   "outputs": [],
   "source": [
    "def plot_attention_weights(attention, sentence, result, layer):\n",
    "  fig = plt.figure(figsize=(40, 20))\n",
    "  \n",
    "  sentence = tokenizer_kor.encode(sentence)\n",
    "  \n",
    "  attention = tf.squeeze(attention[layer], axis=0)\n",
    "  \n",
    "  for head in range(attention.shape[0]):\n",
    "    ax = fig.add_subplot(2, 4, head+1)\n",
    "    \n",
    "    # plot the attention weights\n",
    "    ax.matshow(attention[head][:-1, :], cmap='viridis')\n",
    "\n",
    "    fontdict = {'fontsize': 12}\n",
    "    \n",
    "    ax.set_xticks(range(len(sentence)+2))\n",
    "    ax.set_yticks(range(len(result)-1))\n",
    "    \n",
    "    ax.set_ylim(len(result)-1.5, -0.5)\n",
    "        \n",
    "    ax.set_xticklabels(\n",
    "        ['<start>']+[tokenizer_kor.decode([i]) for i in sentence]+['<end>'], \n",
    "        fontdict=fontdict, rotation=90)\n",
    "    \n",
    "    ax.set_yticklabels([tokenizer_eng.decode([i]) for i in result \n",
    "                        if i < tokenizer_eng.vocab_size], \n",
    "                       fontdict=fontdict)\n",
    "    \n",
    "    ax.set_xlabel('Head {}'.format(head+1))\n",
    "  \n",
    "  plt.tight_layout()\n",
    "  plt.show()"
   ]
  },
  {
   "cell_type": "code",
   "execution_count": 78,
   "metadata": {
    "id": "lU2_yG_vBGza"
   },
   "outputs": [],
   "source": [
    "def translate(sentence, plot=''):\n",
    "  result, attention_weights = evaluate(sentence)\n",
    "  \n",
    "  predicted_sentence = tokenizer_eng.decode([i for i in result \n",
    "                                            if i < tokenizer_eng.vocab_size])  \n",
    "\n",
    "  print('Input: {}'.format(sentence))\n",
    "  print('Predicted translation: {}'.format(predicted_sentence))\n",
    "  \n",
    "  if plot:\n",
    "    plot_attention_weights(attention_weights, sentence, result, plot)"
   ]
  },
  {
   "cell_type": "code",
   "execution_count": 79,
   "metadata": {
    "colab": {
     "base_uri": "https://localhost:8080/",
     "height": 68
    },
    "id": "YsxrAlvFG8SZ",
    "outputId": "aef5a4f6-81b0-4f13-e125-8b2cef11039b"
   },
   "outputs": [
    {
     "name": "stdout",
     "output_type": "stream",
     "text": [
      "Input: 북한 의 핵무기 계획 을 포기 하 도록 하 려는 압력 이 거세 지 고 있 는 가운데 , 일본 과 북한 의 외교관 들 이 외교 관계 를 정상 화 하 려는 회담 을 재개 했 다 .\n",
      "Predicted translation: north korea has said it will resume its nuclear weapons program in exchange for north korea .\n",
      "amid mounting pressure on north korea to abandon its nuclear weapons program japanese and north korean diplomats have resumed talks on normalizing diplomatic relations .\n"
     ]
    }
   ],
   "source": [
    "translate(kor[20])\n",
    "print (eng[20])"
   ]
  },
  {
   "cell_type": "code",
   "execution_count": 80,
   "metadata": {
    "colab": {
     "base_uri": "https://localhost:8080/",
     "height": 68
    },
    "id": "7EH5y_aqI4t1",
    "outputId": "ab2f5ed1-3de1-4dff-8234-288f242706a7"
   },
   "outputs": [
    {
     "name": "stdout",
     "output_type": "stream",
     "text": [
      "Input: 소방관 들 이 그 지옥 같 은 화재 를 진압 하 는 데 는 5 시간 이상 이 걸렸 는데 , 강한 열 과 수그러들 지 않 는 불길 때문 에 소방관 들 은 약 4 시간 동안 건물 에 진입 할 수 없 었 다 .\n",
      "Predicted translation: firefighters had been seen in the past few days , but the blazes were not seen as much as much as they were in the past few days .\n",
      "prevented firefighters from entering the building for about four hours with firefighters taking more than five hours to extinguish the inferno .\n"
     ]
    }
   ],
   "source": [
    "translate(kor[25])\n",
    "print (eng[25])"
   ]
  },
  {
   "cell_type": "code",
   "execution_count": 83,
   "metadata": {
    "colab": {
     "base_uri": "https://localhost:8080/",
     "height": 68
    },
    "id": "J-hVCTSUMlkb",
    "outputId": "c64aea2d-876b-4e2a-aca3-2203c9ae3a2a"
   },
   "outputs": [
    {
     "name": "stdout",
     "output_type": "stream",
     "text": [
      "Input: 그 와 동시 에 노동 비용 은 더욱 상승 하 고 있 습니다 . 라고 말 했 다 .\n",
      "Predicted translation: the cost of the cost of consumer loans and labor union are also critical condition of anonymity .\n",
      "at the same time , labor costs are more and more . ”\n"
     ]
    }
   ],
   "source": [
    "translate(kor[31])\n",
    "print (eng[31])"
   ]
  },
  {
   "cell_type": "markdown",
   "metadata": {
    "id": "_1MxkSZvz0jX"
   },
   "source": [
    "You can pass different layers and attention blocks of the decoder to the `plot` parameter."
   ]
  },
  {
   "cell_type": "code",
   "execution_count": 135,
   "metadata": {
    "colab": {
     "base_uri": "https://localhost:8080/",
     "height": 597
    },
    "id": "t-kFyiOLH0xg",
    "outputId": "19d690fe-6574-466a-951d-b8e339dedae0"
   },
   "outputs": [
    {
     "name": "stdout",
     "output_type": "stream",
     "text": [
      "Answer: the best man raises his wine glass and out comes a drunken diatribe .\n",
      "Input: 신랑 들러리 가 포도주 잔 을 들 어 올린다 그리고 는 술주정 을 늘어놓 는다 .\n",
      "Predicted translation: the best man raises his wine glass in your diatricake coffee to interpre .\n"
     ]
    },
    {
     "data": {
      "image/png": "[encoded data removed]",
      "text/plain": [
       "<Figure size 2880x1440 with 8 Axes>"
      ]
     },
     "metadata": {
      "needs_background": "light"
     },
     "output_type": "display_data"
    }
   ],
   "source": [
    "n = 50\n",
    "print ('Answer:', eng[n])\n",
    "translate(kor[n], plot='decoder_layer4_block2')"
   ]
  },
  {
   "cell_type": "code",
   "execution_count": 128,
   "metadata": {},
   "outputs": [],
   "source": [
    "eng_test = process_data('./korean-english-park.test/korean-english-park.test.en')\n",
    "kor_test = process_data('./korean-english-park.test/korean-english-park.test.ko', isKor=True)"
   ]
  },
  {
   "cell_type": "code",
   "execution_count": 161,
   "metadata": {},
   "outputs": [
    {
     "name": "stdout",
     "output_type": "stream",
     "text": [
      "영  어:\t we have obtained the technology for producing nuclear fuel . . . no one can take it away from our nation , he said .\n",
      "한국어:\t 그 는 우리 는 핵연료 를 생산 할 수 있 는 기술 을 보유 했 다 .\n",
      "\n",
      "영  어:\t iran will not bow to outside pressure to abandon its nuclear technology , president mahmoud ahmadinejad has said .\n",
      "한국어:\t Australian sent wrong Iraq body 이라크 파병 호주 군인 시신 잘못 도착 2006 . 06\n",
      "\n",
      "영  어:\t europe is set to send a probe to venus , the first mission to our nearest planetary neighbor in a decade .\n",
      "한국어:\t Europe is set to send a probe to Venus . 유럽 , 금성 탐사 착수 2005 . 12 원문 독해 설명 인쇄\n",
      "\n",
      "영  어:\t venus express will launch on a russian soyuz rocket from baikonur cosmodrome in kazakhstan at 0333 gmt on wednesday .\n",
      "한국어:\t 금성 탐사선 비너스 익스프레스 Venus Express 는 러시아 의 소유 즈 로켓 에 실려 오 는 수요일 오전 3 시 33 분 그리니치 표준시 , 한국 시각 12 시 33 분 카자흐스탄 의 바이코누르 우주 기지 에서 발사 될 예정 이 다 .\n",
      "\n",
      "영  어:\t the robotic craft will orbit the planet for about 500 earth days to study its atmosphere , which has experienced runaway greenhouse warming .\n",
      "한국어:\t 이후 지구 일 로 500 여 일 동안 궤도 를 돌 며 표면 온도 가 매우 뜨거운 금성 의 대기 를 관측 하 게 된다 .\n",
      "\n",
      "영  어:\t scientists hope the mission will shed further light on the mechanisms of climate change on our own world .\n",
      "한국어:\t 이 로써 학계 에서 는 지구 의 기후 변화 에 관한 보다 중요 한 정보 를 밝혀낼 수 있 을 거 라고 기대 하 고 있 다 .\n",
      "\n",
      "영  어:\t venus is almost identical in size to earth , and is thought to have a similar composition .\n",
      "한국어:\t 금성 은 지구 와 크기 가 거의 비슷 해 쌍둥이 행성 이 라 불린다 .\n",
      "\n",
      "영  어:\t the robotic craft will orbit the planet for about 500 earth days to study its atmosphere , which has experienced runaway greenhouse warming .\n",
      "한국어:\t A lawyer for one of Saddam Hussein ' s co defendants shot to death in Baghdad 후세인 측근 의 변호사 피살 2005 . 12\n",
      "\n",
      "영  어:\t he ' s the president elect but he ' s also dad and barack obama is playing that role in a new interview .\n",
      "한국어:\t 버락 오바마 는 대통령 당선인 인 동시 에 아버지 입니다 . 오바마 당선인 은 새로운 인터뷰 에서 그 역할 을 했 는데요 .\n",
      "\n",
      "영  어:\t the ap ' s rita foley is live in the newsroom to tell us about it .\n",
      "한국어:\t 이 소식 을 전하 기 위해 리타 폴리 기자 가 지금 기자실 에 나가 있 습니다 .\n",
      "\n",
      "영  어:\t “ but what happens when your well mannered , kind , fun loving , smart little girls move to the white house ? ”\n",
      "한국어:\t “ 그 예의 바르 고 , 착하 고 , 농담 을 좋아하 고 똑똑 한 어린 소녀 들 이 백악관 에 들어와 살 게 되 면 어떻게 될까요 ? ”\n",
      "\n",
      "영  어:\t “ the thing we ' ll be guarding against most is any kind of attitude on their part , as a consequence of living in the white house . ”\n",
      "한국어:\t “ 아이 들 이 백악관 에서 생활 한 결과 , 이 들 에게 생기 는 어떤 태도 에 대해서 도 우리 가 보호 할 것 이 라는 겁니다 . ”\n",
      "\n",
      "영  어:\t when it comes to her weight , oprah winfrey has always been straightforward .\n",
      "한국어:\t 리타 기자 . 몸무게 이야기 가 나오 면 오프라 윈프리 는 언제나 솔직 했 는데요 .\n",
      "\n",
      "영  어:\t the talk show queen continues her honesty , telling o magazine she has packed on 40 pounds the past couple of years and now weighs 200 .\n",
      "한국어:\t 이 토크 쇼 의 여왕 은 O 메 거진 을 통해 지난 몇 년 간 40 파운드 가 늘 었 고 , 현재 200 파운드 에 이른다고 밝혀 다시 한번 그녀 의 정직 함 을 유지 했 습니다 .\n",
      "\n",
      "영  어:\t “ what do you think of your kids ? ”\n",
      "한국어:\t a consequence of 의 결과 로\n",
      "\n",
      "영  어:\t “ the thing we ' ll be guarding against most is any kind of attitude on their part , as a consequence of living in the white house . ”\n",
      "한국어:\t Governor Jennifer Granholm of Michigan urges the auto industry bailout 미시 건주 제니퍼 그랜홈 주지사 , 자동차 업계 에 대한 구제 금융 요구 2008 . 12\n",
      "\n",
      "영  어:\t taliban militants holding 21 korean hostages in afghanistan made a new demand tuesday for the afghan government to release two male taliban prisoners in return for freeing of two sick female hostages .\n",
      "한국어:\t 아프가니스탄 에서 21 명 의 한국인 인질 을 억류 하 고 있 는 탈레반 무장 단체 는 지난 화요일 , 두 명 의 건강 이 악화 된 여성 인질 을 석방 하 는 대가 로 두 명 의 남성 탈레반 수감자 들 을 석방 시켜 줄 것 을 아프간 정부 에 새로이 요청 했 다 .\n",
      "\n",
      "영  어:\t qari yousaf ahmadi , the purported taliban spokesman , said in an interview with the korea times , the taliban are ready to make a prisoners sick hostages swap . ahmadi said the two female hostages were those he had earlier said were seriously ill and might die without proper medical assistance .\n",
      "한국어:\t 자칭 탈레반 대변인 인 카리 유사 프 아 마디 는 코리아 타임즈 지와 의 인터뷰 에서 , “ 탈레반 은 수감자 와 건강 이 악화 된 인질 들 의 교환 을 할 준비 가 되 었 다 ” 고 말 했 다 .\n",
      "\n",
      "영  어:\t the demand came amid criticism among muslims who learned that some of the female hostages are suffering from dehydration and intestinal disorders .\n",
      "한국어:\t 아마디 는 두 명 의 여성 인질 이 기존 에 심각 하 게 건강 이 악화 되 었 다고 언급 된 사람 들 이 며 , 적절 한 의료 조치 가 없 다면 사망 할 수 도 있 다고 주장 했 다 .\n",
      "\n",
      "영  어:\t ahmadi said the taliban received only a small quantity of medical supplies sent by a group of afghan doctors .\n",
      "한국어:\t 아마디 대변인 은 , 아프간 의사 단체 에 의해 제공 된 소량 의 의료 물자 만 을 받 았 다고 말 했 다 .\n",
      "\n",
      "영  어:\t meanwhile , he flatly denied a report that the militants proposed an exchange of female hostages for woman taliban prisoners boasting the taliban do not have female members in our ranks . the remaining korean captives are 18 women and three men , mostly in their 20s and 30s who went to afghanistan on july 13 to offer volunteer services .\n",
      "한국어:\t 한편 , 그 는 무장 단체 가 여성 인질 들 을 여성 탈레반 수감자 와 교환 할 것 을 제안 했 다는 보도 를 단호히 부인 했 는데 , “ 탈레반 고위 층 에 는 여성 단원 이 없 다 ” 고 주장 했 다 .\n",
      "\n",
      "영  어:\t taliban militants holding 21 korean hostages in afghanistan made a new demand tuesday for the afghan government to release two male taliban prisoners in return for freeing of two sick female hostages .\n",
      "한국어:\t 봉사 활동 을 위해 지난 7 월 13 일 아프가니스탄 을 찾 은 한국인 인질 들 은 현재 18 명 의 여성 과 3 명 의 남성 이 남 아 있 으며 , 대부분 20 대 에서 30 대 사이 이 다 .\n",
      "\n",
      "영  어:\t a group of religious organizations threatened to shut down their mission schools yesterday unless the national assembly rewrites the controversial private school law , which they say hurts the autonomy of school foundations .\n",
      "한국어:\t 일부 종교 단체 들 이 국회 가 사립 학교 법 을 재 개정 하 지 않 으면 자신 들 의 교단 에 소속 된 학교 들 을 폐쇄 하 겠 다며 , 사학 법 이 학교 설립 의 자치 권 을 저해 한다고 주장 했 다 .\n",
      "\n",
      "영  어:\t about 40 leaders of the christian council of korea and catholic education foundations visited the national assembly and pressed the need to amend the private school law , which stipulates the boards of school foundations should be opened up to outsiders .\n",
      "한국어:\t 한국 기독교 연합회 와 가톨릭 학교 법인 소속 대표자 40 명 은 국회 를 방문 하 고 , 개방형 이 사제 를 규정 하 고 있 는 사학 법 개정 의 필요 성 을 강조 했 다 .\n",
      "\n",
      "영  어:\t “ if the national assembly doesn ' t revise the private school law concerning boards of schools in the current session , we will close down the schools , ” the group read in a declaration .\n",
      "한국어:\t “ 만약 국회 가 이번 회기 에서 학교 이사회 와 관련 된 사학 법 을 개정 하 지 않 는다면 우리 는 학교 들 을 폐쇄 ” 할 것 이 라고 성명서 를 통해 밝혔 다 .\n",
      "\n",
      "영  어:\t along with the cck , which represents 73 secondary schools nationwide , the national council of churches in korea , said they plan to visit cheong wa dae today to deliver their own stern opposition to the private school regulations .\n",
      "한국어:\t 전국 적 으로 73 개 중학교 를 소유 하 고 있 는 한국 기독교 총 연합회 와 함께 한국 기독교 교회 협의회 는 사학 법 에 대한 자신 들 의 강력 한 반대 의사 를 전달 하 기 위해 청와대 를 방문 했 다 .\n",
      "\n",
      "영  어:\t lee myung bak , the presidential candidate of the main opposition grand national party gnp , has been accused of making remarks defaming women .\n",
      "한국어:\t 야당 인 한나라당 의 이명박 대통령 후보 가 여성 들 을 비하 하 는 발언 을 하 여 비난 을 받 았 다 .\n",
      "\n",
      "영  어:\t civic groups and lawmakers of the pro government united new democratic party undp and the democratic labor party dlp criticized lee for his inappropriate joking on prostitution in his recent meeting with some managing editors of the media .\n",
      "한국어:\t 시민 단체 와 여당 인 대 통합 민주 신 당과 민주 노동당 의 국회의원 들 은 , 언론사 편집 주간 들 과 의 최근 회동 에서 매춘 에 대해 “ 부적 절한 ” 농담 을 한 것 에 대해 이 후보 를 비난 하 고 있 다 .\n",
      "\n",
      "영  어:\t some journalists who attended the dinner meeting said lee , citing experiences of his former boss during his work at a company , said bad looking girls are better than pretty girls when being massaged overseas , an internet newspaper said .\n",
      "한국어:\t 이 저녁 식사 회동 에 참석 했 던 일부 기자 들 은 이 후보 가 기업체 에 근무 하 던 시절 상관 의 경험 을 인용 하 며 , 해외 에서 안마 를 받 을 때 에 는 아름다운 여성 들 보다 못생긴 여성 들 에게 받 는 것 이 더 좋 다고 말 했 다고 , 인터넷 신문 에서 보도 했 다 .\n",
      "\n",
      "영  어:\t according to the report , lee made the remark , while talking about the “ skills of life . ”\n",
      "한국어:\t 이 보도 에 따르 면 , “ 삶 의 기술 ” 에 대해 이야기 할 때 이 후보 는 이러 한 언급 을 한 것 으로 알려져 있 다 .\n",
      "\n",
      "영  어:\t citing the case allegedly involving some high school students gaining access to a brothel on an overseas school trip , kim did not rule out the possibility of a politician legalizing teenagers buying sex .\n",
      "한국어:\t 이번 사건 이 고등 학생 들 이 해외 수학 여행 에서 매춘 굴 에 드나드 는 것 과 관계 가 있 다고 인용 하 며 , 김 대변인 은 “ 정치인 ” 이 10 대 들 의 매춘 을 합법 화 시킬 수 있 는 가능 성 도 배제 하 지 않 았 다 .\n",
      "\n",
      "영  어:\t a political civic group based in daejeon urged lee to apologize to women for his controversial remarks .\n",
      "한국어:\t 대전 에 위치 한 한 정치 시민 단체 는 , 논란 의 여지 가 있 는 발언 에 대해 여성 들 에게 사과 하 라고 촉구 했 다 .\n",
      "\n",
      "영  어:\t the seriousness lies in the fact that lee s remarks are based on his habitual view tolerating sexual discrimination , ” it said .\n",
      "한국어:\t “ 이번 문제 의 심각 성 은 , 이 후보 의 발언 이 성 차별 을 묵인 하 는 평소 의 관점 에 기반 을 두 고 있 다는 점 이 다 ” 라고 이 단체 에서 는 주장 했 다 .\n",
      "\n",
      "영  어:\t civic groups and lawmakers of the pro government united new democratic party undp and the democratic labor party dlp criticized lee for his inappropriate joking on prostitution in his recent meeting with some managing editors of the media .\n",
      "한국어:\t Byeon for sponsoring the degree faker 검찰 , 신 씨 후원 혐의 로 변양균 전 보좌관 고발 예정 2007 . 12\n",
      "\n",
      "영  어:\t the land is valued at 3 . 6 billion won .\n",
      "한국어:\t 원문 독해 설명 인쇄\n",
      "\n",
      "영  어:\t a government body wednesday decided to confiscate land owned by the descendants of pro japan collaborators during the colonial period 1910 .\n",
      "한국어:\t 동안 취득 한 친일파 들 의 재산 을 환수 한다고 발표 했 다 .\n",
      "\n",
      "영  어:\t for the first time in 58 years , the government has taken the first steps to clear away the colonial era legacy .\n",
      "한국어:\t 58 년 만 에 처음 실시 되 는 일 로 정부 는 일재 잔재 를 청산 하 는 시작점 이 다 .\n",
      "\n",
      "영  어:\t but the seizure invited immediate protest from those affected .\n",
      "한국어:\t 그러나 즉시 재산 환수 에 따른 파장 이 예상 된다 .\n",
      "\n",
      "영  어:\t they threatened to file suits for the infringement of private property ownership .\n",
      "한국어:\t 친일파 들 은 개인 사유 재산 에 대한 침해 라며 고소 하 겠 다는 강경 한 입장 이 다 .\n",
      "\n",
      "영  어:\t these descendants can file an administrative suit within 90 days after they are notified of the confiscation .\n",
      "한국어:\t 친일파 후손 들 은 재산 몰수 통보 를 받 은 90 일 이내 에 행정 기관 에 고소 할 수 있 다 .\n",
      "\n",
      "영  어:\t the presidential body , the investigative commission on pro japanese collaborators property , announced that the government will seize 254 , 906 square meters of land owned by the offspring of the nine key post holders who amassed wealth through cooperation with japan during its colonial rule .\n",
      "한국어:\t 대통령 직속 기관 인 친 일반 민족 행위 자 재산 조사 위원회 는 친일파 후손 으로 9 명 의 주요 요직 인물 들 의 재산 인 254 , 906 sm 의 땅 을 국가 로 귀속 할 것 이 라 말 했 다 .\n",
      "\n",
      "영  어:\t the land is valued at 3 . 6 billion won .\n",
      "한국어:\t 이 땅 의 공시지가 는 30 억 6 천 만 원 의 가치 가 있 다 .\n",
      "\n",
      "영  어:\t the confiscation has been made possible following the national assembly s enactment of a special law in december 2005 .\n",
      "한국어:\t 재산 환수 는 2005 년 12 월 친 일반 민족 행위 자 의 재산 환수 특별법 이 만들 어 진 이후 실시 되 고 있 다 .\n",
      "\n",
      "영  어:\t hwang woo suk ' s stem cell research team yesterday reaffirmed that its research activities will not be affected by gerald p . schatten ' s announcement to stop working with it .\n",
      "한국어:\t Hwang Woo suk ' s research activities will not be affected by Gerald P . Schatten ' s announcement . 황우석 박사 의 연구 , 섀튼 교수 의 선언 과 는 상관 없이 계속 진행 2005 . 12\n",
      "\n",
      "영  어:\t hwang woo suk ' s stem cell research team yesterday reaffirmed that its research activities will not be affected by gerald p . schatten ' s announcement to stop working with it .\n",
      "한국어:\t 황우석 박사 의 줄기세포 연구 팀 은 제럴드 P . 섀튼 교수 의 공동 연구 중단 선언 과 는 상관 없이 연구 는 계속 진행 될 것 이 라고 어제 재차 확인 했 다 .\n",
      "\n",
      "영  어:\t schatten , director of the pittsburgh development center and a medical school professor , said in a statement released last week that he was ending the 20 month collaboration with hwang ' s team because he is convinced that hwang had engaged in ethical breaches and lied to him about them .\n",
      "한국어:\t 피츠버그 대학 의학 연구소 소장 이자 의 과대 교수 인 섀튼 교수 는 기자 회견 에서 황 박사 가 윤리 적 위반 행위 에 연루 되 었 으며 자신 에게 그 에 대해 거짓말 을 했 기 때문 에 지난 20 개월 간 진행 해 온 공동 연구 를 중단 한다고 지난 주 에 밝혔 다 .\n",
      "\n",
      "영  어:\t time for us to show true character\n",
      "한국어:\t 한자사전\n",
      "\n",
      "영  어:\t but history professor leo ribuffo of george washington university says it was abraham lincoln ' s 2nd inaugural address that set the standard “ the greatest call for national reconciliation you can imagine as the civil war is clearly coming to a close , uh , and it ' s probably the greatest inaugural address ever given . ”\n",
      "한국어:\t 하지만 레오 리부 포 조지워싱턴 대 역사학 교수 는 오바마 연설 의 근간 은 에이브러햄 링컨 의 2 기 취임사 였 다며 이 는 “ 링컨 의 취임 연설 이 남북 전쟁 이 거의 끝나갈 무렵 에 국가 화합 을 부르짖 은 가장 위대 한 소명 이 며 가장 기억 에 남 을 만 한 명 연설 이 었 기 때문 ” 이 라고 주장 했 습니다 .\n",
      "\n",
      "영  어:\t now that a us airways jet is out of the hudson river in new york , investigator want to look more closely at the cockpit , the still attached right engine , and the interior of the cabin .\n",
      "한국어:\t US 에 어웨이 항공 의 사고기 가 뉴욕 허드슨강 에서 인양 되 고 있 는 가운데 조사 관 들 은 사고 원인 분석 을 위해 조종실 , 기체 에 남 아 있 는 오른쪽 엔진 과 객실 내부 등 을 면밀히 조사 하 고 있 습니다 .\n",
      "\n",
      "영  어:\t the national transportation safety board says the black box flight recorders captured thumping sounds , the sudden loss of engine power , and the pilot ' s may day call .\n",
      "한국어:\t 블랙박스 비행 기록 장치 에 ' 쾅 ' 하 는 굉음 , 갑작스런 엔진 동력 손실 , 조종사 의 구조 요청 등 이 기록 되 어 있 다고 전미 교통 안 전국 은 밝혔 습니다 .\n",
      "\n",
      "영  어:\t but history professor leo ribuffo of george washington university says it was abraham lincoln ' s 2nd inaugural address that set the standard\n",
      "한국어:\t set the standard 기준 을 세우 다\n",
      "\n",
      "영  어:\t “ the greatest call for national reconciliation you can imagine as the civil war is clearly coming to a close , uh , and it ' s probably the greatest inaugural address ever given . ”\n",
      "한국어:\t 30 1 . 1 화씨온도 에 32 를 빼 서 기준 을 맞춰준 다음 , 180 으로 나누 고 100 으로 곱하 면 섭씨온도 가 된다 .\n",
      "\n",
      "영  어:\t now that a us airways jet is out of the hudson river in new york , investigator want to look more closely at the cockpit , the still attached right engine , and the interior of the cabin .\n",
      "한국어:\t Cosmetic procedures doubled before inauguration events 취임식 행사 앞두 고 때 아닌 성형 바람 2009 . 01\n",
      "\n",
      "영  어:\t the korea times quots president elect lee myung bak as saying he would stand firm on overhauling english education , although there is some criticism of the plan .\n",
      "한국어:\t 코리아 타임즈 지 는 , 영어 교육 개혁 안 에 대한 일부 비판 여론 이 있 음 에 도 불구 하 고 , 영어 교육 을 개혁 하 겠 다는 입장 을 고수 할 것 이 라는 이명박 대통령 당선인 의 말 을 인용 하 여 보도 했 다 .\n",
      "\n",
      "영  어:\t lee also said he would assess cabinet members and cheong wa dae secretaries every six months .\n",
      "한국어:\t 또한 , 이 당선인 은 내각 관료 들 과 청와대 비 서진 들 에 대해 6 개월 에 한 번 씩 평가 를 실시 하 겠 다고 밝혔 다 .\n",
      "\n",
      "영  어:\t at a two day workshop of his aides in seoul saturday , lee stressed that a short sighted , vested interest oriented view should not hold back the long term national goal of an english friendly korea .\n",
      "한국어:\t 지난 토요일 서울 에서 있 었 던 이 대통령 당선인 의 보좌관 들 이 참석 한 이틀 간 의 워크숍 에서 , 이 대통령 당선인 은 근시안 적 으로 기득 권 에 치우친 시각 이 영어 친화 적 인 한국 을 향한 장기 적 인 국가 적 목표 에 지장 을 주 어선 안 된다고 강조 했 다 .\n",
      "\n",
      "영  어:\t he made the remark as criticism mounts over his overzealous plan for the wider use of english , which he believes is key to sharpening competitiveness of korea and koreans .\n",
      "한국어:\t 그 는 , 영어 의 폭넓 은 사용 이 한국 과 한국인 의 경쟁력 을 강화 하 기 위해 핵심 적 인 요소 라고 생각 하 고 있 다 .\n",
      "\n",
      "영  어:\t lee said that government officials sometimes need to be tough to push through their ideas if needed .\n",
      "한국어:\t 이 당선인 은 , 정부 관계자 들 이 필요 한 경우 에 는 자신 들 의 생각 을 밀어붙일 수 있 을 만큼 강인 해져야 할 필요 가 있 다고 언급 했 다 .\n",
      "\n",
      "영  어:\t in other political news , the joong ang ilbo reports that using strong words in an agitated voice , president roh moo hyun yesterday took aim at his critics and said his previous appointment of goh kun as prime minister was “ a failure . ”\n",
      "한국어:\t Roh s strong critics on a former prime minister 노 대통령 , 고건 전 총리 강하 게 비판 2007 . 03\n",
      "\n",
      "영  어:\t roh had harsh words for the former mayor of seoul , who is now considered a possible candidate for president .\n",
      "한국어:\t 그런가 하 면 현재 강력 한 대통령 후보 인 고 건 전 총리 에게 거친 표현 을 사용 하 기 도 했 다 .\n",
      "\n",
      "영  어:\t ” i appointed goh kun as prime minister , hoping that he would be the bridge between me and the senior leaders .\n",
      "한국어:\t “ 나 는 나와 보수 세력 간 에 가교 가 되 어 주 기 를 바라 면서 고건 씨 를 총리 로 지명 했 다 .\n",
      "\n",
      "영  어:\t however , it turned out that i and my administration were isolated . ”\n",
      "한국어:\t 그러나 그 지명 으로 결국 나와 참여 정부 는 고립 되 고 말 았 다 . ”\n",
      "\n",
      "영  어:\t discussing criticism that his administration had taken too soft of a stance against north korea ' s weapons tests , roh said , ” we all know for sure that the missiles are not coming at us . ”\n",
      "한국어:\t 북한 의 핵무기 실험 에 대해서 는 참여 정부 가 지나치 게 관대 한 자세 를 취한다는 비판 에 대해서 는 “ 미사일 이 우리 에게 날아오 지 않 는다는 것 을 우리 는 분명히 알 고 있 다 . ”\n",
      "\n",
      "영  어:\t i beg you , ” he said in an address before the national unification advisory council .\n",
      "한국어:\t GNP votes against a revision of tax law 한나라당 , 세법 개정 반대 2007 . 03\n",
      "\n",
      "영  어:\t the president addressed a variety of topics , including south korea ' s role in the six party talks , wartime control , the country ' s independence and even his sanity .\n",
      "한국어:\t 영한사전 약어 표 한영사전 약어 표\n",
      "\n",
      "영  어:\t following the north korean nuclear test yesterday , japan could expedite its move to rearmament , officials and analysts said .\n",
      "한국어:\t 북한 의 핵실험 이 일본 의 군사 적 재무장 을 촉진 시킬 수 있 게 됐 다고 정부 관계자 와 외교 분석가 들 이 전했 다 .\n",
      "\n",
      "영  어:\t japanese prime minister shinzo abe said yesterday japan will accelerate its move to develop a missile defense system in response to north korea ' s nuclear provocations .\n",
      "한국어:\t 아베 신조 일본 총리 는 북한 의 핵 도발 에 맞서 미사일 방어 시스템 구축 을 앞당길 것 이 라고 밝혔 다 .\n",
      "\n",
      "영  어:\t abe emphasized tokyo will further enhance security cooperation with washington , pledging “ stern measures ” against pyongyang .\n",
      "한국어:\t 아베 총리 는 일본 은 미국 과 안보 체제 를 더욱 강화 해 나갈 것 이 라고 강조 하 며 북한 에 대해선 “ 엄격 한 조치 ” 를 취할 것 이 라고 말 했 다 .\n",
      "\n",
      "영  어:\t abe has repeatedly emphasized his ambitions to amend the constitution , which strictly limits japan ' s use of military force .\n",
      "한국어:\t 또한 일본 의 군사력 사용 을 직접 적 으로 제한 하 는 평화 헌법 개정 에 대한 야망 도 재차 강조 했 다 .\n",
      "\n",
      "영  어:\t the japanese government is seeking an expanded role in the international arena and sufficient military capabilities for the purpose under strengthened ties with the united states .\n",
      "한국어:\t 일본 정부 는 국제 무대 에서 역할 확대 를 추구 하 고 있 으며 이 를 위해 미국 과 강화 된 연대 하 에 충분 한 군사력 증강 을 꾀하 고 있 다 .\n",
      "\n",
      "영  어:\t south korean experts claim that japan is exploiting its reinforced alliance with the united states as a chance to foster its military buildup .\n",
      "한국어:\t 한국 의 외교 전문가 들 은 일본 이 강화 된 미국 과 의 동맹 을 군사력 증강 에 이용 하 고 있 다고 주장 한다 .\n",
      "\n",
      "영  어:\t following the north korean nuclear test yesterday , japan could expedite its move to rearmament , officials and analysts said .\n",
      "한국어:\t 일본 은 북한 의 핵실험 강행 은 “ 동북아 와 세계 의 평화 와 안보 에 대한 심각 한 위협 ” 이 라고 강조 했 다 .\n",
      "\n",
      "영  어:\t seoul national university will start construction on friday of a 25 billion state of the art medical bioengineering laboratory for stem cell researcher hwang woo suk on its kwanak campus , south of seoul .\n",
      "한국어:\t SNU starts construction on Hwang Woo suk Research Center . 서울대 , 황우석 연구 동 짓 는다 . 2005 . 09\n",
      "\n",
      "영  어:\t the ministry of science and technology will shoulder the entire 25 billion won construction and facilities cost for the lab , dubbed the hwang woo suk research center .\n",
      "한국어:\t 서울대 가 250 억 원 의 예산 으로 서울 관악 캠퍼스 에 여 황우석 교수 의 줄기 세포 연구 를 위한 첨단 생명 공학 연구 동 을 건설 할 예정 이 다 .\n",
      "\n",
      "영  어:\t attendees at the ceremony to be held at 11 a . m . , include prime minister lee hae chan , seoul metropolitan city mayor lee myung bak and seoul national university president chung un chan .\n",
      "한국어:\t 기공식 에 는 이해찬 국무총리 와 이명박 서울 시장 , 정운찬 서울대 총장 등 이 참석 한다 .\n",
      "\n",
      "영  어:\t the ministry of science and technology will shoulder the entire 25 billion won construction and facilities cost for the lab , dubbed the hwang woo suk research center .\n",
      "한국어:\t “ 황우석 연구 동 ” 이 라 명명 된 이 건물 의 건설 과 시설물 에 드 는 250 억 원 은 전액 과 학기 술부 가 지원 한다 .\n",
      "\n",
      "영  어:\t the cutting edge research facility , which will be completed by october 2006 , will house research facilities for primate studies , stem cell research , animal cloning , and cell transplant and molecular biology research projects .\n",
      "한국어:\t 2006 년 10 월 완공 예정 인 이 최 첨단 연구 동 에 는 영장류 연구 실험 시설 , 줄기세포 연구 실험 시설 , 동물 복제 및 세포 이식 실험실 과 분자 생물학 프로젝트 연구실 이 갖춰질 예정 이 며 황우석 교수 와 공동 연구 를 하 게 될 해외 과학 연구 센터 의 한국 지사 사무실 도 들어올 예정 이 라고 서울대 측 이 전했 다 .\n",
      "\n",
      "영  어:\t the government and the ruling party decided yesterday to pass a bill to delegate autonomy to jeju island .\n",
      "한국어:\t 정부 와 열린 우리 당 은 어제 제주특별자치도 법안 을 정기 국회 내 에 처리 키로 결정 했 다 .\n",
      "\n",
      "영  어:\t the proposed law allows jeju island to gain full self governance of its regional affairs from as early as next july , exercising nearly all administrative authorities independent of the central government .\n",
      "한국어:\t 이 로써 내년 7 월 부터 제주도 는 중앙 정부 로부터 자치 권 을 부여받 아 행정 거의 전 분야 에 걸쳐 권한 을 행사 하 게 된다 .\n",
      "\n",
      "영  어:\t the decision was made with minister of home affairs and administration oh young kyo and won hye young , policy director of the ruling party attending the meeting .\n",
      "한국어:\t 오영교 행정자치부 장관 과 원혜영 열린 우리 당 정책 위 의장 이 참석 한 당정 협회 의 에서 이 같이 결정 했 다 .\n",
      "\n",
      "영  어:\t the special law , proposed by the roh moo hyun government under its plan to make jeju an international city , will delegate the jeju provincial government the independent authority over about 350 kinds of policy areas .\n",
      "한국어:\t 제주도 를 국제 자유 도시 로 조성 하 겠 다는 계획 하 에 노무현 정부 가 내놓 은 특별법 에 는 제주도 가 약 350 개 가 넘 는 정책 분야 에서 자치 권 을 행사 하 게 된다 .\n",
      "\n",
      "영  어:\t those include managing its own police force , education , taxation , public servants , government structure and bond issuance .\n",
      "한국어:\t 여기 에 는 경찰 , 교육 , 세금 , 인사 , 조직 및 채권 발행 등 이 포함 된다 .\n",
      "\n",
      "영  어:\t the decision was made with minister of home affairs and administration oh young kyo and won hye young , policy director of the ruling party attending the meeting .\n",
      "한국어:\t 전교조 , APEC 정상 회의 환영 2005 . 12\n",
      "\n",
      "영  어:\t ee myung bak , the former seoul mayor who is running for the presidency , is currently the likeliest contender to win the grand national party s nomination for the election in november .\n",
      "한국어:\t Lee is the likeliest contender 이명박 전 서울 시장 한나라당 공천 후보 가장 확실시 2007 . 05 원문 독해 설명 인쇄\n",
      "\n",
      "영  어:\t a series of recent public polls gave lee overwhelming support , close to 50 percent in some cases .\n",
      "한국어:\t 최근 잇따라 실시 된 여론 조사 에 따르 면 이 전 시장 이 50 의 지지율 을 얻 는 등 가장 많 은 지지율 을 보인 것 으로 나타났 다 .\n",
      "\n",
      "영  어:\t one concern for lee , however , is that he may not have the firm support of party members who will be voting in the party primary .\n",
      "한국어:\t 그러나 이 전 시장 에게 있 어 한 가지 걸림돌 은 대선 경선 투표 에 참여 할 당원 들 로부터 확고 한 지지 를 받 지 못할 수 도 있 다는 점 이 다 .\n",
      "\n",
      "영  어:\t park geun hye , lee s formidable rival , was the former chairwoman of the party , and it is widely understood that she has greater support than lee among party members .\n",
      "한국어:\t 이 전 시장 의 강력 한 경쟁자 박근혜 는 한나라당 전 대표 였 고 당원 들 사이 에서 는 이 전 시장 보다 훨씬 더 많 은 지지 를 받 고 있 는 것 으로 여겨진다 .\n",
      "\n",
      "영  어:\t one concern for lee , however , is that he may not have the firm support of party members who will be voting in the party primary .\n",
      "한국어:\t S . Korea , US will reach a balanced , high quality FTA 미국 , 균형 있 고 수준 높 은 합의 이뤄낼 것 2007 . 05\n",
      "\n",
      "영  어:\t last minute negotiations between the pilots union and the management failed on the 25th day of the strike , pushing the government to intervene in the dispute to prevent the strike from inflicting more damage to the export industry and inconveniencing passengers during the peak summer holiday season .\n",
      "한국어:\t 파업 25 일 째 를 맞 도록 조종사 노조 와 항공사 측 이 입장 차 를 줄이 지 못하 고 있 어 수출 일정 에 차질 을 빚 고 성수기 여행객 들 이 불편 을 겪 는 일 이 발생 하 면서 더 악화 되 기 전 에 정부 가 개입 하 기 로 결정 됐 다 .\n",
      "\n",
      "영  어:\t this is the third time the ministry of labor has invoked emergency arbitration .\n",
      "한국어:\t 노동부 가 긴급 조정 권 을 발동 한 것 은 지난 1993 년 현대 자동차 노조 파업 과 1999 년 대한 조선 공사 파업 이후 세 번 째 이 다 .\n",
      "\n",
      "영  어:\t and the second was in 1999 at the korea shipbuilding corp .\n",
      "한국어:\t 싸우 고 있 는 양자 를 중재 하 다\n",
      "\n",
      "영  어:\t four in a row isn ' t as rare as four of a kind , but traders are excited about the stock market opening up on the dow again today\n",
      "한국어:\t 증시 의 4 일 연속 상승세 는 포커 의 포 카드 만큼 이나 드문 일 은 아니 지만 , 증권 거래원 들 은 오늘 도 다우 지수 가 상승 하 면서 개장 한 증시 때문 에 흥분 해 있 습니다 .\n",
      "\n",
      "영  어:\t ” that ' s analyst david buick in london , where stocks also have been putting together back to back gains .\n",
      "한국어:\t 방금 들으신 목소리 는 런던 의 애널리스트 인 데이비드 뷰익 씨 로 , 런던 역시 주식 시장 이 연속 적 인 수익 을 내 고 있 습니다 .\n",
      "\n",
      "영  어:\t world markets are embracing encouraging news from banks and other companies but buick warns he thinks this is\n",
      "한국어:\t 세계 시장 은 은행 및 다른 기업 들 의 고무 적 인 소식 을 수용 하 고 있 지만 , 뷰익 씨 는 이 를 다음 과 같이 생각 한다고 말 하 며 경고 했 습니다 .\n",
      "\n",
      "영  어:\t “ is a relief rally , and great to see , but it ' s far too early to say whether it ' s the bottom of the market .\n",
      "한국어:\t 안도 의 회복세 이 며 , 환영 할 만 한 일 이 지만 , 시장 이 바닥 을 찍 었 다고 말 하 기 에 는 아직 너무 이릅니다 . ”\n",
      "\n",
      "영  어:\t ” more slightly good news\n",
      "한국어:\t 작 은 희소식 을 하나 더 전해 드립니다 .\n",
      "\n",
      "영  어:\t the us trade deficit plunged nearly 10 from december to january , but the government reports that ' s only because the recession drove down american demand for oil and other imported goods .\n",
      "한국어:\t 미국 무역 적자 가 12 월 과 1 월 사이 에 10 가까이 떨어졌 습니다 . 그러나 정부 는 경기 침체 로 미국 의 석유 및 다른 수입품 들 의 수요 가 감소 했 기 때문 에 이러 한 결과 가 나타났 다고 발표 했 습니다 .\n",
      "\n",
      "영  어:\t the us needs to move more exports for the overall economy to improve .\n",
      "한국어:\t 미국 경제 전반 이 개선 되 려면 더 많 은 수출 이 이루어져야 합니다 .\n",
      "\n",
      "영  어:\t right now , the dow is up 14 points .\n",
      "한국어:\t 현재 다우 지수 는 14 포인트 상승 했 습니다 .\n",
      "\n",
      "영  어:\t finance ministers from 20 nations are meeting outside london to come up with a fix for the global economic crisis .\n",
      "한국어:\t 20 개국 의 재무 장관 들 이 세계 경제 위기 의 해법 을 마련 하 기 위해 런던 교외 에서 회의 를 하 고 있 습니다 .\n",
      "\n"
     ]
    }
   ],
   "source": [
    "for i in range(1800, 1900):\n",
    "    print(\"영  어:\\t\", eng_test[i])\n",
    "    print(\"한국어:\\t\", kor_test[i])\n",
    "    print()"
   ]
  },
  {
   "cell_type": "code",
   "execution_count": 162,
   "metadata": {},
   "outputs": [
    {
     "name": "stdout",
     "output_type": "stream",
     "text": [
      "Answer: a crowd of about 2 , 000 people , some chanting down , down , usa , greeted the president with rousing cheers when he appeared on his way into the council of ministers meeting .\n",
      "Input: 2000 여 명 이 알 바시르 대통령 이 장관 회의 도중 에 모습 을 나타내 자 그 를 격려 하 는 환호 와 함께 “ 미국 은 물러 나라 는 구호 를 외쳤 다 .\n",
      "Predicted translation: the 12th parade of the president ' s meetings with president rafael rovers , he hailed the crowd from his presidential office in the mideast position of america .\n"
     ]
    },
    {
     "name": "stderr",
     "output_type": "stream",
     "text": [
      "C:\\Users\\kdh\\AppData\\Local\\Temp/ipykernel_3024/1907380975.py:31: UserWarning: Glyph 65533 (\\N{REPLACEMENT CHARACTER}) missing from current font.\n",
      "  plt.tight_layout()\n",
      "C:\\ProgramData\\Anaconda3\\envs\\nlp\\lib\\site-packages\\IPython\\core\\pylabtools.py:151: UserWarning: Glyph 65533 (\\N{REPLACEMENT CHARACTER}) missing from current font.\n",
      "  fig.canvas.print_figure(bytes_io, **kw)\n"
     ]
    },
    {
     "data": {
      "image/png": "[encoded data removed]",
      "text/plain": [
       "<Figure size 2880x1440 with 8 Axes>"
      ]
     },
     "metadata": {
      "needs_background": "light"
     },
     "output_type": "display_data"
    }
   ],
   "source": [
    "n = 750\n",
    "print ('Answer:', eng_test[n])\n",
    "translate(kor_test[n], plot='decoder_layer4_block2')"
   ]
  },
  {
   "cell_type": "code",
   "execution_count": 111,
   "metadata": {},
   "outputs": [
    {
     "name": "stdout",
     "output_type": "stream",
     "text": [
      "are window shopping\n",
      "he was 71 .\n",
      "jamie pittman and\n",
      "cedar rapids .\n",
      "and he is lucky .\n",
      "1 . toy creator\n",
      "2 . food scientist\n",
      "4 . sommelier\n",
      "6 . event planner\n",
      "the first steps\n",
      "3 . not networking\n",
      "the interview\n",
      "after the interview\n",
      "casual style\n",
      "get enough sleep\n",
      "savor the moment\n",
      "take the long view\n",
      "4 . lifeguards\n",
      "have a plan .\n",
      "how times change .\n",
      "darth vader !\n",
      "do some research\n",
      "don ' t lie\n",
      "put on a happy face\n",
      "good to know\n",
      "good to know\n",
      "nuts and seeds\n",
      "good to know\n",
      "what they add\n",
      "good to know\n",
      "good to know\n",
      "i use an oreck xl .\n",
      "heart disease\n",
      "breast cancer\n",
      "chicken pox vaccine\n",
      "shingles vaccine\n",
      "the mumps vaccine\n",
      "mmr booster\n",
      "hepatitis b vaccine\n",
      "indiana jones .\n",
      "1 . the right seat\n",
      "3 . perfect timing\n",
      "god only knows .\n",
      "see the light\n",
      "3 . lend a hand\n",
      "5 . bag a new brew\n",
      "start small\n",
      "first impression\n",
      "free wifi ?\n",
      "the beehive\n",
      "first impression\n",
      "free wi fi ?\n",
      "first impression\n",
      "free wi fi ?\n",
      "one dream .\n",
      "free tibet .\n",
      "it ' s business .\n",
      "can the can lights\n",
      "4 . soundtrack\n",
      "6 . take a look\n",
      "fight the future .\n",
      "the air is thin .\n",
      "people are giddy .\n",
      "people take pills .\n",
      "talk about it\n",
      "depoe bay , oregon\n",
      "maui , hawaii\n",
      "a skinny macbook .\n",
      "iphone updates .\n",
      "movie rentals .\n",
      "drm free music .\n",
      "big island , hawaii\n",
      "who was cooper ?\n",
      "restaurants\n",
      "at world ' s end .\n",
      "a space odyssey .\n",
      "improve your kiss\n",
      "improve your kiss\n",
      "rocks the ' 80s .\n",
      "arrive early\n",
      "meet the smart car\n",
      "1 . peanut butter\n",
      "4 . avocado\n",
      "5 . mushrooms\n",
      "clapton is good .\n",
      "the autobiography .\n",
      "spears drives off .\n",
      "bloody right !\n",
      "paul also died .\n",
      "beach hotel\n",
      "surf school\n",
      "tasty lunch\n",
      "fruit drink\n",
      "this was perfect .\n",
      "tapestries .\n",
      "change your life .\n",
      "am i in heaven ?\n",
      "let ' s go !\n",
      "make a baby .\n",
      "she wasn ' t fat .\n",
      "lesson learned\n",
      "lesson learned\n",
      "scarlett johansson\n",
      "sun exposure .\n",
      "expect to bargain .\n",
      "aero statistics\n",
      "transformers\n",
      "transformers\n",
      "did it fall off ?\n",
      "8212 half the size\n",
      "suicide blast\n",
      "forget the tuxedo .\n",
      "body was dadullah .\n",
      "sound familiar ?\n",
      "i don ' t know .\n",
      "map of blacksburg\n",
      "fashions change .\n",
      "read full story\n",
      "we were lucky .\n",
      "look at me .\n",
      "pfann said .\n",
      "other winners\n",
      "he says he is god .\n",
      "she has the right .\n",
      "the answer is\n",
      "in the end , drs .\n",
      "' national demand '\n",
      "ordered not to cry\n",
      "changing times\n",
      "schism created\n",
      "this is not fair .\n",
      "it is my child .\n",
      "chirac asked .\n",
      "i ' m innocent .\n",
      "it is my child .\n",
      "chirac asked .\n",
      "i ' m innocent .\n",
      "it is my child .\n",
      "chirac asked .\n",
      "i ' m innocent .\n",
      "it is my child .\n",
      "chirac asked .\n",
      "i ' m innocent .\n",
      "it is my child .\n",
      "chirac asked .\n",
      "i ' m innocent .\n",
      "it is my child .\n",
      "chirac asked .\n",
      "i ' m innocent .\n",
      "it is my child .\n",
      "chirac asked .\n",
      "i ' m innocent .\n",
      "it is my child .\n",
      "chirac asked .\n",
      "i ' m innocent .\n",
      "rebuilding would be\n",
      "a slap on the wrist\n",
      "overseas remittance\n",
      "the ppp leader said\n",
      "voice one s opinion\n"
     ]
    }
   ],
   "source": [
    "for se in eng:\n",
    "    if 10 < len(se) < 20:\n",
    "        print(se)"
   ]
  },
  {
   "cell_type": "markdown",
   "metadata": {
    "id": "RqQ1fIsLwkGE"
   },
   "source": [
    "## Summary\n",
    "\n",
    "In this tutorial, you learned about positional encoding, multi-head attention, the importance of masking and how to create a transformer.\n",
    "\n",
    "Try using a different dataset to train the transformer. You can also create the base transformer or transformer XL by changing the hyperparameters above. You can also use the layers defined here to create [BERT](https://arxiv.org/abs/1810.04805) and train state of the art models. Futhermore, you can implement beam search to get better predictions."
   ]
  }
 ],
 "metadata": {
  "interpreter": {
   "hash": "5db0bf8e65298cb01341d1d0401e9d0f1ebbad7939f704a64363986abd13b2a8"
  },
  "kernelspec": {
   "display_name": "Python 3.8.12 64-bit ('nlp': conda)",
   "language": "python",
   "name": "python3"
  },
  "language_info": {
   "codemirror_mode": {
    "name": "ipython",
    "version": 3
   },
   "file_extension": ".py",
   "mimetype": "text/x-python",
   "name": "python",
   "nbconvert_exporter": "python",
   "pygments_lexer": "ipython3",
   "version": "3.8.12"
  },
  "orig_nbformat": 4
 },
 "nbformat": 4,
 "nbformat_minor": 2
}
